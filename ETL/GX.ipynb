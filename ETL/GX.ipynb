{
 "cells": [
  {
   "cell_type": "markdown",
   "id": "e557168c",
   "metadata": {},
   "source": [
    "# Great Expectation"
   ]
  },
  {
   "cell_type": "markdown",
   "id": "c760e5e2",
   "metadata": {},
   "source": [
    "---\n",
    "\n",
    "Notebook ini digunakan untuk proses analysis Great Expectation.\n",
    "\n",
    "Analysis dilakukan untuk validasi dataset dan menjaga data quality agar bisa lebih reliable dalam penggunaan dan pengolahan lebih lanjut.\n",
    "\n",
    "---"
   ]
  },
  {
   "cell_type": "code",
   "execution_count": 1,
   "id": "b31f2fb0",
   "metadata": {},
   "outputs": [],
   "source": [
    "# Import libraries\n",
    "\n",
    "import pandas as pd\n",
    "import great_expectations as ge\n",
    "from great_expectations.checkpoint import SimpleCheckpoint"
   ]
  },
  {
   "cell_type": "code",
   "execution_count": 2,
   "id": "723ce696",
   "metadata": {},
   "outputs": [],
   "source": [
    "# Load GX context\n",
    "context = ge.get_context()\n",
    "\n",
    "# Add datasource\n",
    "datasource = context.sources.add_or_update_pandas(name=\"smartwatch_csv_datasource\")\n",
    "\n",
    "# Load CSV and make asset\n",
    "csv_file = \"data_product.csv\"  \n",
    "asset = datasource.add_csv_asset(name=\"smartwatch_asset\", filepath_or_buffer=csv_file)\n",
    "\n",
    "# Batch Request\n",
    "batch_request = asset.build_batch_request()\n",
    "\n",
    "# Expectation Suite\n",
    "suite_name = \"smartwatch_suite\"\n",
    "suite = context.add_or_update_expectation_suite(expectation_suite_name=suite_name)\n",
    "\n",
    "# Create Validator\n",
    "validator = context.get_validator(\n",
    "    batch_request=batch_request,\n",
    "    expectation_suite_name=suite_name)"
   ]
  },
  {
   "cell_type": "code",
   "execution_count": 3,
   "id": "43df5683",
   "metadata": {},
   "outputs": [
    {
     "data": {
      "application/vnd.jupyter.widget-view+json": {
       "model_id": "8c3ecd05a825424f9ee3e1584834864c",
       "version_major": 2,
       "version_minor": 0
      },
      "text/plain": [
       "Calculating Metrics:   0%|          | 0/6 [00:00<?, ?it/s]"
      ]
     },
     "metadata": {},
     "output_type": "display_data"
    },
    {
     "data": {
      "text/plain": [
       "{\n",
       "  \"success\": true,\n",
       "  \"result\": {\n",
       "    \"element_count\": 276,\n",
       "    \"unexpected_count\": 0,\n",
       "    \"unexpected_percent\": 0.0,\n",
       "    \"partial_unexpected_list\": []\n",
       "  },\n",
       "  \"meta\": {},\n",
       "  \"exception_info\": {\n",
       "    \"raised_exception\": false,\n",
       "    \"exception_traceback\": null,\n",
       "    \"exception_message\": null\n",
       "  }\n",
       "}"
      ]
     },
     "execution_count": 3,
     "metadata": {},
     "output_type": "execute_result"
    }
   ],
   "source": [
    "# 1. To not be missing value\n",
    "\n",
    "validator.expect_column_values_to_not_be_null('products')"
   ]
  },
  {
   "cell_type": "markdown",
   "id": "8ef4b4b9",
   "metadata": {},
   "source": [
    "True, tidak ada missing value di kolom prducts."
   ]
  },
  {
   "cell_type": "code",
   "execution_count": 4,
   "id": "3164ccb9",
   "metadata": {},
   "outputs": [
    {
     "data": {
      "application/vnd.jupyter.widget-view+json": {
       "model_id": "899a067f2b064d168dca4250f09fb461",
       "version_major": 2,
       "version_minor": 0
      },
      "text/plain": [
       "Calculating Metrics:   0%|          | 0/8 [00:00<?, ?it/s]"
      ]
     },
     "metadata": {},
     "output_type": "display_data"
    },
    {
     "data": {
      "text/plain": [
       "{\n",
       "  \"success\": true,\n",
       "  \"result\": {\n",
       "    \"element_count\": 276,\n",
       "    \"unexpected_count\": 0,\n",
       "    \"unexpected_percent\": 0.0,\n",
       "    \"partial_unexpected_list\": [],\n",
       "    \"missing_count\": 0,\n",
       "    \"missing_percent\": 0.0,\n",
       "    \"unexpected_percent_total\": 0.0,\n",
       "    \"unexpected_percent_nonmissing\": 0.0\n",
       "  },\n",
       "  \"meta\": {},\n",
       "  \"exception_info\": {\n",
       "    \"raised_exception\": false,\n",
       "    \"exception_traceback\": null,\n",
       "    \"exception_message\": null\n",
       "  }\n",
       "}"
      ]
     },
     "execution_count": 4,
     "metadata": {},
     "output_type": "execute_result"
    }
   ],
   "source": [
    "# 2. To be between min_value and max_value\n",
    "\n",
    "validator.expect_column_values_to_be_between('rating', min_value=1, max_value=5)"
   ]
  },
  {
   "cell_type": "markdown",
   "id": "52a71b9b",
   "metadata": {},
   "source": [
    "True, nilai rating antara 1-5."
   ]
  },
  {
   "cell_type": "code",
   "execution_count": 5,
   "id": "818357a8",
   "metadata": {},
   "outputs": [
    {
     "data": {
      "application/vnd.jupyter.widget-view+json": {
       "model_id": "d64f62afb5574ee8a0a0a928704d5b4a",
       "version_major": 2,
       "version_minor": 0
      },
      "text/plain": [
       "Calculating Metrics:   0%|          | 0/2 [00:00<?, ?it/s]"
      ]
     },
     "metadata": {},
     "output_type": "display_data"
    },
    {
     "data": {
      "text/plain": [
       "{\n",
       "  \"success\": true,\n",
       "  \"result\": {},\n",
       "  \"meta\": {},\n",
       "  \"exception_info\": {\n",
       "    \"raised_exception\": false,\n",
       "    \"exception_traceback\": null,\n",
       "    \"exception_message\": null\n",
       "  }\n",
       "}"
      ]
     },
     "execution_count": 5,
     "metadata": {},
     "output_type": "execute_result"
    }
   ],
   "source": [
    "# 3. To be exist\n",
    "\n",
    "validator.expect_column_to_exist(column='rating')"
   ]
  },
  {
   "cell_type": "markdown",
   "id": "281f7bbc",
   "metadata": {},
   "source": [
    "True, rating harus ada karena penting untuk proses selanjutnya untuk memberikan rekomendasi kepada user."
   ]
  },
  {
   "cell_type": "code",
   "execution_count": 6,
   "id": "62a99ccc",
   "metadata": {},
   "outputs": [
    {
     "data": {
      "application/vnd.jupyter.widget-view+json": {
       "model_id": "7ca94d6c40ea42ea9b3bed316e514e0f",
       "version_major": 2,
       "version_minor": 0
      },
      "text/plain": [
       "Calculating Metrics:   0%|          | 0/8 [00:00<?, ?it/s]"
      ]
     },
     "metadata": {},
     "output_type": "display_data"
    },
    {
     "data": {
      "text/plain": [
       "{\n",
       "  \"success\": true,\n",
       "  \"result\": {\n",
       "    \"element_count\": 276,\n",
       "    \"unexpected_count\": 0,\n",
       "    \"unexpected_percent\": 0.0,\n",
       "    \"partial_unexpected_list\": [],\n",
       "    \"missing_count\": 0,\n",
       "    \"missing_percent\": 0.0,\n",
       "    \"unexpected_percent_total\": 0.0,\n",
       "    \"unexpected_percent_nonmissing\": 0.0\n",
       "  },\n",
       "  \"meta\": {},\n",
       "  \"exception_info\": {\n",
       "    \"raised_exception\": false,\n",
       "    \"exception_traceback\": null,\n",
       "    \"exception_message\": null\n",
       "  }\n",
       "}"
      ]
     },
     "execution_count": 6,
     "metadata": {},
     "output_type": "execute_result"
    }
   ],
   "source": [
    "# 4. To be in Set\n",
    "\n",
    "valid_brand = ['Amazfit', 'Apple Watch', 'Fitbit', 'Garmin', 'Google', 'Huawei', 'Samsung', 'Xiaomi']\n",
    "validator.expect_column_values_to_be_in_set('brand', valid_brand)"
   ]
  },
  {
   "cell_type": "markdown",
   "id": "5fd014ac",
   "metadata": {},
   "source": [
    "True, kolom brnad berisi brand sesuai list brand program ini."
   ]
  },
  {
   "cell_type": "code",
   "execution_count": 7,
   "id": "9e20adc1",
   "metadata": {},
   "outputs": [
    {
     "data": {
      "application/vnd.jupyter.widget-view+json": {
       "model_id": "434f8a933a674b528f08c07e07a35483",
       "version_major": 2,
       "version_minor": 0
      },
      "text/plain": [
       "Calculating Metrics:   0%|          | 0/1 [00:00<?, ?it/s]"
      ]
     },
     "metadata": {},
     "output_type": "display_data"
    },
    {
     "data": {
      "text/plain": [
       "{\n",
       "  \"success\": true,\n",
       "  \"result\": {\n",
       "    \"observed_value\": \"float64\"\n",
       "  },\n",
       "  \"meta\": {},\n",
       "  \"exception_info\": {\n",
       "    \"raised_exception\": false,\n",
       "    \"exception_traceback\": null,\n",
       "    \"exception_message\": null\n",
       "  }\n",
       "}"
      ]
     },
     "execution_count": 7,
     "metadata": {},
     "output_type": "execute_result"
    }
   ],
   "source": [
    "# 5. To be in Type List\n",
    "\n",
    "validator.expect_column_values_to_be_in_type_list('price', ['integer', 'float'])"
   ]
  },
  {
   "cell_type": "markdown",
   "id": "47620f1d",
   "metadata": {},
   "source": [
    "True, nilai price haruslah numerikal."
   ]
  },
  {
   "cell_type": "code",
   "execution_count": 8,
   "id": "434d93f8",
   "metadata": {},
   "outputs": [
    {
     "data": {
      "application/vnd.jupyter.widget-view+json": {
       "model_id": "befad4ff33b44ace83afac9f48255a5a",
       "version_major": 2,
       "version_minor": 0
      },
      "text/plain": [
       "Calculating Metrics:   0%|          | 0/8 [00:00<?, ?it/s]"
      ]
     },
     "metadata": {},
     "output_type": "display_data"
    },
    {
     "data": {
      "text/plain": [
       "{\n",
       "  \"success\": true,\n",
       "  \"result\": {\n",
       "    \"element_count\": 276,\n",
       "    \"unexpected_count\": 0,\n",
       "    \"unexpected_percent\": 0.0,\n",
       "    \"partial_unexpected_list\": [],\n",
       "    \"missing_count\": 0,\n",
       "    \"missing_percent\": 0.0,\n",
       "    \"unexpected_percent_total\": 0.0,\n",
       "    \"unexpected_percent_nonmissing\": 0.0\n",
       "  },\n",
       "  \"meta\": {},\n",
       "  \"exception_info\": {\n",
       "    \"raised_exception\": false,\n",
       "    \"exception_traceback\": null,\n",
       "    \"exception_message\": null\n",
       "  }\n",
       "}"
      ]
     },
     "execution_count": 8,
     "metadata": {},
     "output_type": "execute_result"
    }
   ],
   "source": [
    "# 6. To Match Regex\n",
    "\n",
    "validator.expect_column_values_to_match_regex(\n",
    "    'products',\n",
    "    r'(?i)(Amazfit|Apple Watch|Fitbit|Garmin|Xiaomi|Huawei Watch|Samsung|Google Pixel)'\n",
    ")"
   ]
  },
  {
   "cell_type": "markdown",
   "id": "54e3d2da",
   "metadata": {},
   "source": [
    "True, nama product harus sesuai regex brand yang ditentukan."
   ]
  },
  {
   "cell_type": "code",
   "execution_count": 9,
   "id": "254c4691",
   "metadata": {},
   "outputs": [
    {
     "data": {
      "application/vnd.jupyter.widget-view+json": {
       "model_id": "0db671ff485c4c0dab424d3a93aee900",
       "version_major": 2,
       "version_minor": 0
      },
      "text/plain": [
       "Calculating Metrics:   0%|          | 0/4 [00:00<?, ?it/s]"
      ]
     },
     "metadata": {},
     "output_type": "display_data"
    },
    {
     "data": {
      "text/plain": [
       "{\n",
       "  \"success\": true,\n",
       "  \"result\": {\n",
       "    \"observed_value\": 5.0\n",
       "  },\n",
       "  \"meta\": {},\n",
       "  \"exception_info\": {\n",
       "    \"raised_exception\": false,\n",
       "    \"exception_traceback\": null,\n",
       "    \"exception_message\": null\n",
       "  }\n",
       "}"
      ]
     },
     "execution_count": 9,
     "metadata": {},
     "output_type": "execute_result"
    }
   ],
   "source": [
    "# 7. To be max\n",
    "\n",
    "validator.expect_column_max_to_be_between('rating', 5)"
   ]
  },
  {
   "cell_type": "markdown",
   "id": "df8a841b",
   "metadata": {},
   "source": [
    "True, nilai rating hanya bisa maksimal 5."
   ]
  },
  {
   "cell_type": "code",
   "execution_count": 10,
   "id": "b22686dd",
   "metadata": {},
   "outputs": [],
   "source": [
    "# Save into Expectation Suite\n",
    "validator.save_expectation_suite(discard_failed_expectations=False)"
   ]
  },
  {
   "cell_type": "code",
   "execution_count": 11,
   "id": "f9c5169a",
   "metadata": {},
   "outputs": [
    {
     "data": {
      "application/vnd.jupyter.widget-view+json": {
       "model_id": "b47b62f039814bcbb85e8566e60fa06a",
       "version_major": 2,
       "version_minor": 0
      },
      "text/plain": [
       "Calculating Metrics:   0%|          | 0/28 [00:00<?, ?it/s]"
      ]
     },
     "metadata": {},
     "output_type": "display_data"
    },
    {
     "name": "stdout",
     "output_type": "stream",
     "text": [
      "{\n",
      "  \"run_id\": {\n",
      "    \"run_name\": null,\n",
      "    \"run_time\": \"2025-07-16T20:10:03.778737+08:00\"\n",
      "  },\n",
      "  \"run_results\": {\n",
      "    \"ValidationResultIdentifier::smartwatch_suite/__none__/20250716T121003.778737Z/smartwatch_csv_datasource-smartwatch_asset\": {\n",
      "      \"validation_result\": {\n",
      "        \"success\": true,\n",
      "        \"results\": [\n",
      "          {\n",
      "            \"success\": true,\n",
      "            \"expectation_config\": {\n",
      "              \"expectation_type\": \"expect_column_values_to_not_be_null\",\n",
      "              \"kwargs\": {\n",
      "                \"column\": \"products\",\n",
      "                \"batch_id\": \"smartwatch_csv_datasource-smartwatch_asset\"\n",
      "              },\n",
      "              \"meta\": {}\n",
      "            },\n",
      "            \"result\": {\n",
      "              \"element_count\": 276,\n",
      "              \"unexpected_count\": 0,\n",
      "              \"unexpected_percent\": 0.0,\n",
      "              \"partial_unexpected_list\": [],\n",
      "              \"partial_unexpected_counts\": [],\n",
      "              \"partial_unexpected_index_list\": []\n",
      "            },\n",
      "            \"meta\": {},\n",
      "            \"exception_info\": {\n",
      "              \"raised_exception\": false,\n",
      "              \"exception_traceback\": null,\n",
      "              \"exception_message\": null\n",
      "            }\n",
      "          },\n",
      "          {\n",
      "            \"success\": true,\n",
      "            \"expectation_config\": {\n",
      "              \"expectation_type\": \"expect_column_values_to_match_regex\",\n",
      "              \"kwargs\": {\n",
      "                \"column\": \"products\",\n",
      "                \"regex\": \"(?i)(Amazfit|Apple Watch|Fitbit|Garmin|Xiaomi|Huawei Watch|Samsung|Google Pixel)\",\n",
      "                \"batch_id\": \"smartwatch_csv_datasource-smartwatch_asset\"\n",
      "              },\n",
      "              \"meta\": {}\n",
      "            },\n",
      "            \"result\": {\n",
      "              \"element_count\": 276,\n",
      "              \"unexpected_count\": 0,\n",
      "              \"unexpected_percent\": 0.0,\n",
      "              \"partial_unexpected_list\": [],\n",
      "              \"missing_count\": 0,\n",
      "              \"missing_percent\": 0.0,\n",
      "              \"unexpected_percent_total\": 0.0,\n",
      "              \"unexpected_percent_nonmissing\": 0.0,\n",
      "              \"partial_unexpected_counts\": [],\n",
      "              \"partial_unexpected_index_list\": []\n",
      "            },\n",
      "            \"meta\": {},\n",
      "            \"exception_info\": {\n",
      "              \"raised_exception\": false,\n",
      "              \"exception_traceback\": null,\n",
      "              \"exception_message\": null\n",
      "            }\n",
      "          },\n",
      "          {\n",
      "            \"success\": true,\n",
      "            \"expectation_config\": {\n",
      "              \"expectation_type\": \"expect_column_values_to_be_between\",\n",
      "              \"kwargs\": {\n",
      "                \"min_value\": 1,\n",
      "                \"max_value\": 5,\n",
      "                \"column\": \"rating\",\n",
      "                \"batch_id\": \"smartwatch_csv_datasource-smartwatch_asset\"\n",
      "              },\n",
      "              \"meta\": {}\n",
      "            },\n",
      "            \"result\": {\n",
      "              \"element_count\": 276,\n",
      "              \"unexpected_count\": 0,\n",
      "              \"unexpected_percent\": 0.0,\n",
      "              \"partial_unexpected_list\": [],\n",
      "              \"missing_count\": 0,\n",
      "              \"missing_percent\": 0.0,\n",
      "              \"unexpected_percent_total\": 0.0,\n",
      "              \"unexpected_percent_nonmissing\": 0.0,\n",
      "              \"partial_unexpected_counts\": [],\n",
      "              \"partial_unexpected_index_list\": []\n",
      "            },\n",
      "            \"meta\": {},\n",
      "            \"exception_info\": {\n",
      "              \"raised_exception\": false,\n",
      "              \"exception_traceback\": null,\n",
      "              \"exception_message\": null\n",
      "            }\n",
      "          },\n",
      "          {\n",
      "            \"success\": true,\n",
      "            \"expectation_config\": {\n",
      "              \"expectation_type\": \"expect_column_to_exist\",\n",
      "              \"kwargs\": {\n",
      "                \"column\": \"rating\",\n",
      "                \"batch_id\": \"smartwatch_csv_datasource-smartwatch_asset\"\n",
      "              },\n",
      "              \"meta\": {}\n",
      "            },\n",
      "            \"result\": {},\n",
      "            \"meta\": {},\n",
      "            \"exception_info\": {\n",
      "              \"raised_exception\": false,\n",
      "              \"exception_traceback\": null,\n",
      "              \"exception_message\": null\n",
      "            }\n",
      "          },\n",
      "          {\n",
      "            \"success\": true,\n",
      "            \"expectation_config\": {\n",
      "              \"expectation_type\": \"expect_column_max_to_be_between\",\n",
      "              \"kwargs\": {\n",
      "                \"column\": \"rating\",\n",
      "                \"min_value\": 5,\n",
      "                \"batch_id\": \"smartwatch_csv_datasource-smartwatch_asset\"\n",
      "              },\n",
      "              \"meta\": {}\n",
      "            },\n",
      "            \"result\": {\n",
      "              \"observed_value\": 5.0\n",
      "            },\n",
      "            \"meta\": {},\n",
      "            \"exception_info\": {\n",
      "              \"raised_exception\": false,\n",
      "              \"exception_traceback\": null,\n",
      "              \"exception_message\": null\n",
      "            }\n",
      "          },\n",
      "          {\n",
      "            \"success\": true,\n",
      "            \"expectation_config\": {\n",
      "              \"expectation_type\": \"expect_column_values_to_be_in_set\",\n",
      "              \"kwargs\": {\n",
      "                \"column\": \"brand\",\n",
      "                \"value_set\": [\n",
      "                  \"Amazfit\",\n",
      "                  \"Apple Watch\",\n",
      "                  \"Fitbit\",\n",
      "                  \"Garmin\",\n",
      "                  \"Google\",\n",
      "                  \"Huawei\",\n",
      "                  \"Samsung\",\n",
      "                  \"Xiaomi\"\n",
      "                ],\n",
      "                \"batch_id\": \"smartwatch_csv_datasource-smartwatch_asset\"\n",
      "              },\n",
      "              \"meta\": {}\n",
      "            },\n",
      "            \"result\": {\n",
      "              \"element_count\": 276,\n",
      "              \"unexpected_count\": 0,\n",
      "              \"unexpected_percent\": 0.0,\n",
      "              \"partial_unexpected_list\": [],\n",
      "              \"missing_count\": 0,\n",
      "              \"missing_percent\": 0.0,\n",
      "              \"unexpected_percent_total\": 0.0,\n",
      "              \"unexpected_percent_nonmissing\": 0.0,\n",
      "              \"partial_unexpected_counts\": [],\n",
      "              \"partial_unexpected_index_list\": []\n",
      "            },\n",
      "            \"meta\": {},\n",
      "            \"exception_info\": {\n",
      "              \"raised_exception\": false,\n",
      "              \"exception_traceback\": null,\n",
      "              \"exception_message\": null\n",
      "            }\n",
      "          },\n",
      "          {\n",
      "            \"success\": true,\n",
      "            \"expectation_config\": {\n",
      "              \"expectation_type\": \"expect_column_values_to_be_in_type_list\",\n",
      "              \"kwargs\": {\n",
      "                \"column\": \"price\",\n",
      "                \"type_list\": [\n",
      "                  \"integer\",\n",
      "                  \"float\"\n",
      "                ],\n",
      "                \"batch_id\": \"smartwatch_csv_datasource-smartwatch_asset\"\n",
      "              },\n",
      "              \"meta\": {}\n",
      "            },\n",
      "            \"result\": {\n",
      "              \"observed_value\": \"float64\"\n",
      "            },\n",
      "            \"meta\": {},\n",
      "            \"exception_info\": {\n",
      "              \"raised_exception\": false,\n",
      "              \"exception_traceback\": null,\n",
      "              \"exception_message\": null\n",
      "            }\n",
      "          }\n",
      "        ],\n",
      "        \"evaluation_parameters\": {},\n",
      "        \"statistics\": {\n",
      "          \"evaluated_expectations\": 7,\n",
      "          \"successful_expectations\": 7,\n",
      "          \"unsuccessful_expectations\": 0,\n",
      "          \"success_percent\": 100.0\n",
      "        },\n",
      "        \"meta\": {\n",
      "          \"great_expectations_version\": \"0.18.22\",\n",
      "          \"expectation_suite_name\": \"smartwatch_suite\",\n",
      "          \"run_id\": {\n",
      "            \"run_name\": null,\n",
      "            \"run_time\": \"2025-07-16T20:10:03.778737+08:00\"\n",
      "          },\n",
      "          \"batch_spec\": {\n",
      "            \"reader_method\": \"read_csv\",\n",
      "            \"reader_options\": {\n",
      "              \"filepath_or_buffer\": \"data_product.csv\"\n",
      "            }\n",
      "          },\n",
      "          \"batch_markers\": {\n",
      "            \"ge_load_time\": \"20250716T121003.433873Z\",\n",
      "            \"pandas_data_fingerprint\": \"48d8261ba5583f7f7cbb00f90f72ff33\"\n",
      "          },\n",
      "          \"active_batch_definition\": {\n",
      "            \"datasource_name\": \"smartwatch_csv_datasource\",\n",
      "            \"data_connector_name\": \"fluent\",\n",
      "            \"data_asset_name\": \"smartwatch_asset\",\n",
      "            \"batch_identifiers\": {}\n",
      "          },\n",
      "          \"validation_time\": \"20250716T121003.804326Z\",\n",
      "          \"checkpoint_name\": \"smartwatch_csv_checkpoint\",\n",
      "          \"validation_id\": null,\n",
      "          \"checkpoint_id\": null\n",
      "        }\n",
      "      },\n",
      "      \"actions_results\": {\n",
      "        \"store_validation_result\": {\n",
      "          \"class\": \"StoreValidationResultAction\"\n",
      "        },\n",
      "        \"store_evaluation_params\": {\n",
      "          \"class\": \"StoreEvaluationParametersAction\"\n",
      "        },\n",
      "        \"update_data_docs\": {\n",
      "          \"local_site\": \"file:///var/folders/04/lh8x_wwn4nvc3csgf4p_0tn80000gn/T/tmpwphifzbq/validations/smartwatch_suite/__none__/20250716T121003.778737Z/smartwatch_csv_datasource-smartwatch_asset.html\",\n",
      "          \"class\": \"UpdateDataDocsAction\"\n",
      "        }\n",
      "      }\n",
      "    }\n",
      "  },\n",
      "  \"checkpoint_config\": {\n",
      "    \"notify_on\": null,\n",
      "    \"module_name\": \"great_expectations.checkpoint\",\n",
      "    \"profilers\": [],\n",
      "    \"run_name_template\": null,\n",
      "    \"evaluation_parameters\": {},\n",
      "    \"template_name\": null,\n",
      "    \"site_names\": null,\n",
      "    \"batch_request\": {},\n",
      "    \"default_validation_id\": null,\n",
      "    \"name\": \"smartwatch_csv_checkpoint\",\n",
      "    \"class_name\": \"SimpleCheckpoint\",\n",
      "    \"action_list\": [\n",
      "      {\n",
      "        \"name\": \"store_validation_result\",\n",
      "        \"action\": {\n",
      "          \"class_name\": \"StoreValidationResultAction\"\n",
      "        }\n",
      "      },\n",
      "      {\n",
      "        \"name\": \"store_evaluation_params\",\n",
      "        \"action\": {\n",
      "          \"class_name\": \"StoreEvaluationParametersAction\"\n",
      "        }\n",
      "      },\n",
      "      {\n",
      "        \"name\": \"update_data_docs\",\n",
      "        \"action\": {\n",
      "          \"class_name\": \"UpdateDataDocsAction\"\n",
      "        }\n",
      "      }\n",
      "    ],\n",
      "    \"runtime_configuration\": {},\n",
      "    \"expectation_suite_name\": \"smartwatch_suite\",\n",
      "    \"validations\": [],\n",
      "    \"config_version\": 1.0,\n",
      "    \"notify_with\": null,\n",
      "    \"ge_cloud_id\": null,\n",
      "    \"expectation_suite_ge_cloud_id\": null,\n",
      "    \"slack_webhook\": null\n",
      "  },\n",
      "  \"success\": true\n",
      "}\n"
     ]
    }
   ],
   "source": [
    "# Create a Checkpoint\n",
    "checkpoint = SimpleCheckpoint(\n",
    "    name=\"smartwatch_csv_checkpoint\",\n",
    "    data_context=context,\n",
    "    validator=validator\n",
    ")\n",
    "\n",
    "result = checkpoint.run()\n",
    "print(result)"
   ]
  },
  {
   "cell_type": "markdown",
   "id": "27d10828",
   "metadata": {},
   "source": [
    "Berdasarkan hasil great expectation analysis, dataset setelah proses cleaning valid dan reliable untuk digunakan pada proses selanjutnya."
   ]
  }
 ],
 "metadata": {
  "kernelspec": {
   "display_name": "h8_env",
   "language": "python",
   "name": "python3"
  },
  "language_info": {
   "codemirror_mode": {
    "name": "ipython",
    "version": 3
   },
   "file_extension": ".py",
   "mimetype": "text/x-python",
   "name": "python",
   "nbconvert_exporter": "python",
   "pygments_lexer": "ipython3",
   "version": "3.9.23"
  }
 },
 "nbformat": 4,
 "nbformat_minor": 5
}
