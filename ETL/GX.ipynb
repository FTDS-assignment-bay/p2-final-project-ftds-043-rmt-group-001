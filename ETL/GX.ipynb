{
 "cells": [
  {
   "cell_type": "markdown",
   "id": "e557168c",
   "metadata": {},
   "source": [
    "# Great Expectation"
   ]
  },
  {
   "cell_type": "markdown",
   "id": "c760e5e2",
   "metadata": {},
   "source": [
    "---\n",
    "\n",
    "Notebook ini digunakan untuk proses analysis Great Expectation.\n",
    "\n",
    "Analysis dilakukan untuk validasi dataset dan menjaga data quality agar bisa lebih reliable dalam penggunaan dan pengolahan lebih lanjut.\n",
    "\n",
    "---"
   ]
  },
  {
   "cell_type": "code",
   "execution_count": 118,
   "id": "b31f2fb0",
   "metadata": {},
   "outputs": [],
   "source": [
    "# Import libraries\n",
    "\n",
    "import pandas as pd\n",
    "import great_expectations as ge"
   ]
  },
  {
   "cell_type": "code",
   "execution_count": 119,
   "id": "dd03e061",
   "metadata": {},
   "outputs": [],
   "source": [
    "# Load cleaned data\n",
    "\n",
    "df = pd.read_csv(\"data_product.csv\")\n"
   ]
  },
  {
   "cell_type": "code",
   "execution_count": 120,
   "id": "b8cafb88",
   "metadata": {},
   "outputs": [
    {
     "data": {
      "text/html": [
       "<div>\n",
       "<style scoped>\n",
       "    .dataframe tbody tr th:only-of-type {\n",
       "        vertical-align: middle;\n",
       "    }\n",
       "\n",
       "    .dataframe tbody tr th {\n",
       "        vertical-align: top;\n",
       "    }\n",
       "\n",
       "    .dataframe thead th {\n",
       "        text-align: right;\n",
       "    }\n",
       "</style>\n",
       "<table border=\"1\" class=\"dataframe\">\n",
       "  <thead>\n",
       "    <tr style=\"text-align: right;\">\n",
       "      <th></th>\n",
       "      <th>products</th>\n",
       "      <th>rating</th>\n",
       "      <th>price</th>\n",
       "      <th>features</th>\n",
       "      <th>battery</th>\n",
       "      <th>connectivity</th>\n",
       "      <th>gps</th>\n",
       "      <th>screen_size</th>\n",
       "      <th>img_url</th>\n",
       "      <th>brand</th>\n",
       "    </tr>\n",
       "  </thead>\n",
       "  <tbody>\n",
       "    <tr>\n",
       "      <th>0</th>\n",
       "      <td>Amazfit Bip 6</td>\n",
       "      <td>4.5</td>\n",
       "      <td>74.99</td>\n",
       "      <td>Multisport Tracker, Text Messaging, AI Assista...</td>\n",
       "      <td>340.0</td>\n",
       "      <td>Bluetooth</td>\n",
       "      <td>1.0</td>\n",
       "      <td>1.97</td>\n",
       "      <td>https://m.media-amazon.com/images/I/61UvVTN0IE...</td>\n",
       "      <td>Amazfit</td>\n",
       "    </tr>\n",
       "    <tr>\n",
       "      <th>1</th>\n",
       "      <td>Amazfit Active 2</td>\n",
       "      <td>4.5</td>\n",
       "      <td>75.99</td>\n",
       "      <td>Multisport Tracker, Text Messaging, AI Assista...</td>\n",
       "      <td>270.0</td>\n",
       "      <td>Bluetooth</td>\n",
       "      <td>1.0</td>\n",
       "      <td>1.32</td>\n",
       "      <td>https://m.media-amazon.com/images/I/71mpuO4Lqe...</td>\n",
       "      <td>Amazfit</td>\n",
       "    </tr>\n",
       "    <tr>\n",
       "      <th>2</th>\n",
       "      <td>Amazfit T-Rex 3</td>\n",
       "      <td>4.4</td>\n",
       "      <td>189.99</td>\n",
       "      <td>Maps, Altitude Assistant, Compass, dual-band G...</td>\n",
       "      <td>0.0</td>\n",
       "      <td>Bluetooth, Wi-Fi</td>\n",
       "      <td>1.0</td>\n",
       "      <td>1.50</td>\n",
       "      <td>https://m.media-amazon.com/images/I/71GtgMbKvK...</td>\n",
       "      <td>Amazfit</td>\n",
       "    </tr>\n",
       "    <tr>\n",
       "      <th>3</th>\n",
       "      <td>Amazfit Active 2</td>\n",
       "      <td>4.5</td>\n",
       "      <td>94.99</td>\n",
       "      <td>Multisport Tracker, Text Messaging, AI Assista...</td>\n",
       "      <td>270.0</td>\n",
       "      <td>Bluetooth</td>\n",
       "      <td>1.0</td>\n",
       "      <td>1.32</td>\n",
       "      <td>https://m.media-amazon.com/images/I/71XpjL4qkP...</td>\n",
       "      <td>Amazfit</td>\n",
       "    </tr>\n",
       "    <tr>\n",
       "      <th>4</th>\n",
       "      <td>Amazfit Active 2</td>\n",
       "      <td>4.5</td>\n",
       "      <td>75.99</td>\n",
       "      <td>Multisport Tracker, Text Messaging, AI Assista...</td>\n",
       "      <td>270.0</td>\n",
       "      <td>Bluetooth</td>\n",
       "      <td>1.0</td>\n",
       "      <td>1.32</td>\n",
       "      <td>https://m.media-amazon.com/images/I/71XpjL4qkP...</td>\n",
       "      <td>Amazfit</td>\n",
       "    </tr>\n",
       "  </tbody>\n",
       "</table>\n",
       "</div>"
      ],
      "text/plain": [
       "           products  rating   price  \\\n",
       "0     Amazfit Bip 6     4.5   74.99   \n",
       "1  Amazfit Active 2     4.5   75.99   \n",
       "2   Amazfit T-Rex 3     4.4  189.99   \n",
       "3  Amazfit Active 2     4.5   94.99   \n",
       "4  Amazfit Active 2     4.5   75.99   \n",
       "\n",
       "                                            features  battery  \\\n",
       "0  Multisport Tracker, Text Messaging, AI Assista...    340.0   \n",
       "1  Multisport Tracker, Text Messaging, AI Assista...    270.0   \n",
       "2  Maps, Altitude Assistant, Compass, dual-band G...      0.0   \n",
       "3  Multisport Tracker, Text Messaging, AI Assista...    270.0   \n",
       "4  Multisport Tracker, Text Messaging, AI Assista...    270.0   \n",
       "\n",
       "       connectivity  gps  screen_size  \\\n",
       "0         Bluetooth  1.0         1.97   \n",
       "1         Bluetooth  1.0         1.32   \n",
       "2  Bluetooth, Wi-Fi  1.0         1.50   \n",
       "3         Bluetooth  1.0         1.32   \n",
       "4         Bluetooth  1.0         1.32   \n",
       "\n",
       "                                             img_url    brand  \n",
       "0  https://m.media-amazon.com/images/I/61UvVTN0IE...  Amazfit  \n",
       "1  https://m.media-amazon.com/images/I/71mpuO4Lqe...  Amazfit  \n",
       "2  https://m.media-amazon.com/images/I/71GtgMbKvK...  Amazfit  \n",
       "3  https://m.media-amazon.com/images/I/71XpjL4qkP...  Amazfit  \n",
       "4  https://m.media-amazon.com/images/I/71XpjL4qkP...  Amazfit  "
      ]
     },
     "execution_count": 120,
     "metadata": {},
     "output_type": "execute_result"
    }
   ],
   "source": [
    "# Convert to validator\n",
    "\n",
    "validator = ge.from_pandas(df)\n",
    "validator.head()"
   ]
  },
  {
   "cell_type": "code",
   "execution_count": 121,
   "id": "43df5683",
   "metadata": {},
   "outputs": [
    {
     "data": {
      "text/plain": [
       "{\n",
       "  \"success\": true,\n",
       "  \"result\": {\n",
       "    \"element_count\": 311,\n",
       "    \"unexpected_count\": 0,\n",
       "    \"unexpected_percent\": 0.0,\n",
       "    \"unexpected_percent_total\": 0.0,\n",
       "    \"partial_unexpected_list\": []\n",
       "  },\n",
       "  \"meta\": {},\n",
       "  \"exception_info\": {\n",
       "    \"raised_exception\": false,\n",
       "    \"exception_traceback\": null,\n",
       "    \"exception_message\": null\n",
       "  }\n",
       "}"
      ]
     },
     "execution_count": 121,
     "metadata": {},
     "output_type": "execute_result"
    }
   ],
   "source": [
    "# 1. To not be missing value\n",
    "\n",
    "validator.expect_column_values_to_not_be_null('products')"
   ]
  },
  {
   "cell_type": "markdown",
   "id": "8ef4b4b9",
   "metadata": {},
   "source": [
    "True, tidak ada missing value di kolom prducts."
   ]
  },
  {
   "cell_type": "code",
   "execution_count": 122,
   "id": "3164ccb9",
   "metadata": {},
   "outputs": [
    {
     "data": {
      "text/plain": [
       "{\n",
       "  \"success\": true,\n",
       "  \"result\": {\n",
       "    \"element_count\": 311,\n",
       "    \"missing_count\": 0,\n",
       "    \"missing_percent\": 0.0,\n",
       "    \"unexpected_count\": 0,\n",
       "    \"unexpected_percent\": 0.0,\n",
       "    \"unexpected_percent_total\": 0.0,\n",
       "    \"unexpected_percent_nonmissing\": 0.0,\n",
       "    \"partial_unexpected_list\": []\n",
       "  },\n",
       "  \"meta\": {},\n",
       "  \"exception_info\": {\n",
       "    \"raised_exception\": false,\n",
       "    \"exception_traceback\": null,\n",
       "    \"exception_message\": null\n",
       "  }\n",
       "}"
      ]
     },
     "execution_count": 122,
     "metadata": {},
     "output_type": "execute_result"
    }
   ],
   "source": [
    "# 2. To be between min_value and max_value\n",
    "\n",
    "validator.expect_column_values_to_be_between('rating', min_value=1, max_value=5)"
   ]
  },
  {
   "cell_type": "markdown",
   "id": "52a71b9b",
   "metadata": {},
   "source": [
    "True, nilai rating antara 1-5."
   ]
  },
  {
   "cell_type": "code",
   "execution_count": 123,
   "id": "818357a8",
   "metadata": {},
   "outputs": [
    {
     "data": {
      "text/plain": [
       "{\n",
       "  \"success\": true,\n",
       "  \"result\": {},\n",
       "  \"meta\": {},\n",
       "  \"exception_info\": {\n",
       "    \"raised_exception\": false,\n",
       "    \"exception_traceback\": null,\n",
       "    \"exception_message\": null\n",
       "  }\n",
       "}"
      ]
     },
     "execution_count": 123,
     "metadata": {},
     "output_type": "execute_result"
    }
   ],
   "source": [
    "# 3. To be exist\n",
    "\n",
    "validator.expect_column_to_exist(column='rating')"
   ]
  },
  {
   "cell_type": "markdown",
   "id": "281f7bbc",
   "metadata": {},
   "source": [
    "True, rating harus ada karena penting untuk proses selanjutnya untuk memberikan rekomendasi kepada user."
   ]
  },
  {
   "cell_type": "code",
   "execution_count": 124,
   "id": "62a99ccc",
   "metadata": {},
   "outputs": [
    {
     "data": {
      "text/plain": [
       "{\n",
       "  \"success\": true,\n",
       "  \"result\": {\n",
       "    \"element_count\": 311,\n",
       "    \"missing_count\": 0,\n",
       "    \"missing_percent\": 0.0,\n",
       "    \"unexpected_count\": 0,\n",
       "    \"unexpected_percent\": 0.0,\n",
       "    \"unexpected_percent_total\": 0.0,\n",
       "    \"unexpected_percent_nonmissing\": 0.0,\n",
       "    \"partial_unexpected_list\": []\n",
       "  },\n",
       "  \"meta\": {},\n",
       "  \"exception_info\": {\n",
       "    \"raised_exception\": false,\n",
       "    \"exception_traceback\": null,\n",
       "    \"exception_message\": null\n",
       "  }\n",
       "}"
      ]
     },
     "execution_count": 124,
     "metadata": {},
     "output_type": "execute_result"
    }
   ],
   "source": [
    "# 4. To be in Set\n",
    "\n",
    "valid_brand = ['Amazfit', 'Apple Watch', 'Fitbit', 'Garmin', 'Google', 'Huawei', 'Samsung', 'Xiaomi']\n",
    "validator.expect_column_values_to_be_in_set('brand', valid_brand)"
   ]
  },
  {
   "cell_type": "markdown",
   "id": "5fd014ac",
   "metadata": {},
   "source": [
    "True, kolom brnad berisi brand sesuai list brand program ini."
   ]
  },
  {
   "cell_type": "code",
   "execution_count": 125,
   "id": "9e20adc1",
   "metadata": {},
   "outputs": [
    {
     "data": {
      "text/plain": [
       "{\n",
       "  \"success\": true,\n",
       "  \"result\": {\n",
       "    \"observed_value\": \"float64\"\n",
       "  },\n",
       "  \"meta\": {},\n",
       "  \"exception_info\": {\n",
       "    \"raised_exception\": false,\n",
       "    \"exception_traceback\": null,\n",
       "    \"exception_message\": null\n",
       "  }\n",
       "}"
      ]
     },
     "execution_count": 125,
     "metadata": {},
     "output_type": "execute_result"
    }
   ],
   "source": [
    "# 5. To be in Type List\n",
    "\n",
    "validator.expect_column_values_to_be_in_type_list('price', ['integer', 'float'])"
   ]
  },
  {
   "cell_type": "markdown",
   "id": "47620f1d",
   "metadata": {},
   "source": [
    "true, nilai price haruslah numerikal."
   ]
  },
  {
   "cell_type": "code",
   "execution_count": 126,
   "id": "434d93f8",
   "metadata": {},
   "outputs": [
    {
     "data": {
      "text/plain": [
       "{\n",
       "  \"success\": true,\n",
       "  \"result\": {\n",
       "    \"element_count\": 311,\n",
       "    \"missing_count\": 0,\n",
       "    \"missing_percent\": 0.0,\n",
       "    \"unexpected_count\": 0,\n",
       "    \"unexpected_percent\": 0.0,\n",
       "    \"unexpected_percent_total\": 0.0,\n",
       "    \"unexpected_percent_nonmissing\": 0.0,\n",
       "    \"partial_unexpected_list\": []\n",
       "  },\n",
       "  \"meta\": {},\n",
       "  \"exception_info\": {\n",
       "    \"raised_exception\": false,\n",
       "    \"exception_traceback\": null,\n",
       "    \"exception_message\": null\n",
       "  }\n",
       "}"
      ]
     },
     "execution_count": 126,
     "metadata": {},
     "output_type": "execute_result"
    }
   ],
   "source": [
    "# 6. To Match Regex\n",
    "\n",
    "validator.expect_column_values_to_match_regex(\n",
    "    'products',\n",
    "    r'(?i)(Amazfit|Apple Watch|Fitbit|Garmin|Xiaomi|Huawei Watch|Samsung|Google Pixel)'\n",
    ")"
   ]
  },
  {
   "cell_type": "markdown",
   "id": "54e3d2da",
   "metadata": {},
   "source": [
    "True, nama product harus sesuai regex brand yang ditentukan."
   ]
  },
  {
   "cell_type": "code",
   "execution_count": 127,
   "id": "254c4691",
   "metadata": {},
   "outputs": [
    {
     "data": {
      "text/plain": [
       "{\n",
       "  \"success\": true,\n",
       "  \"result\": {\n",
       "    \"observed_value\": 5.0,\n",
       "    \"element_count\": 311,\n",
       "    \"missing_count\": null,\n",
       "    \"missing_percent\": null\n",
       "  },\n",
       "  \"meta\": {},\n",
       "  \"exception_info\": {\n",
       "    \"raised_exception\": false,\n",
       "    \"exception_traceback\": null,\n",
       "    \"exception_message\": null\n",
       "  }\n",
       "}"
      ]
     },
     "execution_count": 127,
     "metadata": {},
     "output_type": "execute_result"
    }
   ],
   "source": [
    "# 7. To be max\n",
    "\n",
    "validator.expect_column_max_to_be_between('rating', 5)"
   ]
  },
  {
   "cell_type": "markdown",
   "id": "df8a841b",
   "metadata": {},
   "source": [
    "True, nilai rating hanya bisa maksimal 5."
   ]
  },
  {
   "cell_type": "code",
   "execution_count": 128,
   "id": "307f8722",
   "metadata": {},
   "outputs": [
    {
     "name": "stdout",
     "output_type": "stream",
     "text": [
      "{\n",
      "  \"success\": true,\n",
      "  \"results\": [\n",
      "    {\n",
      "      \"success\": true,\n",
      "      \"expectation_config\": {\n",
      "        \"expectation_type\": \"expect_column_values_to_not_be_null\",\n",
      "        \"kwargs\": {\n",
      "          \"column\": \"products\",\n",
      "          \"result_format\": \"BASIC\"\n",
      "        },\n",
      "        \"meta\": {}\n",
      "      },\n",
      "      \"result\": {\n",
      "        \"element_count\": 311,\n",
      "        \"unexpected_count\": 0,\n",
      "        \"unexpected_percent\": 0.0,\n",
      "        \"unexpected_percent_total\": 0.0,\n",
      "        \"partial_unexpected_list\": []\n",
      "      },\n",
      "      \"meta\": {},\n",
      "      \"exception_info\": {\n",
      "        \"raised_exception\": false,\n",
      "        \"exception_message\": null,\n",
      "        \"exception_traceback\": null\n",
      "      }\n",
      "    },\n",
      "    {\n",
      "      \"success\": true,\n",
      "      \"expectation_config\": {\n",
      "        \"expectation_type\": \"expect_column_values_to_match_regex\",\n",
      "        \"kwargs\": {\n",
      "          \"column\": \"products\",\n",
      "          \"regex\": \"(?i)(Amazfit|Apple Watch|Fitbit|Garmin|Xiaomi|Huawei Watch|Samsung|Google Pixel)\",\n",
      "          \"result_format\": \"BASIC\"\n",
      "        },\n",
      "        \"meta\": {}\n",
      "      },\n",
      "      \"result\": {\n",
      "        \"element_count\": 311,\n",
      "        \"missing_count\": 0,\n",
      "        \"missing_percent\": 0.0,\n",
      "        \"unexpected_count\": 0,\n",
      "        \"unexpected_percent\": 0.0,\n",
      "        \"unexpected_percent_total\": 0.0,\n",
      "        \"unexpected_percent_nonmissing\": 0.0,\n",
      "        \"partial_unexpected_list\": []\n",
      "      },\n",
      "      \"meta\": {},\n",
      "      \"exception_info\": {\n",
      "        \"raised_exception\": false,\n",
      "        \"exception_message\": null,\n",
      "        \"exception_traceback\": null\n",
      "      }\n",
      "    },\n",
      "    {\n",
      "      \"success\": true,\n",
      "      \"expectation_config\": {\n",
      "        \"expectation_type\": \"expect_column_values_to_be_between\",\n",
      "        \"kwargs\": {\n",
      "          \"column\": \"rating\",\n",
      "          \"min_value\": 1,\n",
      "          \"max_value\": 5,\n",
      "          \"result_format\": \"BASIC\"\n",
      "        },\n",
      "        \"meta\": {}\n",
      "      },\n",
      "      \"result\": {\n",
      "        \"element_count\": 311,\n",
      "        \"missing_count\": 0,\n",
      "        \"missing_percent\": 0.0,\n",
      "        \"unexpected_count\": 0,\n",
      "        \"unexpected_percent\": 0.0,\n",
      "        \"unexpected_percent_total\": 0.0,\n",
      "        \"unexpected_percent_nonmissing\": 0.0,\n",
      "        \"partial_unexpected_list\": []\n",
      "      },\n",
      "      \"meta\": {},\n",
      "      \"exception_info\": {\n",
      "        \"raised_exception\": false,\n",
      "        \"exception_message\": null,\n",
      "        \"exception_traceback\": null\n",
      "      }\n",
      "    },\n",
      "    {\n",
      "      \"success\": true,\n",
      "      \"expectation_config\": {\n",
      "        \"expectation_type\": \"expect_column_to_exist\",\n",
      "        \"kwargs\": {\n",
      "          \"column\": \"rating\",\n",
      "          \"result_format\": \"BASIC\"\n",
      "        },\n",
      "        \"meta\": {}\n",
      "      },\n",
      "      \"result\": {},\n",
      "      \"meta\": {},\n",
      "      \"exception_info\": {\n",
      "        \"raised_exception\": false,\n",
      "        \"exception_message\": null,\n",
      "        \"exception_traceback\": null\n",
      "      }\n",
      "    },\n",
      "    {\n",
      "      \"success\": true,\n",
      "      \"expectation_config\": {\n",
      "        \"expectation_type\": \"expect_column_max_to_be_between\",\n",
      "        \"kwargs\": {\n",
      "          \"column\": \"rating\",\n",
      "          \"min_value\": 5,\n",
      "          \"result_format\": \"BASIC\"\n",
      "        },\n",
      "        \"meta\": {}\n",
      "      },\n",
      "      \"result\": {\n",
      "        \"observed_value\": 5.0,\n",
      "        \"element_count\": 311,\n",
      "        \"missing_count\": null,\n",
      "        \"missing_percent\": null\n",
      "      },\n",
      "      \"meta\": {},\n",
      "      \"exception_info\": {\n",
      "        \"raised_exception\": false,\n",
      "        \"exception_message\": null,\n",
      "        \"exception_traceback\": null\n",
      "      }\n",
      "    },\n",
      "    {\n",
      "      \"success\": true,\n",
      "      \"expectation_config\": {\n",
      "        \"expectation_type\": \"expect_column_values_to_be_in_set\",\n",
      "        \"kwargs\": {\n",
      "          \"column\": \"brand\",\n",
      "          \"value_set\": [\n",
      "            \"Amazfit\",\n",
      "            \"Apple Watch\",\n",
      "            \"Fitbit\",\n",
      "            \"Garmin\",\n",
      "            \"Google\",\n",
      "            \"Huawei\",\n",
      "            \"Samsung\",\n",
      "            \"Xiaomi\"\n",
      "          ],\n",
      "          \"result_format\": \"BASIC\"\n",
      "        },\n",
      "        \"meta\": {}\n",
      "      },\n",
      "      \"result\": {\n",
      "        \"element_count\": 311,\n",
      "        \"missing_count\": 0,\n",
      "        \"missing_percent\": 0.0,\n",
      "        \"unexpected_count\": 0,\n",
      "        \"unexpected_percent\": 0.0,\n",
      "        \"unexpected_percent_total\": 0.0,\n",
      "        \"unexpected_percent_nonmissing\": 0.0,\n",
      "        \"partial_unexpected_list\": []\n",
      "      },\n",
      "      \"meta\": {},\n",
      "      \"exception_info\": {\n",
      "        \"raised_exception\": false,\n",
      "        \"exception_message\": null,\n",
      "        \"exception_traceback\": null\n",
      "      }\n",
      "    },\n",
      "    {\n",
      "      \"success\": true,\n",
      "      \"expectation_config\": {\n",
      "        \"expectation_type\": \"expect_column_values_to_be_in_type_list\",\n",
      "        \"kwargs\": {\n",
      "          \"column\": \"price\",\n",
      "          \"type_list\": [\n",
      "            \"integer\",\n",
      "            \"float\"\n",
      "          ],\n",
      "          \"result_format\": \"BASIC\"\n",
      "        },\n",
      "        \"meta\": {}\n",
      "      },\n",
      "      \"result\": {\n",
      "        \"observed_value\": \"float64\"\n",
      "      },\n",
      "      \"meta\": {},\n",
      "      \"exception_info\": {\n",
      "        \"raised_exception\": false,\n",
      "        \"exception_message\": null,\n",
      "        \"exception_traceback\": null\n",
      "      }\n",
      "    }\n",
      "  ],\n",
      "  \"evaluation_parameters\": {},\n",
      "  \"statistics\": {\n",
      "    \"evaluated_expectations\": 7,\n",
      "    \"successful_expectations\": 7,\n",
      "    \"unsuccessful_expectations\": 0,\n",
      "    \"success_percent\": 100.0\n",
      "  },\n",
      "  \"meta\": {\n",
      "    \"great_expectations_version\": \"0.18.22\",\n",
      "    \"expectation_suite_name\": \"default\",\n",
      "    \"run_id\": {\n",
      "      \"run_name\": null,\n",
      "      \"run_time\": \"2025-07-15T21:11:05.154911+08:00\"\n",
      "    },\n",
      "    \"batch_kwargs\": {\n",
      "      \"ge_batch_id\": \"29ec7e36-617d-11f0-a713-5ae1224b2717\"\n",
      "    },\n",
      "    \"batch_markers\": {},\n",
      "    \"batch_parameters\": {},\n",
      "    \"validation_time\": \"20250715T131105.154867Z\",\n",
      "    \"expectation_suite_meta\": {\n",
      "      \"great_expectations_version\": \"0.18.22\"\n",
      "    }\n",
      "  }\n",
      "}\n"
     ]
    }
   ],
   "source": [
    "# Results\n",
    "\n",
    "results = validator.validate()\n",
    "print(results)"
   ]
  },
  {
   "cell_type": "markdown",
   "id": "27d10828",
   "metadata": {},
   "source": [
    "Berdasarkan hasil great expectation analysis, dataset setelah proses cleaning valid dan relable untuk digunakan pada proses selanjutnya."
   ]
  }
 ],
 "metadata": {
  "kernelspec": {
   "display_name": "h8_env",
   "language": "python",
   "name": "python3"
  },
  "language_info": {
   "codemirror_mode": {
    "name": "ipython",
    "version": 3
   },
   "file_extension": ".py",
   "mimetype": "text/x-python",
   "name": "python",
   "nbconvert_exporter": "python",
   "pygments_lexer": "ipython3",
   "version": "3.9.23"
  }
 },
 "nbformat": 4,
 "nbformat_minor": 5
}
