{
 "cells": [
  {
   "cell_type": "markdown",
   "id": "1a31bb62",
   "metadata": {},
   "source": [
    "# Data Cleaning"
   ]
  },
  {
   "cell_type": "markdown",
   "id": "f931ce9c",
   "metadata": {},
   "source": [
    "---\n",
    "\n",
    "Notebook ini digunakan untuk proses cleaning data hasil scraping\n",
    "\n",
    "Proses cleaning dilakukan untuk membersihkan data hasil scraping, agar data lebih relable untuk digunkan untuk proses selanjutnya (analysis dan model).\n",
    "\n",
    "---"
   ]
  },
  {
   "cell_type": "markdown",
   "id": "31b3438e",
   "metadata": {},
   "source": [
    "# I. Import Libaries"
   ]
  },
  {
   "cell_type": "code",
   "execution_count": 1,
   "id": "6a1d45f3",
   "metadata": {},
   "outputs": [],
   "source": [
    "# Import Libraries\n",
    "\n",
    "import json\n",
    "import pandas as pd\n",
    "import numpy as np\n",
    "import re\n",
    "import ast\n",
    "from langdetect import detect, DetectorFactory\n",
    "import warnings\n",
    "warnings.filterwarnings('ignore')\n"
   ]
  },
  {
   "cell_type": "markdown",
   "id": "b45530cc",
   "metadata": {},
   "source": [
    "# II. Load Data"
   ]
  },
  {
   "cell_type": "markdown",
   "id": "3b72170f",
   "metadata": {},
   "source": [
    "Data file json hasil scraping di load dan digabungkan, kemudian disave sebagai backup."
   ]
  },
  {
   "cell_type": "code",
   "execution_count": 2,
   "id": "6160c6d3",
   "metadata": {},
   "outputs": [],
   "source": [
    "# Read file JSON\n",
    "with open('data-scrap/amazfit.json') as f1, open('data-scrap/apple.json') as f2, open('data-scrap/fitbit.json') as f3, open('data-scrap/garmin.json') as f4, open('data-scrap/google.json') as f5, open('data-scrap/huawei.json') as f6, open('data-scrap/samsung.json') as f7, open('data-scrap/xiaomi.json') as f8:\n",
    "    data1 = json.load(f1)\n",
    "    data2 = json.load(f2)\n",
    "    data3 = json.load(f3)\n",
    "    data4 = json.load(f4)\n",
    "    data5 = json.load(f5)\n",
    "    data6 = json.load(f6)\n",
    "    data7 = json.load(f7)\n",
    "    data8 = json.load(f8)\n",
    "\n",
    "# Combine\n",
    "combine = data1 + data2 + data3 + data4 + data5 + data6 + data7 + data8\n",
    "\n",
    "# Save as backup\n",
    "with open('all.json', 'w') as outfile:\n",
    "    json.dump(combine, outfile, indent=2, ensure_ascii=True)"
   ]
  },
  {
   "cell_type": "code",
   "execution_count": 3,
   "id": "213ea4b5",
   "metadata": {},
   "outputs": [
    {
     "data": {
      "text/html": [
       "<div>\n",
       "<style scoped>\n",
       "    .dataframe tbody tr th:only-of-type {\n",
       "        vertical-align: middle;\n",
       "    }\n",
       "\n",
       "    .dataframe tbody tr th {\n",
       "        vertical-align: top;\n",
       "    }\n",
       "\n",
       "    .dataframe thead th {\n",
       "        text-align: right;\n",
       "    }\n",
       "</style>\n",
       "<table border=\"1\" class=\"dataframe\">\n",
       "  <thead>\n",
       "    <tr style=\"text-align: right;\">\n",
       "      <th></th>\n",
       "      <th>title</th>\n",
       "      <th>rating</th>\n",
       "      <th>price</th>\n",
       "      <th>features</th>\n",
       "      <th>Battery Capacity</th>\n",
       "      <th>Connectivity</th>\n",
       "      <th>GPS</th>\n",
       "      <th>Screen Size</th>\n",
       "      <th>img_url</th>\n",
       "      <th>Brand</th>\n",
       "      <th>Review</th>\n",
       "    </tr>\n",
       "  </thead>\n",
       "  <tbody>\n",
       "    <tr>\n",
       "      <th>0</th>\n",
       "      <td>Amazfit Bip 6 Smart Watch 46mm, 14 Day Battery...</td>\n",
       "      <td>4.5 out of 5 stars</td>\n",
       "      <td>$74.99</td>\n",
       "      <td>Multisport Tracker, Text Messaging, AI Assista...</td>\n",
       "      <td>340 Milliamp Hours</td>\n",
       "      <td>Bluetooth</td>\n",
       "      <td>Built-in GPS</td>\n",
       "      <td>1.97 Inches</td>\n",
       "      <td>https://m.media-amazon.com/images/I/61UvVTN0IE...</td>\n",
       "      <td>Amazfit</td>\n",
       "      <td>[{'review': 'I purchased this watch to replace...</td>\n",
       "    </tr>\n",
       "    <tr>\n",
       "      <th>1</th>\n",
       "      <td>Amazfit Active 2 Sport Smart Watch Fitness Tra...</td>\n",
       "      <td>4.5 out of 5 stars</td>\n",
       "      <td>$75.99</td>\n",
       "      <td>Multisport Tracker, Text Messaging, AI Assista...</td>\n",
       "      <td>270 Milliamp Hours</td>\n",
       "      <td>Bluetooth</td>\n",
       "      <td>Built-in GPS</td>\n",
       "      <td>1.32 Inches</td>\n",
       "      <td>https://m.media-amazon.com/images/I/71mpuO4Lqe...</td>\n",
       "      <td>Amazfit</td>\n",
       "      <td>[{'review': 'This thing blows away the Fitbit ...</td>\n",
       "    </tr>\n",
       "    <tr>\n",
       "      <th>2</th>\n",
       "      <td>Amazfit Active 2 Sport Smart Watch Fitness Tra...</td>\n",
       "      <td>4.5 out of 5 stars</td>\n",
       "      <td>$75.99</td>\n",
       "      <td>Multisport Tracker, Text Messaging, AI Assista...</td>\n",
       "      <td>270 Milliamp Hours</td>\n",
       "      <td>Bluetooth</td>\n",
       "      <td>Built-in GPS</td>\n",
       "      <td>1.32 Inches</td>\n",
       "      <td>https://m.media-amazon.com/images/I/71mpuO4Lqe...</td>\n",
       "      <td>Amazfit</td>\n",
       "      <td>[{'review': 'This thing blows away the Fitbit ...</td>\n",
       "    </tr>\n",
       "    <tr>\n",
       "      <th>3</th>\n",
       "      <td>Amazfit T-Rex 3 Outdoor Smart Watch 48mm AMOLE...</td>\n",
       "      <td>4.4 out of 5 stars</td>\n",
       "      <td>$189.99</td>\n",
       "      <td>Maps, Altitude Assistant, Compass, dual-band G...</td>\n",
       "      <td>N/A</td>\n",
       "      <td>Bluetooth, Wi-Fi</td>\n",
       "      <td>Built-in GPS</td>\n",
       "      <td>1.5 Inches</td>\n",
       "      <td>https://m.media-amazon.com/images/I/71GtgMbKvK...</td>\n",
       "      <td>Amazfit</td>\n",
       "      <td>[{'review': 'So far, after using the watch for...</td>\n",
       "    </tr>\n",
       "    <tr>\n",
       "      <th>4</th>\n",
       "      <td>Amazfit T-Rex 3 Outdoor Smart Watch 48mm AMOLE...</td>\n",
       "      <td>4.4 out of 5 stars</td>\n",
       "      <td>$189.99</td>\n",
       "      <td>Maps, Altitude Assistant, Compass, dual-band G...</td>\n",
       "      <td>N/A</td>\n",
       "      <td>Bluetooth, Wi-Fi</td>\n",
       "      <td>Built-in GPS</td>\n",
       "      <td>1.5 Inches</td>\n",
       "      <td>https://m.media-amazon.com/images/I/71GtgMbKvK...</td>\n",
       "      <td>Amazfit</td>\n",
       "      <td>[{'review': 'So far, after using the watch for...</td>\n",
       "    </tr>\n",
       "    <tr>\n",
       "      <th>...</th>\n",
       "      <td>...</td>\n",
       "      <td>...</td>\n",
       "      <td>...</td>\n",
       "      <td>...</td>\n",
       "      <td>...</td>\n",
       "      <td>...</td>\n",
       "      <td>...</td>\n",
       "      <td>...</td>\n",
       "      <td>...</td>\n",
       "      <td>...</td>\n",
       "      <td>...</td>\n",
       "    </tr>\n",
       "    <tr>\n",
       "      <th>537</th>\n",
       "      <td>Xiaomi Smart Band 9 Global Version (2024) 1.62...</td>\n",
       "      <td>4.5 out of 5 stars</td>\n",
       "      <td>$57.99</td>\n",
       "      <td>Heart Rate Monitor</td>\n",
       "      <td>233 Milliamp Hours</td>\n",
       "      <td>Bluetooth</td>\n",
       "      <td>No GPS</td>\n",
       "      <td>1.62 Inches</td>\n",
       "      <td>https://m.media-amazon.com/images/I/61WgY4Yssc...</td>\n",
       "      <td>Xiaomi</td>\n",
       "      <td>[{'review': 'This is the 4th generation of Mi ...</td>\n",
       "    </tr>\n",
       "    <tr>\n",
       "      <th>538</th>\n",
       "      <td>Xiaomi Redmi Watch 5 Smartwatch, 2.07\" LCD Dis...</td>\n",
       "      <td>4.4 out of 5 stars</td>\n",
       "      <td>$139.99</td>\n",
       "      <td>Voice Call, Lightweight, Activity Tracker, Pho...</td>\n",
       "      <td>N/A</td>\n",
       "      <td>Bluetooth</td>\n",
       "      <td>No GPS</td>\n",
       "      <td>2.07 Inches</td>\n",
       "      <td>https://m.media-amazon.com/images/I/51X9nE628c...</td>\n",
       "      <td>Xiaomi</td>\n",
       "      <td>[{'review': 'Calidad - precio. El producto es ...</td>\n",
       "    </tr>\n",
       "    <tr>\n",
       "      <th>539</th>\n",
       "      <td>Xiaomi Watch 2 Pro, Google apps Directly on Yo...</td>\n",
       "      <td>4.1 out of 5 stars</td>\n",
       "      <td>$259.99</td>\n",
       "      <td>Bluetooth</td>\n",
       "      <td>N/A</td>\n",
       "      <td>Bluetooth</td>\n",
       "      <td>Built-in GPS</td>\n",
       "      <td>1.43 Inches</td>\n",
       "      <td>https://m.media-amazon.com/images/I/81LQkI4eoq...</td>\n",
       "      <td>Xiaomi</td>\n",
       "      <td>[{'review': 'Me encanta este reloj, cumple con...</td>\n",
       "    </tr>\n",
       "    <tr>\n",
       "      <th>540</th>\n",
       "      <td>Xiaomi Redmi 5 Lite Smart Watch, Step Counter ...</td>\n",
       "      <td>4.6 out of 5 stars</td>\n",
       "      <td>$52.24</td>\n",
       "      <td>Multisport Tracker, Activity Tracker, Alarm Cl...</td>\n",
       "      <td>470 Amp Hours</td>\n",
       "      <td>Bluetooth</td>\n",
       "      <td>N/A</td>\n",
       "      <td>2 Inches</td>\n",
       "      <td>https://m.media-amazon.com/images/I/61Mr-G86wZ...</td>\n",
       "      <td>Xiaomi</td>\n",
       "      <td>[{'review': 'Although positioned as an entry-l...</td>\n",
       "    </tr>\n",
       "    <tr>\n",
       "      <th>541</th>\n",
       "      <td>Xiaomi Redmi Watch 4 Smartwatch with 1.97\" AMO...</td>\n",
       "      <td>4.4 out of 5 stars</td>\n",
       "      <td>$74.99</td>\n",
       "      <td>Heart Rate Monitor</td>\n",
       "      <td>20 days</td>\n",
       "      <td>Bluetooth</td>\n",
       "      <td>Built-in GPS</td>\n",
       "      <td>1.97 Inches</td>\n",
       "      <td>https://m.media-amazon.com/images/I/71tozl-916...</td>\n",
       "      <td>Xiaomi</td>\n",
       "      <td>[{'review': 'Perfect, everything works great e...</td>\n",
       "    </tr>\n",
       "  </tbody>\n",
       "</table>\n",
       "<p>542 rows × 11 columns</p>\n",
       "</div>"
      ],
      "text/plain": [
       "                                                 title              rating  \\\n",
       "0    Amazfit Bip 6 Smart Watch 46mm, 14 Day Battery...  4.5 out of 5 stars   \n",
       "1    Amazfit Active 2 Sport Smart Watch Fitness Tra...  4.5 out of 5 stars   \n",
       "2    Amazfit Active 2 Sport Smart Watch Fitness Tra...  4.5 out of 5 stars   \n",
       "3    Amazfit T-Rex 3 Outdoor Smart Watch 48mm AMOLE...  4.4 out of 5 stars   \n",
       "4    Amazfit T-Rex 3 Outdoor Smart Watch 48mm AMOLE...  4.4 out of 5 stars   \n",
       "..                                                 ...                 ...   \n",
       "537  Xiaomi Smart Band 9 Global Version (2024) 1.62...  4.5 out of 5 stars   \n",
       "538  Xiaomi Redmi Watch 5 Smartwatch, 2.07\" LCD Dis...  4.4 out of 5 stars   \n",
       "539  Xiaomi Watch 2 Pro, Google apps Directly on Yo...  4.1 out of 5 stars   \n",
       "540  Xiaomi Redmi 5 Lite Smart Watch, Step Counter ...  4.6 out of 5 stars   \n",
       "541  Xiaomi Redmi Watch 4 Smartwatch with 1.97\" AMO...  4.4 out of 5 stars   \n",
       "\n",
       "       price                                           features  \\\n",
       "0     $74.99  Multisport Tracker, Text Messaging, AI Assista...   \n",
       "1     $75.99  Multisport Tracker, Text Messaging, AI Assista...   \n",
       "2     $75.99  Multisport Tracker, Text Messaging, AI Assista...   \n",
       "3    $189.99  Maps, Altitude Assistant, Compass, dual-band G...   \n",
       "4    $189.99  Maps, Altitude Assistant, Compass, dual-band G...   \n",
       "..       ...                                                ...   \n",
       "537   $57.99                                 Heart Rate Monitor   \n",
       "538  $139.99  Voice Call, Lightweight, Activity Tracker, Pho...   \n",
       "539  $259.99                                          Bluetooth   \n",
       "540   $52.24  Multisport Tracker, Activity Tracker, Alarm Cl...   \n",
       "541   $74.99                                 Heart Rate Monitor   \n",
       "\n",
       "       Battery Capacity      Connectivity           GPS  Screen Size  \\\n",
       "0    340 Milliamp Hours         Bluetooth  Built-in GPS  1.97 Inches   \n",
       "1    270 Milliamp Hours         Bluetooth  Built-in GPS  1.32 Inches   \n",
       "2    270 Milliamp Hours         Bluetooth  Built-in GPS  1.32 Inches   \n",
       "3                   N/A  Bluetooth, Wi-Fi  Built-in GPS   1.5 Inches   \n",
       "4                   N/A  Bluetooth, Wi-Fi  Built-in GPS   1.5 Inches   \n",
       "..                  ...               ...           ...          ...   \n",
       "537  233 Milliamp Hours         Bluetooth        No GPS  1.62 Inches   \n",
       "538                 N/A         Bluetooth        No GPS  2.07 Inches   \n",
       "539                 N/A         Bluetooth  Built-in GPS  1.43 Inches   \n",
       "540       470 Amp Hours         Bluetooth           N/A     2 Inches   \n",
       "541             20 days         Bluetooth  Built-in GPS  1.97 Inches   \n",
       "\n",
       "                                               img_url    Brand  \\\n",
       "0    https://m.media-amazon.com/images/I/61UvVTN0IE...  Amazfit   \n",
       "1    https://m.media-amazon.com/images/I/71mpuO4Lqe...  Amazfit   \n",
       "2    https://m.media-amazon.com/images/I/71mpuO4Lqe...  Amazfit   \n",
       "3    https://m.media-amazon.com/images/I/71GtgMbKvK...  Amazfit   \n",
       "4    https://m.media-amazon.com/images/I/71GtgMbKvK...  Amazfit   \n",
       "..                                                 ...      ...   \n",
       "537  https://m.media-amazon.com/images/I/61WgY4Yssc...   Xiaomi   \n",
       "538  https://m.media-amazon.com/images/I/51X9nE628c...   Xiaomi   \n",
       "539  https://m.media-amazon.com/images/I/81LQkI4eoq...   Xiaomi   \n",
       "540  https://m.media-amazon.com/images/I/61Mr-G86wZ...   Xiaomi   \n",
       "541  https://m.media-amazon.com/images/I/71tozl-916...   Xiaomi   \n",
       "\n",
       "                                                Review  \n",
       "0    [{'review': 'I purchased this watch to replace...  \n",
       "1    [{'review': 'This thing blows away the Fitbit ...  \n",
       "2    [{'review': 'This thing blows away the Fitbit ...  \n",
       "3    [{'review': 'So far, after using the watch for...  \n",
       "4    [{'review': 'So far, after using the watch for...  \n",
       "..                                                 ...  \n",
       "537  [{'review': 'This is the 4th generation of Mi ...  \n",
       "538  [{'review': 'Calidad - precio. El producto es ...  \n",
       "539  [{'review': 'Me encanta este reloj, cumple con...  \n",
       "540  [{'review': 'Although positioned as an entry-l...  \n",
       "541  [{'review': 'Perfect, everything works great e...  \n",
       "\n",
       "[542 rows x 11 columns]"
      ]
     },
     "execution_count": 3,
     "metadata": {},
     "output_type": "execute_result"
    }
   ],
   "source": [
    "# Read file JSON\n",
    "with open('all.json', 'r') as file:\n",
    "    data = json.load(file)\n",
    "\n",
    "# To DataFrame\n",
    "df = pd.DataFrame(data)\n",
    "\n",
    "# Show DataFrame\n",
    "df\n"
   ]
  },
  {
   "cell_type": "markdown",
   "id": "8b040f92",
   "metadata": {},
   "source": [
    "Baca file dengan pandas, kemudian save sebagai csv sebgai backup."
   ]
  },
  {
   "cell_type": "code",
   "execution_count": 4,
   "id": "15408b70",
   "metadata": {},
   "outputs": [],
   "source": [
    "# Save to CSV as backup\n",
    "df.to_csv('data_before_clean.csv', index=False)"
   ]
  },
  {
   "cell_type": "code",
   "execution_count": 5,
   "id": "62f9f538",
   "metadata": {},
   "outputs": [
    {
     "name": "stdout",
     "output_type": "stream",
     "text": [
      "<class 'pandas.core.frame.DataFrame'>\n",
      "RangeIndex: 542 entries, 0 to 541\n",
      "Data columns (total 11 columns):\n",
      " #   Column            Non-Null Count  Dtype \n",
      "---  ------            --------------  ----- \n",
      " 0   title             542 non-null    object\n",
      " 1   rating            542 non-null    object\n",
      " 2   price             542 non-null    object\n",
      " 3   features          542 non-null    object\n",
      " 4   Battery Capacity  542 non-null    object\n",
      " 5   Connectivity      542 non-null    object\n",
      " 6   GPS               542 non-null    object\n",
      " 7   Screen Size       542 non-null    object\n",
      " 8   img_url           542 non-null    object\n",
      " 9   Brand             542 non-null    object\n",
      " 10  Review            542 non-null    object\n",
      "dtypes: object(11)\n",
      "memory usage: 46.7+ KB\n"
     ]
    }
   ],
   "source": [
    "# Data Info\n",
    "df.info()"
   ]
  },
  {
   "cell_type": "markdown",
   "id": "4095da37",
   "metadata": {},
   "source": [
    "Nama kolom diubah agar lebih mudah."
   ]
  },
  {
   "cell_type": "code",
   "execution_count": 6,
   "id": "c937d020",
   "metadata": {},
   "outputs": [
    {
     "data": {
      "text/html": [
       "<div>\n",
       "<style scoped>\n",
       "    .dataframe tbody tr th:only-of-type {\n",
       "        vertical-align: middle;\n",
       "    }\n",
       "\n",
       "    .dataframe tbody tr th {\n",
       "        vertical-align: top;\n",
       "    }\n",
       "\n",
       "    .dataframe thead th {\n",
       "        text-align: right;\n",
       "    }\n",
       "</style>\n",
       "<table border=\"1\" class=\"dataframe\">\n",
       "  <thead>\n",
       "    <tr style=\"text-align: right;\">\n",
       "      <th></th>\n",
       "      <th>products</th>\n",
       "      <th>rating</th>\n",
       "      <th>price</th>\n",
       "      <th>features</th>\n",
       "      <th>battery</th>\n",
       "      <th>connectivity</th>\n",
       "      <th>gps</th>\n",
       "      <th>screen_size</th>\n",
       "      <th>img_url</th>\n",
       "      <th>brand</th>\n",
       "      <th>reviews</th>\n",
       "    </tr>\n",
       "  </thead>\n",
       "  <tbody>\n",
       "    <tr>\n",
       "      <th>0</th>\n",
       "      <td>Amazfit Bip 6 Smart Watch 46mm, 14 Day Battery...</td>\n",
       "      <td>4.5 out of 5 stars</td>\n",
       "      <td>$74.99</td>\n",
       "      <td>Multisport Tracker, Text Messaging, AI Assista...</td>\n",
       "      <td>340 Milliamp Hours</td>\n",
       "      <td>Bluetooth</td>\n",
       "      <td>Built-in GPS</td>\n",
       "      <td>1.97 Inches</td>\n",
       "      <td>https://m.media-amazon.com/images/I/61UvVTN0IE...</td>\n",
       "      <td>Amazfit</td>\n",
       "      <td>[{'review': 'I purchased this watch to replace...</td>\n",
       "    </tr>\n",
       "    <tr>\n",
       "      <th>1</th>\n",
       "      <td>Amazfit Active 2 Sport Smart Watch Fitness Tra...</td>\n",
       "      <td>4.5 out of 5 stars</td>\n",
       "      <td>$75.99</td>\n",
       "      <td>Multisport Tracker, Text Messaging, AI Assista...</td>\n",
       "      <td>270 Milliamp Hours</td>\n",
       "      <td>Bluetooth</td>\n",
       "      <td>Built-in GPS</td>\n",
       "      <td>1.32 Inches</td>\n",
       "      <td>https://m.media-amazon.com/images/I/71mpuO4Lqe...</td>\n",
       "      <td>Amazfit</td>\n",
       "      <td>[{'review': 'This thing blows away the Fitbit ...</td>\n",
       "    </tr>\n",
       "    <tr>\n",
       "      <th>2</th>\n",
       "      <td>Amazfit Active 2 Sport Smart Watch Fitness Tra...</td>\n",
       "      <td>4.5 out of 5 stars</td>\n",
       "      <td>$75.99</td>\n",
       "      <td>Multisport Tracker, Text Messaging, AI Assista...</td>\n",
       "      <td>270 Milliamp Hours</td>\n",
       "      <td>Bluetooth</td>\n",
       "      <td>Built-in GPS</td>\n",
       "      <td>1.32 Inches</td>\n",
       "      <td>https://m.media-amazon.com/images/I/71mpuO4Lqe...</td>\n",
       "      <td>Amazfit</td>\n",
       "      <td>[{'review': 'This thing blows away the Fitbit ...</td>\n",
       "    </tr>\n",
       "    <tr>\n",
       "      <th>3</th>\n",
       "      <td>Amazfit T-Rex 3 Outdoor Smart Watch 48mm AMOLE...</td>\n",
       "      <td>4.4 out of 5 stars</td>\n",
       "      <td>$189.99</td>\n",
       "      <td>Maps, Altitude Assistant, Compass, dual-band G...</td>\n",
       "      <td>N/A</td>\n",
       "      <td>Bluetooth, Wi-Fi</td>\n",
       "      <td>Built-in GPS</td>\n",
       "      <td>1.5 Inches</td>\n",
       "      <td>https://m.media-amazon.com/images/I/71GtgMbKvK...</td>\n",
       "      <td>Amazfit</td>\n",
       "      <td>[{'review': 'So far, after using the watch for...</td>\n",
       "    </tr>\n",
       "    <tr>\n",
       "      <th>4</th>\n",
       "      <td>Amazfit T-Rex 3 Outdoor Smart Watch 48mm AMOLE...</td>\n",
       "      <td>4.4 out of 5 stars</td>\n",
       "      <td>$189.99</td>\n",
       "      <td>Maps, Altitude Assistant, Compass, dual-band G...</td>\n",
       "      <td>N/A</td>\n",
       "      <td>Bluetooth, Wi-Fi</td>\n",
       "      <td>Built-in GPS</td>\n",
       "      <td>1.5 Inches</td>\n",
       "      <td>https://m.media-amazon.com/images/I/71GtgMbKvK...</td>\n",
       "      <td>Amazfit</td>\n",
       "      <td>[{'review': 'So far, after using the watch for...</td>\n",
       "    </tr>\n",
       "  </tbody>\n",
       "</table>\n",
       "</div>"
      ],
      "text/plain": [
       "                                            products              rating  \\\n",
       "0  Amazfit Bip 6 Smart Watch 46mm, 14 Day Battery...  4.5 out of 5 stars   \n",
       "1  Amazfit Active 2 Sport Smart Watch Fitness Tra...  4.5 out of 5 stars   \n",
       "2  Amazfit Active 2 Sport Smart Watch Fitness Tra...  4.5 out of 5 stars   \n",
       "3  Amazfit T-Rex 3 Outdoor Smart Watch 48mm AMOLE...  4.4 out of 5 stars   \n",
       "4  Amazfit T-Rex 3 Outdoor Smart Watch 48mm AMOLE...  4.4 out of 5 stars   \n",
       "\n",
       "     price                                           features  \\\n",
       "0   $74.99  Multisport Tracker, Text Messaging, AI Assista...   \n",
       "1   $75.99  Multisport Tracker, Text Messaging, AI Assista...   \n",
       "2   $75.99  Multisport Tracker, Text Messaging, AI Assista...   \n",
       "3  $189.99  Maps, Altitude Assistant, Compass, dual-band G...   \n",
       "4  $189.99  Maps, Altitude Assistant, Compass, dual-band G...   \n",
       "\n",
       "              battery      connectivity           gps  screen_size  \\\n",
       "0  340 Milliamp Hours         Bluetooth  Built-in GPS  1.97 Inches   \n",
       "1  270 Milliamp Hours         Bluetooth  Built-in GPS  1.32 Inches   \n",
       "2  270 Milliamp Hours         Bluetooth  Built-in GPS  1.32 Inches   \n",
       "3                 N/A  Bluetooth, Wi-Fi  Built-in GPS   1.5 Inches   \n",
       "4                 N/A  Bluetooth, Wi-Fi  Built-in GPS   1.5 Inches   \n",
       "\n",
       "                                             img_url    brand  \\\n",
       "0  https://m.media-amazon.com/images/I/61UvVTN0IE...  Amazfit   \n",
       "1  https://m.media-amazon.com/images/I/71mpuO4Lqe...  Amazfit   \n",
       "2  https://m.media-amazon.com/images/I/71mpuO4Lqe...  Amazfit   \n",
       "3  https://m.media-amazon.com/images/I/71GtgMbKvK...  Amazfit   \n",
       "4  https://m.media-amazon.com/images/I/71GtgMbKvK...  Amazfit   \n",
       "\n",
       "                                             reviews  \n",
       "0  [{'review': 'I purchased this watch to replace...  \n",
       "1  [{'review': 'This thing blows away the Fitbit ...  \n",
       "2  [{'review': 'This thing blows away the Fitbit ...  \n",
       "3  [{'review': 'So far, after using the watch for...  \n",
       "4  [{'review': 'So far, after using the watch for...  "
      ]
     },
     "execution_count": 6,
     "metadata": {},
     "output_type": "execute_result"
    }
   ],
   "source": [
    "# Change Column Name\n",
    "df.rename(columns={\n",
    "    'title': 'products',\n",
    "    'Battery Capacity': 'battery',\n",
    "    'Connectivity': 'connectivity',\n",
    "    'GPS': 'gps',\n",
    "    'Screen Size': 'screen_size',\n",
    "    'Brand': 'brand',\n",
    "    'Review': 'reviews'\n",
    "}, inplace=True)\n",
    "\n",
    "df.head()\n"
   ]
  },
  {
   "cell_type": "markdown",
   "id": "5af541b1",
   "metadata": {},
   "source": [
    "Nama kolom sudah terubah."
   ]
  },
  {
   "cell_type": "markdown",
   "id": "b030fc83",
   "metadata": {},
   "source": [
    "Memastikan brand yang diinginkan ada pada dataset."
   ]
  },
  {
   "cell_type": "code",
   "execution_count": 7,
   "id": "94aa9d4e",
   "metadata": {},
   "outputs": [
    {
     "data": {
      "text/plain": [
       "array(['Amazfit', 'Apple Watch', 'Fitbit', 'Garmin', 'Google', 'Huawei',\n",
       "       'Samsung', 'Xiaomi'], dtype=object)"
      ]
     },
     "execution_count": 7,
     "metadata": {},
     "output_type": "execute_result"
    }
   ],
   "source": [
    "# Check brand\n",
    "df.brand.unique()"
   ]
  },
  {
   "cell_type": "code",
   "execution_count": 8,
   "id": "64d05189",
   "metadata": {},
   "outputs": [
    {
     "name": "stdout",
     "output_type": "stream",
     "text": [
      "<class 'pandas.core.frame.DataFrame'>\n",
      "RangeIndex: 542 entries, 0 to 541\n",
      "Data columns (total 11 columns):\n",
      " #   Column        Non-Null Count  Dtype \n",
      "---  ------        --------------  ----- \n",
      " 0   products      542 non-null    object\n",
      " 1   rating        542 non-null    object\n",
      " 2   price         542 non-null    object\n",
      " 3   features      542 non-null    object\n",
      " 4   battery       542 non-null    object\n",
      " 5   connectivity  542 non-null    object\n",
      " 6   gps           542 non-null    object\n",
      " 7   screen_size   542 non-null    object\n",
      " 8   img_url       542 non-null    object\n",
      " 9   brand         542 non-null    object\n",
      " 10  reviews       542 non-null    object\n",
      "dtypes: object(11)\n",
      "memory usage: 46.7+ KB\n"
     ]
    }
   ],
   "source": [
    "df.info()"
   ]
  },
  {
   "cell_type": "markdown",
   "id": "5d166690",
   "metadata": {},
   "source": [
    "# III. Data Cleaning"
   ]
  },
  {
   "cell_type": "markdown",
   "id": "7c310d3f",
   "metadata": {},
   "source": [
    "### 1. Column product"
   ]
  },
  {
   "cell_type": "code",
   "execution_count": 9,
   "id": "65f3e7bf",
   "metadata": {},
   "outputs": [],
   "source": [
    "# Change 'N/A' to NaN\n",
    "df['products'] = df['products'].replace('N/A', np.nan)"
   ]
  },
  {
   "cell_type": "code",
   "execution_count": 10,
   "id": "d817df70",
   "metadata": {},
   "outputs": [],
   "source": [
    "# Drop Data null in products\n",
    "df = df.dropna(subset=['products']).reset_index(drop=True)"
   ]
  },
  {
   "cell_type": "markdown",
   "id": "9aae593e",
   "metadata": {},
   "source": [
    "Drop missing value jika ada."
   ]
  },
  {
   "cell_type": "code",
   "execution_count": 11,
   "id": "d4a91a6b",
   "metadata": {},
   "outputs": [],
   "source": [
    "# Filter products based on Brand\n",
    "\n",
    "# Create regex pattern with keyword\n",
    "pattern = r'^(Amazfit|Apple Watch|Fitbit|Garmin|Xiaomi|Huawei Watch|Samsung|Google Pixel)'\n",
    "\n",
    "# Filter products with keyword product (case-insensitive)\n",
    "df = df[df['products'].str.contains(pattern, case=False, na=False, regex=True)]\n",
    "\n",
    "# Reset index\n",
    "df = df.reset_index(drop=True)\n"
   ]
  },
  {
   "cell_type": "markdown",
   "id": "7409bb07",
   "metadata": {},
   "source": [
    "Filtering product yang hanya mencantum brand smart watch yang ditentukan."
   ]
  },
  {
   "cell_type": "code",
   "execution_count": 12,
   "id": "3f796b92",
   "metadata": {},
   "outputs": [],
   "source": [
    "# Make sure brand is in product name\n",
    "df = df[df.apply(lambda row: str(row['brand']).lower() in str(row['products']).lower(), axis=1)]"
   ]
  },
  {
   "cell_type": "markdown",
   "id": "36855886",
   "metadata": {},
   "source": [
    "Memastikan data di brand tercantum di kolom nama produk (products)"
   ]
  },
  {
   "cell_type": "code",
   "execution_count": 13,
   "id": "1f17f705",
   "metadata": {},
   "outputs": [],
   "source": [
    "# Delete data that have accesorris in products\n",
    "df = df[~df['products'].str.contains(r'\\b(cable|carger)\\b', case=False, na=False)]"
   ]
  },
  {
   "cell_type": "markdown",
   "id": "8fc47a53",
   "metadata": {},
   "source": [
    "Menghapus data yang merupkan aksesoris dari smartwatch, bukan smart watch itu sendiri."
   ]
  },
  {
   "cell_type": "code",
   "execution_count": 14,
   "id": "c3813954",
   "metadata": {},
   "outputs": [],
   "source": [
    "# Strip products name after delimiter\n",
    "def cut_at_first_delimiter(text):\n",
    "    if not isinstance(text, str):\n",
    "        return text\n",
    "    \n",
    "    delimiters = [',', '，', '(', '[', ' -']\n",
    "    positions = [text.find(d) for d in delimiters if text.find(d) != -1]\n",
    "    \n",
    "    if positions:\n",
    "        cut_pos = min(positions)\n",
    "        return text[:cut_pos].strip()\n",
    "    else:\n",
    "        return text.strip()\n",
    "\n",
    "df['products'] = df['products'].apply(cut_at_first_delimiter)\n"
   ]
  },
  {
   "cell_type": "markdown",
   "id": "89e9ba58",
   "metadata": {},
   "source": [
    "Memotong nama produk sesuai tanda baca, yang biasanya setelahnya merupkan keterangan produk."
   ]
  },
  {
   "cell_type": "code",
   "execution_count": 15,
   "id": "3f7f0fd2",
   "metadata": {},
   "outputs": [],
   "source": [
    "# Strip products name after number\n",
    "def cut_after_last_number(text):\n",
    "    if not isinstance(text, str):\n",
    "        return text\n",
    "    \n",
    "    match = re.search(r'^(.*?\\d+)(?:\\s|$)', text)\n",
    "    \n",
    "    if match:\n",
    "        return match.group(1).strip()\n",
    "    else:\n",
    "        return text.strip()\n",
    "    \n",
    "df['products'] = df['products'].apply(cut_after_last_number)"
   ]
  },
  {
   "cell_type": "markdown",
   "id": "2695ac02",
   "metadata": {},
   "source": [
    "Memotong nama produk setekah angka, angka biasanya no series produk, setelahnya biasanya merrupkan keterangan produk."
   ]
  },
  {
   "cell_type": "code",
   "execution_count": 16,
   "id": "b5027427",
   "metadata": {},
   "outputs": [],
   "source": [
    "# Strip amount of words\n",
    "def extract_product_name(text):\n",
    "    if not isinstance(text, str):\n",
    "        return text\n",
    "    \n",
    "    # Take only 5 words\n",
    "    return ' '.join(text.split()[:5])\n",
    "\n",
    "df['products'] = df['products'].apply(extract_product_name)\n"
   ]
  },
  {
   "cell_type": "markdown",
   "id": "caf7c9dc",
   "metadata": {},
   "source": [
    "Membatasi nama produk hanya dalam 5 kata."
   ]
  },
  {
   "cell_type": "code",
   "execution_count": 17,
   "id": "fa8be939",
   "metadata": {},
   "outputs": [],
   "source": [
    "# Remove uncessery word from 'products'\n",
    "df['products'] = df['products'].str.replace(r'with|by', '', regex=True).str.strip()"
   ]
  },
  {
   "cell_type": "markdown",
   "id": "dda679e1",
   "metadata": {},
   "source": [
    "Menghapus kata-kata seperti with dan by."
   ]
  },
  {
   "cell_type": "code",
   "execution_count": 18,
   "id": "e963ab95",
   "metadata": {},
   "outputs": [],
   "source": [
    "# Remove symbol from 'products'\n",
    "df['products'] = df['products'].str.replace(r'[®™]', '', regex=True).str.strip()"
   ]
  },
  {
   "cell_type": "markdown",
   "id": "1d7a1f93",
   "metadata": {},
   "source": [
    "Menghapus symbol-symbol yang berada pada nama produk."
   ]
  },
  {
   "cell_type": "code",
   "execution_count": 19,
   "id": "a796606c",
   "metadata": {},
   "outputs": [
    {
     "data": {
      "text/plain": [
       "array(['Amazfit Bip 6', 'Amazfit Active 2', 'Amazfit T-Rex 3',\n",
       "       'Amazfit GTR Mini Smart Watch', 'Amazfit Band 7',\n",
       "       'Amazfit Active Smart Watch 42mm',\n",
       "       'Amazfit Balance Smart Watch 46mm', 'Amazfit Refurbished BIP 3',\n",
       "       'Amazfit Bip 5', 'Amazfit GTR 3', 'Amazfit Balance 2',\n",
       "       'Amazfit Refurbished T-Rex 3', 'Amazfit Renewed Bip 5',\n",
       "       'Amazfit Bip 3', 'Amazfit GTS 2',\n",
       "       'Amazfit T-Rex Ultra Tactical Smart', 'Apple Watch Series 10',\n",
       "       'Apple Watch Ultra 2', 'Apple Watch Series 5',\n",
       "       'Apple Watch Series 7', 'Apple Watch Series 6',\n",
       "       'Apple Watch Series 8', 'Apple Watch SE', 'Apple Watch Ultra',\n",
       "       'Apple Watch SE 2nd Gen', 'Apple Watch Series 9',\n",
       "       'Apple Watch Series SE 44mm', 'Fitbit Versa 4', 'Fitbit Charge 6',\n",
       "       'Fitbit Inspire 3', 'Fitbit Sense 2', 'Fitbit Versa 2',\n",
       "       'Fitbit Google Ace LTE', 'Fitbit Versa Smart Watch',\n",
       "       'Fitbit Versa Lite Smartwatch', 'Fitbit Sense Advanced Smartwatch',\n",
       "       'Google Pixel Watch 3', 'Google Pixel',\n",
       "       'Fitbit Sense Health & Fitness', 'Fitbit Versa Lite Edition Smart',\n",
       "       'Google Pixel Watch 2', 'Garmin vívoactive 5',\n",
       "       'Garmin Forerunner 55', 'Garmin Venu 3S Soft Gold',\n",
       "       'Garmin Instinct 2', 'Garmin DriveSmart 55',\n",
       "       'Garmin Instinct 2X Solar', 'Garmin epix Pro', 'Garmin Venu 2S',\n",
       "       'Garmin Edge 1040', 'Garmin Venu Sq 2', 'Garmin Forerunner 265',\n",
       "       'Garmin 010-02060-00', 'Garmin Forerunner 965',\n",
       "       'Garmin 010-02638-10', 'Garmin Dash Cam Mini 3',\n",
       "       'Garmin Approach R10', 'Garmin ECHOMAP UHD2', 'Garmin fēnix 8',\n",
       "       'Garmin Index S2', 'Garmin Instinct 3', 'Garmin vívosmart 5',\n",
       "       'Garmin tactix 8', 'Garmin 010-02376-00', 'Garmin epix Gen 2',\n",
       "       'Garmin Enduro 3', 'Garmin Tread Powersport Off-Road Navigator',\n",
       "       'Garmin fēnix 7', 'Garmin Drive 52',\n",
       "       'Garmin GPSMAP 67i Rugged GPS', 'Garmin dēzl OTR1000',\n",
       "       'Garmin Approach Z82', 'Garmin Striker Vivid 5cv',\n",
       "       'Garmin DriveSmart 86', 'Garmin GPSMAP 65s',\n",
       "       'Garmin inReach Messenger Handheld Satellite', 'Garmin Xero C1',\n",
       "       'Garmin Approach Z30', 'Garmin RV 1095', 'Garmin zūmo XT2',\n",
       "       'Garmin Edge 840', 'Garmin Drive 53', 'Garmin eLog',\n",
       "       'Garmin Approach R50', 'Garmin 010-02430-00',\n",
       "       'Garmin Forerunner 970', 'Garmin DriveSmart 66',\n",
       "       'Garmin 010-12883-00', 'Garmin vívoactive 3',\n",
       "       'Garmin Suction cup mount', 'Garmin Venu 2',\n",
       "       'Garmin Forerunner 745', 'Garmin Fenix 5s Plus', 'Garmin Swim 2',\n",
       "       'Google Pixel Watch', 'Google Pixel Watch 41mm Smartwatch',\n",
       "       'HUAWEI Watch FIT4', 'HUAWEI Watch GT 5', 'HUAWEI Watch FIT 3',\n",
       "       'HUAWEI Watch Ultimate Smartwatches', 'HUAWEI Watch GT 4',\n",
       "       'Samsung Galaxy Watch 7', 'SAMSUNG Galaxy Watch Ultra 47mm',\n",
       "       'SAMSUNG Galaxy Watch 6', 'Samsung Galaxy Watch 6',\n",
       "       'Samsung Electronics Galaxy Watch 4',\n",
       "       'SAMSUNG Electronics Galaxy Watch 4', 'SAMSUNG Galaxy Watch 5',\n",
       "       'Samsung Galaxy Watch 4', 'SAMSUNG Galaxy FIT 3',\n",
       "       'Samsung Galaxy Watch5', 'SAMSUNG Samsung Galaxy Watch 5',\n",
       "       'Samsung Galaxy Watch Ultra 47mm', 'SAMSUNG Galaxy Watch 7',\n",
       "       'Xiaomi Redmi Watch 5', 'Xiaomi Smart Band 9', 'Xiaomi Watch 2',\n",
       "       'Xiaomi Redmi 5', 'Xiaomi Redmi Watch 4'], dtype=object)"
      ]
     },
     "execution_count": 19,
     "metadata": {},
     "output_type": "execute_result"
    }
   ],
   "source": [
    "df.products.unique()"
   ]
  },
  {
   "cell_type": "markdown",
   "id": "64ae7157",
   "metadata": {},
   "source": [
    "Kolom nama produk sudah lebih pendek dan sesuai."
   ]
  },
  {
   "cell_type": "code",
   "execution_count": 20,
   "id": "87b322c1",
   "metadata": {},
   "outputs": [
    {
     "name": "stdout",
     "output_type": "stream",
     "text": [
      "      brand                                                                                                                                                                                                                                                                                                                                                                                                                                                                                                                                                                                                                                                                                                                                                                                                                                                                                                                                                                                                                                                                                                                                         unique_products\n",
      "    Amazfit                                                                                                                                                                                                                                                                                                                                                                                                                                                                                                                                                                                                                                                                                                                                                                                     Amazfit Active 2, Amazfit Active Smart Watch 42mm, Amazfit Balance 2, Amazfit Balance Smart Watch 46mm, Amazfit Band 7, Amazfit Bip 3, Amazfit Bip 5, Amazfit Bip 6, Amazfit GTR 3, Amazfit GTR Mini Smart Watch, Amazfit GTS 2, Amazfit Refurbished BIP 3, Amazfit Refurbished T-Rex 3, Amazfit Renewed Bip 5, Amazfit T-Rex 3, Amazfit T-Rex Ultra Tactical Smart\n",
      "Apple Watch                                                                                                                                                                                                                                                                                                                                                                                                                                                                                                                                                                                                                                                                                                                                                                                                                                                                                                         Apple Watch SE, Apple Watch SE 2nd Gen, Apple Watch Series 10, Apple Watch Series 5, Apple Watch Series 6, Apple Watch Series 7, Apple Watch Series 8, Apple Watch Series 9, Apple Watch Series SE 44mm, Apple Watch Ultra, Apple Watch Ultra 2\n",
      "     Fitbit                                                                                                                                                                                                                                                                                                                                                                                                                                                                                                                                                                                                                                                                                                                                                                                                                            Fitbit Charge 6, Fitbit Google Ace LTE, Fitbit Inspire 3, Fitbit Sense 2, Fitbit Sense Advanced Smartwatch, Fitbit Sense Health & Fitness, Fitbit Versa 2, Fitbit Versa 4, Fitbit Versa Lite Edition Smart, Fitbit Versa Lite Smartwatch, Fitbit Versa Smart Watch, Google Pixel, Google Pixel Watch 2, Google Pixel Watch 3\n",
      "     Garmin Garmin 010-02060-00, Garmin 010-02376-00, Garmin 010-02430-00, Garmin 010-02638-10, Garmin 010-12883-00, Garmin Approach R10, Garmin Approach R50, Garmin Approach Z30, Garmin Approach Z82, Garmin Dash Cam Mini 3, Garmin Drive 52, Garmin Drive 53, Garmin DriveSmart 55, Garmin DriveSmart 66, Garmin DriveSmart 86, Garmin ECHOMAP UHD2, Garmin Edge 1040, Garmin Edge 840, Garmin Enduro 3, Garmin Fenix 5s Plus, Garmin Forerunner 265, Garmin Forerunner 55, Garmin Forerunner 745, Garmin Forerunner 965, Garmin Forerunner 970, Garmin GPSMAP 65s, Garmin GPSMAP 67i Rugged GPS, Garmin Index S2, Garmin Instinct 2, Garmin Instinct 2X Solar, Garmin Instinct 3, Garmin RV 1095, Garmin Striker Vivid 5cv, Garmin Suction cup mount, Garmin Swim 2, Garmin Tread Powersport Off-Road Navigator, Garmin Venu 2, Garmin Venu 2S, Garmin Venu 3S Soft Gold, Garmin Venu Sq 2, Garmin Xero C1, Garmin dēzl OTR1000, Garmin eLog, Garmin epix Gen 2, Garmin epix Pro, Garmin fēnix 7, Garmin fēnix 8, Garmin inReach Messenger Handheld Satellite, Garmin tactix 8, Garmin vívoactive 3, Garmin vívoactive 5, Garmin vívosmart 5, Garmin zūmo XT2\n",
      "     Google                                                                                                                                                                                                                                                                                                                                                                                                                                                                                                                                                                                                                                                                                                                                                                                                                                                                                                                                                                                                                                                      Google Pixel Watch, Google Pixel Watch 2, Google Pixel Watch 3, Google Pixel Watch 41mm Smartwatch\n",
      "     Huawei                                                                                                                                                                                                                                                                                                                                                                                                                                                                                                                                                                                                                                                                                                                                                                                                                                                                                                                                                                                                                                         HUAWEI Watch FIT 3, HUAWEI Watch FIT4, HUAWEI Watch GT 4, HUAWEI Watch GT 5, HUAWEI Watch Ultimate Smartwatches\n",
      "    Samsung                                                                                                                                                                                                                                                                                                                                                                                                                                                                                                                                                                                                                                                                                                                                                                                   SAMSUNG Electronics Galaxy Watch 4, SAMSUNG Galaxy FIT 3, SAMSUNG Galaxy Watch 5, SAMSUNG Galaxy Watch 6, SAMSUNG Galaxy Watch 7, SAMSUNG Galaxy Watch Ultra 47mm, SAMSUNG Samsung Galaxy Watch 5, Samsung Electronics Galaxy Watch 4, Samsung Galaxy Watch 4, Samsung Galaxy Watch 6, Samsung Galaxy Watch 7, Samsung Galaxy Watch Ultra 47mm, Samsung Galaxy Watch5\n",
      "     Xiaomi                                                                                                                                                                                                                                                                                                                                                                                                                                                                                                                                                                                                                                                                                                                                                                                                                                                                                                                                                                                                                                                         Xiaomi Redmi 5, Xiaomi Redmi Watch 4, Xiaomi Redmi Watch 5, Xiaomi Smart Band 9, Xiaomi Watch 2\n"
     ]
    }
   ],
   "source": [
    "# Checking product weather is smartwatch or not\n",
    "\n",
    "# Group brand -> unique products\n",
    "unique_products_df = (\n",
    "    df.groupby('brand')['products']\n",
    "      .apply(lambda x: ', '.join(sorted(x.unique())))\n",
    "      .reset_index()\n",
    "      .rename(columns={'products': 'unique_products'})\n",
    ")\n",
    "\n",
    "print(unique_products_df.to_string(index=False))\n"
   ]
  },
  {
   "cell_type": "markdown",
   "id": "7b263a68",
   "metadata": {},
   "source": [
    "Dari hasil akan dicek kembali jika ada data yang bukan smartwatch. Ini diperlukan pengecekan produk satu per satu. Tidak bisa otomatis."
   ]
  },
  {
   "cell_type": "code",
   "execution_count": 21,
   "id": "9b2260c1",
   "metadata": {},
   "outputs": [],
   "source": [
    "# List product non-smartwatch\n",
    "non_smartwatch = [\n",
    "    'Garmin Dash Cam Mini 3', 'Garmin Drive 52', 'Garmin Drive 53', 'Garmin DriveSmart 55',\n",
    "    'Garmin DriveSmart 66', 'Garmin DriveSmart 86', 'Garmin RV 1095', 'Garmin dēzl OTR1000',\n",
    "    'Garmin eLog', 'Garmin Tread Powersport Off-Road Navigator', 'Garmin Striker Vivid 5cv',\n",
    "    'Garmin Approach R10', 'Garmin Approach Z30', 'Garmin Approach Z82', 'Garmin ECHOMAP UHD2',\n",
    "    'Garmin Xero C1', 'Garmin Suction cup mount', 'Garmin inReach Messenger Handheld Satellite',\n",
    "    'Garmin 010-02060-00', 'Garmin 010-02376-00', 'Garmin 010-02430-00', 'Garmin 010-02638-10', 'Garmin 010-12883-00',\n",
    "    'Garmin Edge 1040', 'Garmin Edge 840', 'Garmin GPSMAP 65s', 'Garmin GPSMAP 67i Rugged GPS', 'Garmin Index S2', 'Garmin zūmo XT2'\n",
    "]\n",
    "\n",
    "# Drop datas\n",
    "df = df[~df['products'].isin(non_smartwatch)].reset_index(drop=True)"
   ]
  },
  {
   "cell_type": "code",
   "execution_count": 22,
   "id": "ffcfd979",
   "metadata": {},
   "outputs": [],
   "source": [
    "# Change format case and delete space\n",
    "df['products'] = df['products'].str.strip().str.title()"
   ]
  },
  {
   "cell_type": "code",
   "execution_count": 23,
   "id": "bc021c1a",
   "metadata": {},
   "outputs": [
    {
     "name": "stdout",
     "output_type": "stream",
     "text": [
      "      brand                                                                                                                                                                                                                                                                                                                                                                                                                                                                           unique_products\n",
      "    Amazfit                                                                                                                       Amazfit Active 2, Amazfit Active Smart Watch 42Mm, Amazfit Balance 2, Amazfit Balance Smart Watch 46Mm, Amazfit Band 7, Amazfit Bip 3, Amazfit Bip 5, Amazfit Bip 6, Amazfit Gtr 3, Amazfit Gtr Mini Smart Watch, Amazfit Gts 2, Amazfit Refurbished Bip 3, Amazfit Refurbished T-Rex 3, Amazfit Renewed Bip 5, Amazfit T-Rex 3, Amazfit T-Rex Ultra Tactical Smart\n",
      "Apple Watch                                                                                                                                                                                                                                           Apple Watch Se, Apple Watch Se 2Nd Gen, Apple Watch Series 10, Apple Watch Series 5, Apple Watch Series 6, Apple Watch Series 7, Apple Watch Series 8, Apple Watch Series 9, Apple Watch Series Se 44Mm, Apple Watch Ultra, Apple Watch Ultra 2\n",
      "     Fitbit                                                                                                                                                              Fitbit Charge 6, Fitbit Google Ace Lte, Fitbit Inspire 3, Fitbit Sense 2, Fitbit Sense Advanced Smartwatch, Fitbit Sense Health & Fitness, Fitbit Versa 2, Fitbit Versa 4, Fitbit Versa Lite Edition Smart, Fitbit Versa Lite Smartwatch, Fitbit Versa Smart Watch, Google Pixel, Google Pixel Watch 2, Google Pixel Watch 3\n",
      "     Garmin Garmin Approach R50, Garmin Enduro 3, Garmin Epix Gen 2, Garmin Epix Pro, Garmin Fenix 5S Plus, Garmin Forerunner 265, Garmin Forerunner 55, Garmin Forerunner 745, Garmin Forerunner 965, Garmin Forerunner 970, Garmin Fēnix 7, Garmin Fēnix 8, Garmin Instinct 2, Garmin Instinct 2X Solar, Garmin Instinct 3, Garmin Swim 2, Garmin Tactix 8, Garmin Venu 2, Garmin Venu 2S, Garmin Venu 3S Soft Gold, Garmin Venu Sq 2, Garmin Vívoactive 3, Garmin Vívoactive 5, Garmin Vívosmart 5\n",
      "     Google                                                                                                                                                                                                                                                                                                                                                                                        Google Pixel Watch, Google Pixel Watch 2, Google Pixel Watch 3, Google Pixel Watch 41Mm Smartwatch\n",
      "     Huawei                                                                                                                                                                                                                                                                                                                                                                           Huawei Watch Fit 3, Huawei Watch Fit4, Huawei Watch Gt 4, Huawei Watch Gt 5, Huawei Watch Ultimate Smartwatches\n",
      "    Samsung                                                                                                                                                                                                                                          Samsung Electronics Galaxy Watch 4, Samsung Galaxy Fit 3, Samsung Galaxy Watch 4, Samsung Galaxy Watch 5, Samsung Galaxy Watch 6, Samsung Galaxy Watch 7, Samsung Galaxy Watch Ultra 47Mm, Samsung Galaxy Watch5, Samsung Samsung Galaxy Watch 5\n",
      "     Xiaomi                                                                                                                                                                                                                                                                                                                                                                                           Xiaomi Redmi 5, Xiaomi Redmi Watch 4, Xiaomi Redmi Watch 5, Xiaomi Smart Band 9, Xiaomi Watch 2\n"
     ]
    }
   ],
   "source": [
    "# Checking product\n",
    "\n",
    "# Group brand -> unique products\n",
    "unique_products_df = (\n",
    "    df.groupby('brand')['products']\n",
    "      .apply(lambda x: ', '.join(sorted(x.unique())))\n",
    "      .reset_index()\n",
    "      .rename(columns={'products': 'unique_products'})\n",
    ")\n",
    "\n",
    "# Tampilkan semua baris\n",
    "print(unique_products_df.to_string(index=False))"
   ]
  },
  {
   "cell_type": "markdown",
   "id": "be125e98",
   "metadata": {},
   "source": [
    "Sudah tidak ada data produk yang bukan smartwatch"
   ]
  },
  {
   "cell_type": "code",
   "execution_count": 24,
   "id": "e015b5f5",
   "metadata": {},
   "outputs": [
    {
     "name": "stdout",
     "output_type": "stream",
     "text": [
      "<class 'pandas.core.frame.DataFrame'>\n",
      "RangeIndex: 373 entries, 0 to 372\n",
      "Data columns (total 11 columns):\n",
      " #   Column        Non-Null Count  Dtype \n",
      "---  ------        --------------  ----- \n",
      " 0   products      373 non-null    object\n",
      " 1   rating        373 non-null    object\n",
      " 2   price         373 non-null    object\n",
      " 3   features      373 non-null    object\n",
      " 4   battery       373 non-null    object\n",
      " 5   connectivity  373 non-null    object\n",
      " 6   gps           373 non-null    object\n",
      " 7   screen_size   373 non-null    object\n",
      " 8   img_url       373 non-null    object\n",
      " 9   brand         373 non-null    object\n",
      " 10  reviews       373 non-null    object\n",
      "dtypes: object(11)\n",
      "memory usage: 32.2+ KB\n"
     ]
    }
   ],
   "source": [
    "df.info()"
   ]
  },
  {
   "cell_type": "markdown",
   "id": "c5f9df33",
   "metadata": {},
   "source": [
    "### 2. Column rating"
   ]
  },
  {
   "cell_type": "markdown",
   "id": "bc1d9f0d",
   "metadata": {},
   "source": [
    "Kolom rating perlu dilakukan striping setelah angka rating dan hasil diubah menjadi numerikal."
   ]
  },
  {
   "cell_type": "code",
   "execution_count": 25,
   "id": "150703a0",
   "metadata": {},
   "outputs": [],
   "source": [
    "# Clean and Convert rating\n",
    "def cut_after_space_and_convert(text):\n",
    "    if not isinstance(text, str):\n",
    "        return np.nan\n",
    "\n",
    "    first_part = text.split(' ')[0]\n",
    "    try:\n",
    "        return float(first_part)\n",
    "    except ValueError:\n",
    "        return np.nan\n",
    "\n",
    "df['rating'] = df['rating'].apply(cut_after_space_and_convert)"
   ]
  },
  {
   "cell_type": "code",
   "execution_count": 26,
   "id": "31dc6b61",
   "metadata": {},
   "outputs": [
    {
     "data": {
      "text/html": [
       "<div>\n",
       "<style scoped>\n",
       "    .dataframe tbody tr th:only-of-type {\n",
       "        vertical-align: middle;\n",
       "    }\n",
       "\n",
       "    .dataframe tbody tr th {\n",
       "        vertical-align: top;\n",
       "    }\n",
       "\n",
       "    .dataframe thead th {\n",
       "        text-align: right;\n",
       "    }\n",
       "</style>\n",
       "<table border=\"1\" class=\"dataframe\">\n",
       "  <thead>\n",
       "    <tr style=\"text-align: right;\">\n",
       "      <th></th>\n",
       "      <th>products</th>\n",
       "      <th>rating</th>\n",
       "      <th>price</th>\n",
       "      <th>features</th>\n",
       "      <th>battery</th>\n",
       "      <th>connectivity</th>\n",
       "      <th>gps</th>\n",
       "      <th>screen_size</th>\n",
       "      <th>img_url</th>\n",
       "      <th>brand</th>\n",
       "      <th>reviews</th>\n",
       "    </tr>\n",
       "  </thead>\n",
       "  <tbody>\n",
       "    <tr>\n",
       "      <th>0</th>\n",
       "      <td>Amazfit Bip 6</td>\n",
       "      <td>4.5</td>\n",
       "      <td>$74.99</td>\n",
       "      <td>Multisport Tracker, Text Messaging, AI Assista...</td>\n",
       "      <td>340 Milliamp Hours</td>\n",
       "      <td>Bluetooth</td>\n",
       "      <td>Built-in GPS</td>\n",
       "      <td>1.97 Inches</td>\n",
       "      <td>https://m.media-amazon.com/images/I/61UvVTN0IE...</td>\n",
       "      <td>Amazfit</td>\n",
       "      <td>[{'review': 'I purchased this watch to replace...</td>\n",
       "    </tr>\n",
       "    <tr>\n",
       "      <th>1</th>\n",
       "      <td>Amazfit Active 2</td>\n",
       "      <td>4.5</td>\n",
       "      <td>$75.99</td>\n",
       "      <td>Multisport Tracker, Text Messaging, AI Assista...</td>\n",
       "      <td>270 Milliamp Hours</td>\n",
       "      <td>Bluetooth</td>\n",
       "      <td>Built-in GPS</td>\n",
       "      <td>1.32 Inches</td>\n",
       "      <td>https://m.media-amazon.com/images/I/71mpuO4Lqe...</td>\n",
       "      <td>Amazfit</td>\n",
       "      <td>[{'review': 'This thing blows away the Fitbit ...</td>\n",
       "    </tr>\n",
       "    <tr>\n",
       "      <th>2</th>\n",
       "      <td>Amazfit Active 2</td>\n",
       "      <td>4.5</td>\n",
       "      <td>$75.99</td>\n",
       "      <td>Multisport Tracker, Text Messaging, AI Assista...</td>\n",
       "      <td>270 Milliamp Hours</td>\n",
       "      <td>Bluetooth</td>\n",
       "      <td>Built-in GPS</td>\n",
       "      <td>1.32 Inches</td>\n",
       "      <td>https://m.media-amazon.com/images/I/71mpuO4Lqe...</td>\n",
       "      <td>Amazfit</td>\n",
       "      <td>[{'review': 'This thing blows away the Fitbit ...</td>\n",
       "    </tr>\n",
       "    <tr>\n",
       "      <th>3</th>\n",
       "      <td>Amazfit T-Rex 3</td>\n",
       "      <td>4.4</td>\n",
       "      <td>$189.99</td>\n",
       "      <td>Maps, Altitude Assistant, Compass, dual-band G...</td>\n",
       "      <td>N/A</td>\n",
       "      <td>Bluetooth, Wi-Fi</td>\n",
       "      <td>Built-in GPS</td>\n",
       "      <td>1.5 Inches</td>\n",
       "      <td>https://m.media-amazon.com/images/I/71GtgMbKvK...</td>\n",
       "      <td>Amazfit</td>\n",
       "      <td>[{'review': 'So far, after using the watch for...</td>\n",
       "    </tr>\n",
       "    <tr>\n",
       "      <th>4</th>\n",
       "      <td>Amazfit T-Rex 3</td>\n",
       "      <td>4.4</td>\n",
       "      <td>$189.99</td>\n",
       "      <td>Maps, Altitude Assistant, Compass, dual-band G...</td>\n",
       "      <td>N/A</td>\n",
       "      <td>Bluetooth, Wi-Fi</td>\n",
       "      <td>Built-in GPS</td>\n",
       "      <td>1.5 Inches</td>\n",
       "      <td>https://m.media-amazon.com/images/I/71GtgMbKvK...</td>\n",
       "      <td>Amazfit</td>\n",
       "      <td>[{'review': 'So far, after using the watch for...</td>\n",
       "    </tr>\n",
       "  </tbody>\n",
       "</table>\n",
       "</div>"
      ],
      "text/plain": [
       "           products  rating    price  \\\n",
       "0     Amazfit Bip 6     4.5   $74.99   \n",
       "1  Amazfit Active 2     4.5   $75.99   \n",
       "2  Amazfit Active 2     4.5   $75.99   \n",
       "3   Amazfit T-Rex 3     4.4  $189.99   \n",
       "4   Amazfit T-Rex 3     4.4  $189.99   \n",
       "\n",
       "                                            features             battery  \\\n",
       "0  Multisport Tracker, Text Messaging, AI Assista...  340 Milliamp Hours   \n",
       "1  Multisport Tracker, Text Messaging, AI Assista...  270 Milliamp Hours   \n",
       "2  Multisport Tracker, Text Messaging, AI Assista...  270 Milliamp Hours   \n",
       "3  Maps, Altitude Assistant, Compass, dual-band G...                 N/A   \n",
       "4  Maps, Altitude Assistant, Compass, dual-band G...                 N/A   \n",
       "\n",
       "       connectivity           gps  screen_size  \\\n",
       "0         Bluetooth  Built-in GPS  1.97 Inches   \n",
       "1         Bluetooth  Built-in GPS  1.32 Inches   \n",
       "2         Bluetooth  Built-in GPS  1.32 Inches   \n",
       "3  Bluetooth, Wi-Fi  Built-in GPS   1.5 Inches   \n",
       "4  Bluetooth, Wi-Fi  Built-in GPS   1.5 Inches   \n",
       "\n",
       "                                             img_url    brand  \\\n",
       "0  https://m.media-amazon.com/images/I/61UvVTN0IE...  Amazfit   \n",
       "1  https://m.media-amazon.com/images/I/71mpuO4Lqe...  Amazfit   \n",
       "2  https://m.media-amazon.com/images/I/71mpuO4Lqe...  Amazfit   \n",
       "3  https://m.media-amazon.com/images/I/71GtgMbKvK...  Amazfit   \n",
       "4  https://m.media-amazon.com/images/I/71GtgMbKvK...  Amazfit   \n",
       "\n",
       "                                             reviews  \n",
       "0  [{'review': 'I purchased this watch to replace...  \n",
       "1  [{'review': 'This thing blows away the Fitbit ...  \n",
       "2  [{'review': 'This thing blows away the Fitbit ...  \n",
       "3  [{'review': 'So far, after using the watch for...  \n",
       "4  [{'review': 'So far, after using the watch for...  "
      ]
     },
     "execution_count": 26,
     "metadata": {},
     "output_type": "execute_result"
    }
   ],
   "source": [
    "df.head()"
   ]
  },
  {
   "cell_type": "code",
   "execution_count": 27,
   "id": "d840d766",
   "metadata": {},
   "outputs": [
    {
     "name": "stdout",
     "output_type": "stream",
     "text": [
      "<class 'pandas.core.frame.DataFrame'>\n",
      "RangeIndex: 373 entries, 0 to 372\n",
      "Data columns (total 11 columns):\n",
      " #   Column        Non-Null Count  Dtype  \n",
      "---  ------        --------------  -----  \n",
      " 0   products      373 non-null    object \n",
      " 1   rating        373 non-null    float64\n",
      " 2   price         373 non-null    object \n",
      " 3   features      373 non-null    object \n",
      " 4   battery       373 non-null    object \n",
      " 5   connectivity  373 non-null    object \n",
      " 6   gps           373 non-null    object \n",
      " 7   screen_size   373 non-null    object \n",
      " 8   img_url       373 non-null    object \n",
      " 9   brand         373 non-null    object \n",
      " 10  reviews       373 non-null    object \n",
      "dtypes: float64(1), object(10)\n",
      "memory usage: 32.2+ KB\n"
     ]
    }
   ],
   "source": [
    "df.info()"
   ]
  },
  {
   "cell_type": "markdown",
   "id": "23058598",
   "metadata": {},
   "source": [
    "Kolom rating sudah bersih dan berbentuk numerical."
   ]
  },
  {
   "cell_type": "markdown",
   "id": "8dc1d552",
   "metadata": {},
   "source": [
    "### 3. Column price"
   ]
  },
  {
   "cell_type": "markdown",
   "id": "691fa9e6",
   "metadata": {},
   "source": [
    "Kolom harga akan di strip bagian non numeric nya sepertii tanda dollar dan diubah ke bentuk numerical."
   ]
  },
  {
   "cell_type": "code",
   "execution_count": 28,
   "id": "e6e4f673",
   "metadata": {},
   "outputs": [],
   "source": [
    "# Change 'N/A' to NaN\n",
    "df['price'] = df['price'].replace('N/A', np.nan)"
   ]
  },
  {
   "cell_type": "code",
   "execution_count": 29,
   "id": "e20fc7bb",
   "metadata": {},
   "outputs": [],
   "source": [
    "# Clean and convert price\n",
    "df['price'] = df['price'].astype(str).str.replace(r'[^\\d\\.]', '', regex=True)\n",
    "\n",
    "# Convert to float\n",
    "df['price'] = pd.to_numeric(df['price'], errors='coerce')"
   ]
  },
  {
   "cell_type": "code",
   "execution_count": 30,
   "id": "150bb037",
   "metadata": {},
   "outputs": [
    {
     "data": {
      "text/html": [
       "<div>\n",
       "<style scoped>\n",
       "    .dataframe tbody tr th:only-of-type {\n",
       "        vertical-align: middle;\n",
       "    }\n",
       "\n",
       "    .dataframe tbody tr th {\n",
       "        vertical-align: top;\n",
       "    }\n",
       "\n",
       "    .dataframe thead th {\n",
       "        text-align: right;\n",
       "    }\n",
       "</style>\n",
       "<table border=\"1\" class=\"dataframe\">\n",
       "  <thead>\n",
       "    <tr style=\"text-align: right;\">\n",
       "      <th></th>\n",
       "      <th>products</th>\n",
       "      <th>rating</th>\n",
       "      <th>price</th>\n",
       "      <th>features</th>\n",
       "      <th>battery</th>\n",
       "      <th>connectivity</th>\n",
       "      <th>gps</th>\n",
       "      <th>screen_size</th>\n",
       "      <th>img_url</th>\n",
       "      <th>brand</th>\n",
       "      <th>reviews</th>\n",
       "    </tr>\n",
       "  </thead>\n",
       "  <tbody>\n",
       "    <tr>\n",
       "      <th>0</th>\n",
       "      <td>Amazfit Bip 6</td>\n",
       "      <td>4.5</td>\n",
       "      <td>74.99</td>\n",
       "      <td>Multisport Tracker, Text Messaging, AI Assista...</td>\n",
       "      <td>340 Milliamp Hours</td>\n",
       "      <td>Bluetooth</td>\n",
       "      <td>Built-in GPS</td>\n",
       "      <td>1.97 Inches</td>\n",
       "      <td>https://m.media-amazon.com/images/I/61UvVTN0IE...</td>\n",
       "      <td>Amazfit</td>\n",
       "      <td>[{'review': 'I purchased this watch to replace...</td>\n",
       "    </tr>\n",
       "    <tr>\n",
       "      <th>1</th>\n",
       "      <td>Amazfit Active 2</td>\n",
       "      <td>4.5</td>\n",
       "      <td>75.99</td>\n",
       "      <td>Multisport Tracker, Text Messaging, AI Assista...</td>\n",
       "      <td>270 Milliamp Hours</td>\n",
       "      <td>Bluetooth</td>\n",
       "      <td>Built-in GPS</td>\n",
       "      <td>1.32 Inches</td>\n",
       "      <td>https://m.media-amazon.com/images/I/71mpuO4Lqe...</td>\n",
       "      <td>Amazfit</td>\n",
       "      <td>[{'review': 'This thing blows away the Fitbit ...</td>\n",
       "    </tr>\n",
       "    <tr>\n",
       "      <th>2</th>\n",
       "      <td>Amazfit Active 2</td>\n",
       "      <td>4.5</td>\n",
       "      <td>75.99</td>\n",
       "      <td>Multisport Tracker, Text Messaging, AI Assista...</td>\n",
       "      <td>270 Milliamp Hours</td>\n",
       "      <td>Bluetooth</td>\n",
       "      <td>Built-in GPS</td>\n",
       "      <td>1.32 Inches</td>\n",
       "      <td>https://m.media-amazon.com/images/I/71mpuO4Lqe...</td>\n",
       "      <td>Amazfit</td>\n",
       "      <td>[{'review': 'This thing blows away the Fitbit ...</td>\n",
       "    </tr>\n",
       "    <tr>\n",
       "      <th>3</th>\n",
       "      <td>Amazfit T-Rex 3</td>\n",
       "      <td>4.4</td>\n",
       "      <td>189.99</td>\n",
       "      <td>Maps, Altitude Assistant, Compass, dual-band G...</td>\n",
       "      <td>N/A</td>\n",
       "      <td>Bluetooth, Wi-Fi</td>\n",
       "      <td>Built-in GPS</td>\n",
       "      <td>1.5 Inches</td>\n",
       "      <td>https://m.media-amazon.com/images/I/71GtgMbKvK...</td>\n",
       "      <td>Amazfit</td>\n",
       "      <td>[{'review': 'So far, after using the watch for...</td>\n",
       "    </tr>\n",
       "    <tr>\n",
       "      <th>4</th>\n",
       "      <td>Amazfit T-Rex 3</td>\n",
       "      <td>4.4</td>\n",
       "      <td>189.99</td>\n",
       "      <td>Maps, Altitude Assistant, Compass, dual-band G...</td>\n",
       "      <td>N/A</td>\n",
       "      <td>Bluetooth, Wi-Fi</td>\n",
       "      <td>Built-in GPS</td>\n",
       "      <td>1.5 Inches</td>\n",
       "      <td>https://m.media-amazon.com/images/I/71GtgMbKvK...</td>\n",
       "      <td>Amazfit</td>\n",
       "      <td>[{'review': 'So far, after using the watch for...</td>\n",
       "    </tr>\n",
       "  </tbody>\n",
       "</table>\n",
       "</div>"
      ],
      "text/plain": [
       "           products  rating   price  \\\n",
       "0     Amazfit Bip 6     4.5   74.99   \n",
       "1  Amazfit Active 2     4.5   75.99   \n",
       "2  Amazfit Active 2     4.5   75.99   \n",
       "3   Amazfit T-Rex 3     4.4  189.99   \n",
       "4   Amazfit T-Rex 3     4.4  189.99   \n",
       "\n",
       "                                            features             battery  \\\n",
       "0  Multisport Tracker, Text Messaging, AI Assista...  340 Milliamp Hours   \n",
       "1  Multisport Tracker, Text Messaging, AI Assista...  270 Milliamp Hours   \n",
       "2  Multisport Tracker, Text Messaging, AI Assista...  270 Milliamp Hours   \n",
       "3  Maps, Altitude Assistant, Compass, dual-band G...                 N/A   \n",
       "4  Maps, Altitude Assistant, Compass, dual-band G...                 N/A   \n",
       "\n",
       "       connectivity           gps  screen_size  \\\n",
       "0         Bluetooth  Built-in GPS  1.97 Inches   \n",
       "1         Bluetooth  Built-in GPS  1.32 Inches   \n",
       "2         Bluetooth  Built-in GPS  1.32 Inches   \n",
       "3  Bluetooth, Wi-Fi  Built-in GPS   1.5 Inches   \n",
       "4  Bluetooth, Wi-Fi  Built-in GPS   1.5 Inches   \n",
       "\n",
       "                                             img_url    brand  \\\n",
       "0  https://m.media-amazon.com/images/I/61UvVTN0IE...  Amazfit   \n",
       "1  https://m.media-amazon.com/images/I/71mpuO4Lqe...  Amazfit   \n",
       "2  https://m.media-amazon.com/images/I/71mpuO4Lqe...  Amazfit   \n",
       "3  https://m.media-amazon.com/images/I/71GtgMbKvK...  Amazfit   \n",
       "4  https://m.media-amazon.com/images/I/71GtgMbKvK...  Amazfit   \n",
       "\n",
       "                                             reviews  \n",
       "0  [{'review': 'I purchased this watch to replace...  \n",
       "1  [{'review': 'This thing blows away the Fitbit ...  \n",
       "2  [{'review': 'This thing blows away the Fitbit ...  \n",
       "3  [{'review': 'So far, after using the watch for...  \n",
       "4  [{'review': 'So far, after using the watch for...  "
      ]
     },
     "execution_count": 30,
     "metadata": {},
     "output_type": "execute_result"
    }
   ],
   "source": [
    "df.head()"
   ]
  },
  {
   "cell_type": "code",
   "execution_count": 31,
   "id": "e9d0f196",
   "metadata": {},
   "outputs": [
    {
     "name": "stdout",
     "output_type": "stream",
     "text": [
      "<class 'pandas.core.frame.DataFrame'>\n",
      "RangeIndex: 373 entries, 0 to 372\n",
      "Data columns (total 11 columns):\n",
      " #   Column        Non-Null Count  Dtype  \n",
      "---  ------        --------------  -----  \n",
      " 0   products      373 non-null    object \n",
      " 1   rating        373 non-null    float64\n",
      " 2   price         372 non-null    float64\n",
      " 3   features      373 non-null    object \n",
      " 4   battery       373 non-null    object \n",
      " 5   connectivity  373 non-null    object \n",
      " 6   gps           373 non-null    object \n",
      " 7   screen_size   373 non-null    object \n",
      " 8   img_url       373 non-null    object \n",
      " 9   brand         373 non-null    object \n",
      " 10  reviews       373 non-null    object \n",
      "dtypes: float64(2), object(9)\n",
      "memory usage: 32.2+ KB\n"
     ]
    }
   ],
   "source": [
    "df.info()"
   ]
  },
  {
   "cell_type": "markdown",
   "id": "67d7b330",
   "metadata": {},
   "source": [
    "Kolom price sudah bersih dan berbentuk type numerical."
   ]
  },
  {
   "cell_type": "markdown",
   "id": "4d745db8",
   "metadata": {},
   "source": [
    "### 4. Column features"
   ]
  },
  {
   "cell_type": "markdown",
   "id": "0ed01db4",
   "metadata": {},
   "source": [
    "Kolom features tidak ada perubahan, hanya kalau memiliki 'N/A' diubah ke null."
   ]
  },
  {
   "cell_type": "code",
   "execution_count": 32,
   "id": "a21d1f2d",
   "metadata": {},
   "outputs": [],
   "source": [
    "# Change 'N/A' to NaN\n",
    "df['features'] = df['features'].replace('N/A', np.nan)"
   ]
  },
  {
   "cell_type": "code",
   "execution_count": 33,
   "id": "cf65eda5",
   "metadata": {},
   "outputs": [
    {
     "name": "stdout",
     "output_type": "stream",
     "text": [
      "<class 'pandas.core.frame.DataFrame'>\n",
      "RangeIndex: 373 entries, 0 to 372\n",
      "Data columns (total 11 columns):\n",
      " #   Column        Non-Null Count  Dtype  \n",
      "---  ------        --------------  -----  \n",
      " 0   products      373 non-null    object \n",
      " 1   rating        373 non-null    float64\n",
      " 2   price         372 non-null    float64\n",
      " 3   features      357 non-null    object \n",
      " 4   battery       373 non-null    object \n",
      " 5   connectivity  373 non-null    object \n",
      " 6   gps           373 non-null    object \n",
      " 7   screen_size   373 non-null    object \n",
      " 8   img_url       373 non-null    object \n",
      " 9   brand         373 non-null    object \n",
      " 10  reviews       373 non-null    object \n",
      "dtypes: float64(2), object(9)\n",
      "memory usage: 32.2+ KB\n"
     ]
    }
   ],
   "source": [
    "df.info()"
   ]
  },
  {
   "cell_type": "markdown",
   "id": "af63b385",
   "metadata": {},
   "source": [
    "### 5. Column battery"
   ]
  },
  {
   "cell_type": "markdown",
   "id": "a8aa3495",
   "metadata": {},
   "source": [
    "Kolom battery dilakukan pemotongan non numeric karakter dan konversi semua ke mah. Kemudian convert ke numerical type."
   ]
  },
  {
   "cell_type": "code",
   "execution_count": 34,
   "id": "e0e6dd6d",
   "metadata": {},
   "outputs": [],
   "source": [
    "# Clean and Change battery\n",
    "\n",
    "def clean_battery(value):\n",
    "    if not isinstance(value, str):\n",
    "        return np.nan\n",
    "\n",
    "    value = value.strip().lower()\n",
    "\n",
    "    if value in ['n/a', 'na']:\n",
    "        return np.nan\n",
    "\n",
    "    # Handle scientific notation (e.g., 1E+1)\n",
    "    if re.match(r'^\\d+(\\.\\d+)?[eE][+-]?\\d+', value):\n",
    "        try:\n",
    "            return float(value)\n",
    "        except:\n",
    "            return np.nan\n",
    "\n",
    "    # Extract numeric value\n",
    "    match = re.search(r'(\\d+(\\.\\d+)?([eE][+-]?\\d+)?)', value)\n",
    "    if not match:\n",
    "        return np.nan\n",
    "\n",
    "    num = float(match.group(1))\n",
    "\n",
    "    # Convert based on unit\n",
    "    if 'milliamp' in value or 'mah' in value:\n",
    "        return num\n",
    "    elif re.search(r'\\bamp(?:ere)? hour', value):  # e.g., 0.3 amp hour\n",
    "        return num * 1000\n",
    "    elif 'day' in value:\n",
    "        return num * 24 * 25  # 25mA per hour × 24 jam, 25mA average current for smartwatch\n",
    "    elif 'hour' in value or 'hr' in value:\n",
    "        return num * 25       # 25mA per hour\n",
    "    elif re.fullmatch(r'\\d+(\\.\\d+)?', value):  # plain number\n",
    "        return num\n",
    "    else:\n",
    "        return np.nan\n",
    "    \n",
    "df['battery'] = df['battery'].apply(clean_battery)"
   ]
  },
  {
   "cell_type": "code",
   "execution_count": 35,
   "id": "87d72e8f",
   "metadata": {},
   "outputs": [
    {
     "data": {
      "text/html": [
       "<div>\n",
       "<style scoped>\n",
       "    .dataframe tbody tr th:only-of-type {\n",
       "        vertical-align: middle;\n",
       "    }\n",
       "\n",
       "    .dataframe tbody tr th {\n",
       "        vertical-align: top;\n",
       "    }\n",
       "\n",
       "    .dataframe thead th {\n",
       "        text-align: right;\n",
       "    }\n",
       "</style>\n",
       "<table border=\"1\" class=\"dataframe\">\n",
       "  <thead>\n",
       "    <tr style=\"text-align: right;\">\n",
       "      <th></th>\n",
       "      <th>products</th>\n",
       "      <th>rating</th>\n",
       "      <th>price</th>\n",
       "      <th>features</th>\n",
       "      <th>battery</th>\n",
       "      <th>connectivity</th>\n",
       "      <th>gps</th>\n",
       "      <th>screen_size</th>\n",
       "      <th>img_url</th>\n",
       "      <th>brand</th>\n",
       "      <th>reviews</th>\n",
       "    </tr>\n",
       "  </thead>\n",
       "  <tbody>\n",
       "    <tr>\n",
       "      <th>0</th>\n",
       "      <td>Amazfit Bip 6</td>\n",
       "      <td>4.5</td>\n",
       "      <td>74.99</td>\n",
       "      <td>Multisport Tracker, Text Messaging, AI Assista...</td>\n",
       "      <td>340.0</td>\n",
       "      <td>Bluetooth</td>\n",
       "      <td>Built-in GPS</td>\n",
       "      <td>1.97 Inches</td>\n",
       "      <td>https://m.media-amazon.com/images/I/61UvVTN0IE...</td>\n",
       "      <td>Amazfit</td>\n",
       "      <td>[{'review': 'I purchased this watch to replace...</td>\n",
       "    </tr>\n",
       "    <tr>\n",
       "      <th>1</th>\n",
       "      <td>Amazfit Active 2</td>\n",
       "      <td>4.5</td>\n",
       "      <td>75.99</td>\n",
       "      <td>Multisport Tracker, Text Messaging, AI Assista...</td>\n",
       "      <td>270.0</td>\n",
       "      <td>Bluetooth</td>\n",
       "      <td>Built-in GPS</td>\n",
       "      <td>1.32 Inches</td>\n",
       "      <td>https://m.media-amazon.com/images/I/71mpuO4Lqe...</td>\n",
       "      <td>Amazfit</td>\n",
       "      <td>[{'review': 'This thing blows away the Fitbit ...</td>\n",
       "    </tr>\n",
       "    <tr>\n",
       "      <th>2</th>\n",
       "      <td>Amazfit Active 2</td>\n",
       "      <td>4.5</td>\n",
       "      <td>75.99</td>\n",
       "      <td>Multisport Tracker, Text Messaging, AI Assista...</td>\n",
       "      <td>270.0</td>\n",
       "      <td>Bluetooth</td>\n",
       "      <td>Built-in GPS</td>\n",
       "      <td>1.32 Inches</td>\n",
       "      <td>https://m.media-amazon.com/images/I/71mpuO4Lqe...</td>\n",
       "      <td>Amazfit</td>\n",
       "      <td>[{'review': 'This thing blows away the Fitbit ...</td>\n",
       "    </tr>\n",
       "    <tr>\n",
       "      <th>3</th>\n",
       "      <td>Amazfit T-Rex 3</td>\n",
       "      <td>4.4</td>\n",
       "      <td>189.99</td>\n",
       "      <td>Maps, Altitude Assistant, Compass, dual-band G...</td>\n",
       "      <td>NaN</td>\n",
       "      <td>Bluetooth, Wi-Fi</td>\n",
       "      <td>Built-in GPS</td>\n",
       "      <td>1.5 Inches</td>\n",
       "      <td>https://m.media-amazon.com/images/I/71GtgMbKvK...</td>\n",
       "      <td>Amazfit</td>\n",
       "      <td>[{'review': 'So far, after using the watch for...</td>\n",
       "    </tr>\n",
       "    <tr>\n",
       "      <th>4</th>\n",
       "      <td>Amazfit T-Rex 3</td>\n",
       "      <td>4.4</td>\n",
       "      <td>189.99</td>\n",
       "      <td>Maps, Altitude Assistant, Compass, dual-band G...</td>\n",
       "      <td>NaN</td>\n",
       "      <td>Bluetooth, Wi-Fi</td>\n",
       "      <td>Built-in GPS</td>\n",
       "      <td>1.5 Inches</td>\n",
       "      <td>https://m.media-amazon.com/images/I/71GtgMbKvK...</td>\n",
       "      <td>Amazfit</td>\n",
       "      <td>[{'review': 'So far, after using the watch for...</td>\n",
       "    </tr>\n",
       "  </tbody>\n",
       "</table>\n",
       "</div>"
      ],
      "text/plain": [
       "           products  rating   price  \\\n",
       "0     Amazfit Bip 6     4.5   74.99   \n",
       "1  Amazfit Active 2     4.5   75.99   \n",
       "2  Amazfit Active 2     4.5   75.99   \n",
       "3   Amazfit T-Rex 3     4.4  189.99   \n",
       "4   Amazfit T-Rex 3     4.4  189.99   \n",
       "\n",
       "                                            features  battery  \\\n",
       "0  Multisport Tracker, Text Messaging, AI Assista...    340.0   \n",
       "1  Multisport Tracker, Text Messaging, AI Assista...    270.0   \n",
       "2  Multisport Tracker, Text Messaging, AI Assista...    270.0   \n",
       "3  Maps, Altitude Assistant, Compass, dual-band G...      NaN   \n",
       "4  Maps, Altitude Assistant, Compass, dual-band G...      NaN   \n",
       "\n",
       "       connectivity           gps  screen_size  \\\n",
       "0         Bluetooth  Built-in GPS  1.97 Inches   \n",
       "1         Bluetooth  Built-in GPS  1.32 Inches   \n",
       "2         Bluetooth  Built-in GPS  1.32 Inches   \n",
       "3  Bluetooth, Wi-Fi  Built-in GPS   1.5 Inches   \n",
       "4  Bluetooth, Wi-Fi  Built-in GPS   1.5 Inches   \n",
       "\n",
       "                                             img_url    brand  \\\n",
       "0  https://m.media-amazon.com/images/I/61UvVTN0IE...  Amazfit   \n",
       "1  https://m.media-amazon.com/images/I/71mpuO4Lqe...  Amazfit   \n",
       "2  https://m.media-amazon.com/images/I/71mpuO4Lqe...  Amazfit   \n",
       "3  https://m.media-amazon.com/images/I/71GtgMbKvK...  Amazfit   \n",
       "4  https://m.media-amazon.com/images/I/71GtgMbKvK...  Amazfit   \n",
       "\n",
       "                                             reviews  \n",
       "0  [{'review': 'I purchased this watch to replace...  \n",
       "1  [{'review': 'This thing blows away the Fitbit ...  \n",
       "2  [{'review': 'This thing blows away the Fitbit ...  \n",
       "3  [{'review': 'So far, after using the watch for...  \n",
       "4  [{'review': 'So far, after using the watch for...  "
      ]
     },
     "execution_count": 35,
     "metadata": {},
     "output_type": "execute_result"
    }
   ],
   "source": [
    "df.head()"
   ]
  },
  {
   "cell_type": "code",
   "execution_count": 36,
   "id": "72f2a171",
   "metadata": {},
   "outputs": [
    {
     "name": "stdout",
     "output_type": "stream",
     "text": [
      "<class 'pandas.core.frame.DataFrame'>\n",
      "RangeIndex: 373 entries, 0 to 372\n",
      "Data columns (total 11 columns):\n",
      " #   Column        Non-Null Count  Dtype  \n",
      "---  ------        --------------  -----  \n",
      " 0   products      373 non-null    object \n",
      " 1   rating        373 non-null    float64\n",
      " 2   price         372 non-null    float64\n",
      " 3   features      357 non-null    object \n",
      " 4   battery       202 non-null    float64\n",
      " 5   connectivity  373 non-null    object \n",
      " 6   gps           373 non-null    object \n",
      " 7   screen_size   373 non-null    object \n",
      " 8   img_url       373 non-null    object \n",
      " 9   brand         373 non-null    object \n",
      " 10  reviews       373 non-null    object \n",
      "dtypes: float64(3), object(8)\n",
      "memory usage: 32.2+ KB\n"
     ]
    }
   ],
   "source": [
    "df.info()"
   ]
  },
  {
   "cell_type": "markdown",
   "id": "c5cafbea",
   "metadata": {},
   "source": [
    "Kolom battery sudah bersih dan dikonversi ke mAh. Juga sudah berbentuk numerical."
   ]
  },
  {
   "cell_type": "markdown",
   "id": "eda9f9d7",
   "metadata": {},
   "source": [
    "### 6. Column connectivity"
   ]
  },
  {
   "cell_type": "markdown",
   "id": "0df8c9bc",
   "metadata": {},
   "source": [
    "Kolom connectivity tidak ada perubahan, hanya kalau memiliki 'N/A' diubah ke null."
   ]
  },
  {
   "cell_type": "code",
   "execution_count": 37,
   "id": "0686f7f2",
   "metadata": {},
   "outputs": [],
   "source": [
    "# Change 'N/A' to NaN\n",
    "df['connectivity'] = df['connectivity'].replace('N/A', np.nan)"
   ]
  },
  {
   "cell_type": "code",
   "execution_count": 38,
   "id": "55c4d1e6",
   "metadata": {},
   "outputs": [
    {
     "name": "stdout",
     "output_type": "stream",
     "text": [
      "<class 'pandas.core.frame.DataFrame'>\n",
      "RangeIndex: 373 entries, 0 to 372\n",
      "Data columns (total 11 columns):\n",
      " #   Column        Non-Null Count  Dtype  \n",
      "---  ------        --------------  -----  \n",
      " 0   products      373 non-null    object \n",
      " 1   rating        373 non-null    float64\n",
      " 2   price         372 non-null    float64\n",
      " 3   features      357 non-null    object \n",
      " 4   battery       202 non-null    float64\n",
      " 5   connectivity  358 non-null    object \n",
      " 6   gps           373 non-null    object \n",
      " 7   screen_size   373 non-null    object \n",
      " 8   img_url       373 non-null    object \n",
      " 9   brand         373 non-null    object \n",
      " 10  reviews       373 non-null    object \n",
      "dtypes: float64(3), object(8)\n",
      "memory usage: 32.2+ KB\n"
     ]
    }
   ],
   "source": [
    "df.info()"
   ]
  },
  {
   "cell_type": "markdown",
   "id": "91af9e8f",
   "metadata": {},
   "source": [
    "### 7. Column gps"
   ]
  },
  {
   "cell_type": "markdown",
   "id": "81308f76",
   "metadata": {},
   "source": [
    "Kolom gps memiliki isi string yang bervariasi karena hasil scraping, kolom gps berfungsi untuk mengetahui apakah gps tersedia atau tidak pada produk."
   ]
  },
  {
   "cell_type": "code",
   "execution_count": 39,
   "id": "c2a59ec6",
   "metadata": {},
   "outputs": [
    {
     "data": {
      "text/plain": [
       "array(['Built-in GPS', 'GPS Enabled', 'GPS Via Smartphone', 'N/A', 'True',\n",
       "       'built-in gps', 'Yes', 'Gps enabled', 'No GPS',\n",
       "       'Gps Route Tracking'], dtype=object)"
      ]
     },
     "execution_count": 39,
     "metadata": {},
     "output_type": "execute_result"
    }
   ],
   "source": [
    "# Check unique value\n",
    "df.gps.unique()"
   ]
  },
  {
   "cell_type": "markdown",
   "id": "66666059",
   "metadata": {},
   "source": [
    "Dilakukan konversi ke nilai 1 dan 0 atau punya dan tidak punya gps. Sehingga memudahkan analysis."
   ]
  },
  {
   "cell_type": "code",
   "execution_count": 40,
   "id": "a982a7a9",
   "metadata": {},
   "outputs": [],
   "source": [
    "# Cleaning and convert gps column\n",
    "def clean_gps(value):\n",
    "    if not isinstance(value, str):\n",
    "        return np.nan\n",
    "    \n",
    "    value = value.lower().strip()\n",
    "    \n",
    "    yes_values = [\n",
    "        'built-in gps', 'gps enabled', 'gps via smartphone',\n",
    "        'yes', 'true', 'gps route tracking'\n",
    "    ]\n",
    "    \n",
    "    no_values = ['no gps', 'no', 'false']\n",
    "    \n",
    "    if value in yes_values:\n",
    "        return 1\n",
    "    elif value in no_values:\n",
    "        return 0\n",
    "    else:\n",
    "        return np.nan  # for 'N/A'\n",
    "\n",
    "df['gps'] = df['gps'].apply(clean_gps)\n"
   ]
  },
  {
   "cell_type": "code",
   "execution_count": 41,
   "id": "24d95155",
   "metadata": {},
   "outputs": [
    {
     "data": {
      "text/plain": [
       "array([ 1., nan,  0.])"
      ]
     },
     "execution_count": 41,
     "metadata": {},
     "output_type": "execute_result"
    }
   ],
   "source": [
    "# Check unique value\n",
    "df.gps.unique()"
   ]
  },
  {
   "cell_type": "markdown",
   "id": "91bb667d",
   "metadata": {},
   "source": [
    "Hasil sudah 1 and 0 pada kolom gps."
   ]
  },
  {
   "cell_type": "code",
   "execution_count": 42,
   "id": "65b44d28",
   "metadata": {},
   "outputs": [
    {
     "name": "stdout",
     "output_type": "stream",
     "text": [
      "<class 'pandas.core.frame.DataFrame'>\n",
      "RangeIndex: 373 entries, 0 to 372\n",
      "Data columns (total 11 columns):\n",
      " #   Column        Non-Null Count  Dtype  \n",
      "---  ------        --------------  -----  \n",
      " 0   products      373 non-null    object \n",
      " 1   rating        373 non-null    float64\n",
      " 2   price         372 non-null    float64\n",
      " 3   features      357 non-null    object \n",
      " 4   battery       202 non-null    float64\n",
      " 5   connectivity  358 non-null    object \n",
      " 6   gps           352 non-null    float64\n",
      " 7   screen_size   373 non-null    object \n",
      " 8   img_url       373 non-null    object \n",
      " 9   brand         373 non-null    object \n",
      " 10  reviews       373 non-null    object \n",
      "dtypes: float64(4), object(7)\n",
      "memory usage: 32.2+ KB\n"
     ]
    }
   ],
   "source": [
    "df.info()"
   ]
  },
  {
   "cell_type": "markdown",
   "id": "79b93ad4",
   "metadata": {},
   "source": [
    "### 8. Column screen_size"
   ]
  },
  {
   "cell_type": "markdown",
   "id": "3c9ec762",
   "metadata": {},
   "source": [
    "Kolom screen_size dilakukan striping satuannya dan kemudian konversi ke inch dan ubah ke numrical type."
   ]
  },
  {
   "cell_type": "code",
   "execution_count": 43,
   "id": "adbee1ea",
   "metadata": {},
   "outputs": [],
   "source": [
    "# Clean and Convert screen_size\n",
    "def clean_screen_size(value):\n",
    "\n",
    "    if not isinstance(value, str):\n",
    "        return np.nan\n",
    "\n",
    "    value = value.strip().lower()\n",
    "\n",
    "    if value in ['N/A']:\n",
    "        return np.nan\n",
    "\n",
    "    # Extract numeric value (float or scientific)\n",
    "    match = re.search(r'(\\d+(\\.\\d+)?([eE][+-]?\\d+)?)', value)\n",
    "    if not match:\n",
    "        return np.nan\n",
    "\n",
    "    size = float(match.group(1))\n",
    "\n",
    "    # Convert based on unit\n",
    "    if 'millimeter' in value:\n",
    "        return size / 25.4  # 1 inch = 25.4 mm\n",
    "    elif 'centimeter' in value:\n",
    "        return size / 2.54  # 1 inch = 2.54 cm\n",
    "    else:\n",
    "        return size  # assume already in inches\n",
    "    \n",
    "df['screen_size'] = df['screen_size'].apply(clean_screen_size)"
   ]
  },
  {
   "cell_type": "code",
   "execution_count": 44,
   "id": "4f668b62",
   "metadata": {},
   "outputs": [
    {
     "data": {
      "text/html": [
       "<div>\n",
       "<style scoped>\n",
       "    .dataframe tbody tr th:only-of-type {\n",
       "        vertical-align: middle;\n",
       "    }\n",
       "\n",
       "    .dataframe tbody tr th {\n",
       "        vertical-align: top;\n",
       "    }\n",
       "\n",
       "    .dataframe thead th {\n",
       "        text-align: right;\n",
       "    }\n",
       "</style>\n",
       "<table border=\"1\" class=\"dataframe\">\n",
       "  <thead>\n",
       "    <tr style=\"text-align: right;\">\n",
       "      <th></th>\n",
       "      <th>products</th>\n",
       "      <th>rating</th>\n",
       "      <th>price</th>\n",
       "      <th>features</th>\n",
       "      <th>battery</th>\n",
       "      <th>connectivity</th>\n",
       "      <th>gps</th>\n",
       "      <th>screen_size</th>\n",
       "      <th>img_url</th>\n",
       "      <th>brand</th>\n",
       "      <th>reviews</th>\n",
       "    </tr>\n",
       "  </thead>\n",
       "  <tbody>\n",
       "    <tr>\n",
       "      <th>0</th>\n",
       "      <td>Amazfit Bip 6</td>\n",
       "      <td>4.5</td>\n",
       "      <td>74.99</td>\n",
       "      <td>Multisport Tracker, Text Messaging, AI Assista...</td>\n",
       "      <td>340.0</td>\n",
       "      <td>Bluetooth</td>\n",
       "      <td>1.0</td>\n",
       "      <td>1.97</td>\n",
       "      <td>https://m.media-amazon.com/images/I/61UvVTN0IE...</td>\n",
       "      <td>Amazfit</td>\n",
       "      <td>[{'review': 'I purchased this watch to replace...</td>\n",
       "    </tr>\n",
       "    <tr>\n",
       "      <th>1</th>\n",
       "      <td>Amazfit Active 2</td>\n",
       "      <td>4.5</td>\n",
       "      <td>75.99</td>\n",
       "      <td>Multisport Tracker, Text Messaging, AI Assista...</td>\n",
       "      <td>270.0</td>\n",
       "      <td>Bluetooth</td>\n",
       "      <td>1.0</td>\n",
       "      <td>1.32</td>\n",
       "      <td>https://m.media-amazon.com/images/I/71mpuO4Lqe...</td>\n",
       "      <td>Amazfit</td>\n",
       "      <td>[{'review': 'This thing blows away the Fitbit ...</td>\n",
       "    </tr>\n",
       "    <tr>\n",
       "      <th>2</th>\n",
       "      <td>Amazfit Active 2</td>\n",
       "      <td>4.5</td>\n",
       "      <td>75.99</td>\n",
       "      <td>Multisport Tracker, Text Messaging, AI Assista...</td>\n",
       "      <td>270.0</td>\n",
       "      <td>Bluetooth</td>\n",
       "      <td>1.0</td>\n",
       "      <td>1.32</td>\n",
       "      <td>https://m.media-amazon.com/images/I/71mpuO4Lqe...</td>\n",
       "      <td>Amazfit</td>\n",
       "      <td>[{'review': 'This thing blows away the Fitbit ...</td>\n",
       "    </tr>\n",
       "    <tr>\n",
       "      <th>3</th>\n",
       "      <td>Amazfit T-Rex 3</td>\n",
       "      <td>4.4</td>\n",
       "      <td>189.99</td>\n",
       "      <td>Maps, Altitude Assistant, Compass, dual-band G...</td>\n",
       "      <td>NaN</td>\n",
       "      <td>Bluetooth, Wi-Fi</td>\n",
       "      <td>1.0</td>\n",
       "      <td>1.50</td>\n",
       "      <td>https://m.media-amazon.com/images/I/71GtgMbKvK...</td>\n",
       "      <td>Amazfit</td>\n",
       "      <td>[{'review': 'So far, after using the watch for...</td>\n",
       "    </tr>\n",
       "    <tr>\n",
       "      <th>4</th>\n",
       "      <td>Amazfit T-Rex 3</td>\n",
       "      <td>4.4</td>\n",
       "      <td>189.99</td>\n",
       "      <td>Maps, Altitude Assistant, Compass, dual-band G...</td>\n",
       "      <td>NaN</td>\n",
       "      <td>Bluetooth, Wi-Fi</td>\n",
       "      <td>1.0</td>\n",
       "      <td>1.50</td>\n",
       "      <td>https://m.media-amazon.com/images/I/71GtgMbKvK...</td>\n",
       "      <td>Amazfit</td>\n",
       "      <td>[{'review': 'So far, after using the watch for...</td>\n",
       "    </tr>\n",
       "  </tbody>\n",
       "</table>\n",
       "</div>"
      ],
      "text/plain": [
       "           products  rating   price  \\\n",
       "0     Amazfit Bip 6     4.5   74.99   \n",
       "1  Amazfit Active 2     4.5   75.99   \n",
       "2  Amazfit Active 2     4.5   75.99   \n",
       "3   Amazfit T-Rex 3     4.4  189.99   \n",
       "4   Amazfit T-Rex 3     4.4  189.99   \n",
       "\n",
       "                                            features  battery  \\\n",
       "0  Multisport Tracker, Text Messaging, AI Assista...    340.0   \n",
       "1  Multisport Tracker, Text Messaging, AI Assista...    270.0   \n",
       "2  Multisport Tracker, Text Messaging, AI Assista...    270.0   \n",
       "3  Maps, Altitude Assistant, Compass, dual-band G...      NaN   \n",
       "4  Maps, Altitude Assistant, Compass, dual-band G...      NaN   \n",
       "\n",
       "       connectivity  gps  screen_size  \\\n",
       "0         Bluetooth  1.0         1.97   \n",
       "1         Bluetooth  1.0         1.32   \n",
       "2         Bluetooth  1.0         1.32   \n",
       "3  Bluetooth, Wi-Fi  1.0         1.50   \n",
       "4  Bluetooth, Wi-Fi  1.0         1.50   \n",
       "\n",
       "                                             img_url    brand  \\\n",
       "0  https://m.media-amazon.com/images/I/61UvVTN0IE...  Amazfit   \n",
       "1  https://m.media-amazon.com/images/I/71mpuO4Lqe...  Amazfit   \n",
       "2  https://m.media-amazon.com/images/I/71mpuO4Lqe...  Amazfit   \n",
       "3  https://m.media-amazon.com/images/I/71GtgMbKvK...  Amazfit   \n",
       "4  https://m.media-amazon.com/images/I/71GtgMbKvK...  Amazfit   \n",
       "\n",
       "                                             reviews  \n",
       "0  [{'review': 'I purchased this watch to replace...  \n",
       "1  [{'review': 'This thing blows away the Fitbit ...  \n",
       "2  [{'review': 'This thing blows away the Fitbit ...  \n",
       "3  [{'review': 'So far, after using the watch for...  \n",
       "4  [{'review': 'So far, after using the watch for...  "
      ]
     },
     "execution_count": 44,
     "metadata": {},
     "output_type": "execute_result"
    }
   ],
   "source": [
    "df.head()"
   ]
  },
  {
   "cell_type": "code",
   "execution_count": 45,
   "id": "e24c385a",
   "metadata": {},
   "outputs": [
    {
     "name": "stdout",
     "output_type": "stream",
     "text": [
      "<class 'pandas.core.frame.DataFrame'>\n",
      "RangeIndex: 373 entries, 0 to 372\n",
      "Data columns (total 11 columns):\n",
      " #   Column        Non-Null Count  Dtype  \n",
      "---  ------        --------------  -----  \n",
      " 0   products      373 non-null    object \n",
      " 1   rating        373 non-null    float64\n",
      " 2   price         372 non-null    float64\n",
      " 3   features      357 non-null    object \n",
      " 4   battery       202 non-null    float64\n",
      " 5   connectivity  358 non-null    object \n",
      " 6   gps           352 non-null    float64\n",
      " 7   screen_size   369 non-null    float64\n",
      " 8   img_url       373 non-null    object \n",
      " 9   brand         373 non-null    object \n",
      " 10  reviews       373 non-null    object \n",
      "dtypes: float64(5), object(6)\n",
      "memory usage: 32.2+ KB\n"
     ]
    }
   ],
   "source": [
    "df.info()"
   ]
  },
  {
   "cell_type": "markdown",
   "id": "56b0c9ad",
   "metadata": {},
   "source": [
    "Kolom screen_size sudah bersih dan dikonversi ke inch. Juga sudah berbentuk numerical."
   ]
  },
  {
   "cell_type": "markdown",
   "id": "deda0e8f",
   "metadata": {},
   "source": [
    "### 9. Column img_url"
   ]
  },
  {
   "cell_type": "markdown",
   "id": "7a048ddd",
   "metadata": {},
   "source": [
    "Kolom connectivity tidak ada perubahan, hanya kalau memiliki 'N/A' diubah ke null."
   ]
  },
  {
   "cell_type": "code",
   "execution_count": 46,
   "id": "3c55cf08",
   "metadata": {},
   "outputs": [],
   "source": [
    "# Change 'N/A' to NaN\n",
    "df['img_url'] = df['img_url'].replace('N/A', np.nan)"
   ]
  },
  {
   "cell_type": "code",
   "execution_count": 47,
   "id": "d48a49a8",
   "metadata": {},
   "outputs": [
    {
     "name": "stdout",
     "output_type": "stream",
     "text": [
      "<class 'pandas.core.frame.DataFrame'>\n",
      "RangeIndex: 373 entries, 0 to 372\n",
      "Data columns (total 11 columns):\n",
      " #   Column        Non-Null Count  Dtype  \n",
      "---  ------        --------------  -----  \n",
      " 0   products      373 non-null    object \n",
      " 1   rating        373 non-null    float64\n",
      " 2   price         372 non-null    float64\n",
      " 3   features      357 non-null    object \n",
      " 4   battery       202 non-null    float64\n",
      " 5   connectivity  358 non-null    object \n",
      " 6   gps           352 non-null    float64\n",
      " 7   screen_size   369 non-null    float64\n",
      " 8   img_url       373 non-null    object \n",
      " 9   brand         373 non-null    object \n",
      " 10  reviews       373 non-null    object \n",
      "dtypes: float64(5), object(6)\n",
      "memory usage: 32.2+ KB\n"
     ]
    }
   ],
   "source": [
    "df.info()"
   ]
  },
  {
   "cell_type": "markdown",
   "id": "4c86b2e0",
   "metadata": {},
   "source": [
    "# IV. Handling Missing Value"
   ]
  },
  {
   "cell_type": "code",
   "execution_count": 48,
   "id": "81fe3bf6",
   "metadata": {},
   "outputs": [
    {
     "name": "stdout",
     "output_type": "stream",
     "text": [
      "<class 'pandas.core.frame.DataFrame'>\n",
      "RangeIndex: 373 entries, 0 to 372\n",
      "Data columns (total 11 columns):\n",
      " #   Column        Non-Null Count  Dtype  \n",
      "---  ------        --------------  -----  \n",
      " 0   products      373 non-null    object \n",
      " 1   rating        373 non-null    float64\n",
      " 2   price         372 non-null    float64\n",
      " 3   features      357 non-null    object \n",
      " 4   battery       202 non-null    float64\n",
      " 5   connectivity  358 non-null    object \n",
      " 6   gps           352 non-null    float64\n",
      " 7   screen_size   369 non-null    float64\n",
      " 8   img_url       373 non-null    object \n",
      " 9   brand         373 non-null    object \n",
      " 10  reviews       373 non-null    object \n",
      "dtypes: float64(5), object(6)\n",
      "memory usage: 32.2+ KB\n"
     ]
    }
   ],
   "source": [
    "df.info()"
   ]
  },
  {
   "cell_type": "markdown",
   "id": "8e50a799",
   "metadata": {},
   "source": [
    "Dataset merupakan hasil scraping dari website Amazon, hasil scraping kadang mempunyai error dimana tidak berhasilnya data ter scrap atau tidak dicantumkannya secara detail data oleh seller. Pada data set missing value terdapat pada kolom yang merupakan informasi dari produk smartwatch seperti 'battery', 'screen_size', 'features', 'connectivity', 'gps', 'price', karena nilai dari kolom tersebut bergantung pada nama produk pada kasus ini merupakan MAR (Missing at Random). Untuk mengatasi hal ini diperlukan imputasi data untuk missing value berdasarkan referensi untuk mendekati ground truth."
   ]
  },
  {
   "cell_type": "code",
   "execution_count": 49,
   "id": "aad8c348",
   "metadata": {},
   "outputs": [],
   "source": [
    "# Handling with if 'products' have same name, the missing value fill in to each other.\n",
    "\n",
    "# Define column with missing value\n",
    "cols_to_fill = ['battery', 'screen_size', 'features', 'connectivity', 'gps', 'price']\n",
    "\n",
    "# Forward and backward fill in group 'products'\n",
    "for col in cols_to_fill:\n",
    "    df[col] = df.groupby('products')[col].transform(lambda x: x.ffill().bfill())"
   ]
  },
  {
   "cell_type": "code",
   "execution_count": 50,
   "id": "719313a7",
   "metadata": {},
   "outputs": [
    {
     "name": "stdout",
     "output_type": "stream",
     "text": [
      "<class 'pandas.core.frame.DataFrame'>\n",
      "RangeIndex: 373 entries, 0 to 372\n",
      "Data columns (total 11 columns):\n",
      " #   Column        Non-Null Count  Dtype  \n",
      "---  ------        --------------  -----  \n",
      " 0   products      373 non-null    object \n",
      " 1   rating        373 non-null    float64\n",
      " 2   price         373 non-null    float64\n",
      " 3   features      361 non-null    object \n",
      " 4   battery       290 non-null    float64\n",
      " 5   connectivity  361 non-null    object \n",
      " 6   gps           366 non-null    float64\n",
      " 7   screen_size   372 non-null    float64\n",
      " 8   img_url       373 non-null    object \n",
      " 9   brand         373 non-null    object \n",
      " 10  reviews       373 non-null    object \n",
      "dtypes: float64(5), object(6)\n",
      "memory usage: 32.2+ KB\n"
     ]
    }
   ],
   "source": [
    "df.info()"
   ]
  },
  {
   "cell_type": "markdown",
   "id": "09c522f0",
   "metadata": {},
   "source": [
    "Dilakukan handling missing value dengan cara mengisi satu sama lain dikolom yang memiliki nama produk sama sebagai referensi."
   ]
  },
  {
   "cell_type": "code",
   "execution_count": 51,
   "id": "9f316fbf",
   "metadata": {},
   "outputs": [
    {
     "name": "stdout",
     "output_type": "stream",
     "text": [
      "features missing: 0 remaining\n",
      "battery missing: 7 remaining\n",
      "connectivity missing: 0 remaining\n",
      "gps missing: 0 remaining\n",
      "screen_size missing: 0 remaining\n"
     ]
    }
   ],
   "source": [
    "# Handling missing value by inputing data information from sources about smartwatch\n",
    "\n",
    "# Load smartwatch specs dataset\n",
    "df_summary = pd.read_csv('smartwatch_specs_clean.csv')\n",
    "\n",
    "# Join by 'products' or produk name\n",
    "df_merged = df.merge(df_summary, on='products', how='left', suffixes=('', '_summary'))\n",
    "\n",
    "# Define column with missing value\n",
    "columns_to_fill = ['features', 'battery', 'connectivity', 'gps', 'screen_size']\n",
    "\n",
    "# Fill in missing value from specs dataset\n",
    "for col in columns_to_fill:\n",
    "    df_merged[col] = df_merged[col].fillna(df_merged[f\"{col}_summary\"])\n",
    "\n",
    "# Drop column from specs dataset\n",
    "df_merged.drop(columns=[f\"{col}_summary\" for col in columns_to_fill], inplace=True)\n",
    "\n",
    "df = df_merged\n",
    "\n",
    "# Checking missing value\n",
    "for col in columns_to_fill:\n",
    "    print(f\"{col} missing: {df[col].isna().sum()} remaining\")"
   ]
  },
  {
   "cell_type": "markdown",
   "id": "f8d8982b",
   "metadata": {},
   "source": [
    "Karena data yang mengandung missing value sudah sedikit, akan dilakukan drop agar tidak ada lagi missing value."
   ]
  },
  {
   "cell_type": "code",
   "execution_count": 52,
   "id": "a0755245",
   "metadata": {},
   "outputs": [],
   "source": [
    "# Drop data with missing value\n",
    "df = df.dropna().reset_index(drop=True)"
   ]
  },
  {
   "cell_type": "code",
   "execution_count": 53,
   "id": "922030e5",
   "metadata": {},
   "outputs": [
    {
     "name": "stdout",
     "output_type": "stream",
     "text": [
      "<class 'pandas.core.frame.DataFrame'>\n",
      "RangeIndex: 377 entries, 0 to 376\n",
      "Data columns (total 11 columns):\n",
      " #   Column        Non-Null Count  Dtype  \n",
      "---  ------        --------------  -----  \n",
      " 0   products      377 non-null    object \n",
      " 1   rating        377 non-null    float64\n",
      " 2   price         377 non-null    float64\n",
      " 3   features      377 non-null    object \n",
      " 4   battery       377 non-null    float64\n",
      " 5   connectivity  377 non-null    object \n",
      " 6   gps           377 non-null    float64\n",
      " 7   screen_size   377 non-null    float64\n",
      " 8   img_url       377 non-null    object \n",
      " 9   brand         377 non-null    object \n",
      " 10  reviews       377 non-null    object \n",
      "dtypes: float64(5), object(6)\n",
      "memory usage: 32.5+ KB\n"
     ]
    }
   ],
   "source": [
    "df.info()"
   ]
  },
  {
   "cell_type": "markdown",
   "id": "58cc071b",
   "metadata": {},
   "source": [
    "Hasil menunjukan sudah tidak ada missing value."
   ]
  },
  {
   "cell_type": "markdown",
   "id": "ad30dca0",
   "metadata": {},
   "source": [
    "# V. Split Data"
   ]
  },
  {
   "cell_type": "code",
   "execution_count": 54,
   "id": "a67354d0",
   "metadata": {},
   "outputs": [],
   "source": [
    "# Save before split\n",
    "df.to_csv('data_before_split.csv', index=False)"
   ]
  },
  {
   "cell_type": "markdown",
   "id": "c541dd2d",
   "metadata": {},
   "source": [
    "Data disave dahulu sebagai backup."
   ]
  },
  {
   "cell_type": "markdown",
   "id": "2b2fe607",
   "metadata": {},
   "source": [
    "### 1. Data Product"
   ]
  },
  {
   "cell_type": "code",
   "execution_count": 55,
   "id": "da1a5c5a",
   "metadata": {},
   "outputs": [
    {
     "data": {
      "text/html": [
       "<div>\n",
       "<style scoped>\n",
       "    .dataframe tbody tr th:only-of-type {\n",
       "        vertical-align: middle;\n",
       "    }\n",
       "\n",
       "    .dataframe tbody tr th {\n",
       "        vertical-align: top;\n",
       "    }\n",
       "\n",
       "    .dataframe thead th {\n",
       "        text-align: right;\n",
       "    }\n",
       "</style>\n",
       "<table border=\"1\" class=\"dataframe\">\n",
       "  <thead>\n",
       "    <tr style=\"text-align: right;\">\n",
       "      <th></th>\n",
       "      <th>products</th>\n",
       "      <th>rating</th>\n",
       "      <th>price</th>\n",
       "      <th>features</th>\n",
       "      <th>battery</th>\n",
       "      <th>connectivity</th>\n",
       "      <th>gps</th>\n",
       "      <th>screen_size</th>\n",
       "      <th>img_url</th>\n",
       "      <th>brand</th>\n",
       "    </tr>\n",
       "  </thead>\n",
       "  <tbody>\n",
       "    <tr>\n",
       "      <th>0</th>\n",
       "      <td>Amazfit Bip 6</td>\n",
       "      <td>4.5</td>\n",
       "      <td>74.99</td>\n",
       "      <td>Multisport Tracker, Text Messaging, AI Assista...</td>\n",
       "      <td>340.0</td>\n",
       "      <td>Bluetooth</td>\n",
       "      <td>1.0</td>\n",
       "      <td>1.97</td>\n",
       "      <td>https://m.media-amazon.com/images/I/61UvVTN0IE...</td>\n",
       "      <td>Amazfit</td>\n",
       "    </tr>\n",
       "    <tr>\n",
       "      <th>1</th>\n",
       "      <td>Amazfit Active 2</td>\n",
       "      <td>4.5</td>\n",
       "      <td>75.99</td>\n",
       "      <td>Multisport Tracker, Text Messaging, AI Assista...</td>\n",
       "      <td>270.0</td>\n",
       "      <td>Bluetooth</td>\n",
       "      <td>1.0</td>\n",
       "      <td>1.32</td>\n",
       "      <td>https://m.media-amazon.com/images/I/71mpuO4Lqe...</td>\n",
       "      <td>Amazfit</td>\n",
       "    </tr>\n",
       "    <tr>\n",
       "      <th>2</th>\n",
       "      <td>Amazfit Active 2</td>\n",
       "      <td>4.5</td>\n",
       "      <td>75.99</td>\n",
       "      <td>Multisport Tracker, Text Messaging, AI Assista...</td>\n",
       "      <td>270.0</td>\n",
       "      <td>Bluetooth</td>\n",
       "      <td>1.0</td>\n",
       "      <td>1.32</td>\n",
       "      <td>https://m.media-amazon.com/images/I/71mpuO4Lqe...</td>\n",
       "      <td>Amazfit</td>\n",
       "    </tr>\n",
       "    <tr>\n",
       "      <th>3</th>\n",
       "      <td>Amazfit T-Rex 3</td>\n",
       "      <td>4.4</td>\n",
       "      <td>189.99</td>\n",
       "      <td>Maps, Altitude Assistant, Compass, dual-band G...</td>\n",
       "      <td>14400.0</td>\n",
       "      <td>Bluetooth, Wi-Fi</td>\n",
       "      <td>1.0</td>\n",
       "      <td>1.50</td>\n",
       "      <td>https://m.media-amazon.com/images/I/71GtgMbKvK...</td>\n",
       "      <td>Amazfit</td>\n",
       "    </tr>\n",
       "    <tr>\n",
       "      <th>4</th>\n",
       "      <td>Amazfit T-Rex 3</td>\n",
       "      <td>4.4</td>\n",
       "      <td>189.99</td>\n",
       "      <td>Maps, Altitude Assistant, Compass, dual-band G...</td>\n",
       "      <td>14400.0</td>\n",
       "      <td>Bluetooth, Wi-Fi</td>\n",
       "      <td>1.0</td>\n",
       "      <td>1.50</td>\n",
       "      <td>https://m.media-amazon.com/images/I/71GtgMbKvK...</td>\n",
       "      <td>Amazfit</td>\n",
       "    </tr>\n",
       "    <tr>\n",
       "      <th>...</th>\n",
       "      <td>...</td>\n",
       "      <td>...</td>\n",
       "      <td>...</td>\n",
       "      <td>...</td>\n",
       "      <td>...</td>\n",
       "      <td>...</td>\n",
       "      <td>...</td>\n",
       "      <td>...</td>\n",
       "      <td>...</td>\n",
       "      <td>...</td>\n",
       "    </tr>\n",
       "    <tr>\n",
       "      <th>372</th>\n",
       "      <td>Xiaomi Smart Band 9</td>\n",
       "      <td>4.5</td>\n",
       "      <td>57.99</td>\n",
       "      <td>Heart Rate Monitor</td>\n",
       "      <td>233.0</td>\n",
       "      <td>Bluetooth</td>\n",
       "      <td>0.0</td>\n",
       "      <td>1.62</td>\n",
       "      <td>https://m.media-amazon.com/images/I/61WgY4Yssc...</td>\n",
       "      <td>Xiaomi</td>\n",
       "    </tr>\n",
       "    <tr>\n",
       "      <th>373</th>\n",
       "      <td>Xiaomi Redmi Watch 5</td>\n",
       "      <td>4.4</td>\n",
       "      <td>139.99</td>\n",
       "      <td>Voice Call, Lightweight, Activity Tracker, Pho...</td>\n",
       "      <td>470.0</td>\n",
       "      <td>Bluetooth</td>\n",
       "      <td>0.0</td>\n",
       "      <td>2.07</td>\n",
       "      <td>https://m.media-amazon.com/images/I/51X9nE628c...</td>\n",
       "      <td>Xiaomi</td>\n",
       "    </tr>\n",
       "    <tr>\n",
       "      <th>374</th>\n",
       "      <td>Xiaomi Watch 2</td>\n",
       "      <td>4.1</td>\n",
       "      <td>259.99</td>\n",
       "      <td>Bluetooth</td>\n",
       "      <td>7200.0</td>\n",
       "      <td>Bluetooth</td>\n",
       "      <td>1.0</td>\n",
       "      <td>1.43</td>\n",
       "      <td>https://m.media-amazon.com/images/I/81LQkI4eoq...</td>\n",
       "      <td>Xiaomi</td>\n",
       "    </tr>\n",
       "    <tr>\n",
       "      <th>375</th>\n",
       "      <td>Xiaomi Redmi 5</td>\n",
       "      <td>4.6</td>\n",
       "      <td>52.24</td>\n",
       "      <td>Multisport Tracker, Activity Tracker, Alarm Cl...</td>\n",
       "      <td>470000.0</td>\n",
       "      <td>Bluetooth</td>\n",
       "      <td>0.0</td>\n",
       "      <td>2.00</td>\n",
       "      <td>https://m.media-amazon.com/images/I/61Mr-G86wZ...</td>\n",
       "      <td>Xiaomi</td>\n",
       "    </tr>\n",
       "    <tr>\n",
       "      <th>376</th>\n",
       "      <td>Xiaomi Redmi Watch 4</td>\n",
       "      <td>4.4</td>\n",
       "      <td>74.99</td>\n",
       "      <td>Heart Rate Monitor</td>\n",
       "      <td>12000.0</td>\n",
       "      <td>Bluetooth</td>\n",
       "      <td>1.0</td>\n",
       "      <td>1.97</td>\n",
       "      <td>https://m.media-amazon.com/images/I/71tozl-916...</td>\n",
       "      <td>Xiaomi</td>\n",
       "    </tr>\n",
       "  </tbody>\n",
       "</table>\n",
       "<p>377 rows × 10 columns</p>\n",
       "</div>"
      ],
      "text/plain": [
       "                 products  rating   price  \\\n",
       "0           Amazfit Bip 6     4.5   74.99   \n",
       "1        Amazfit Active 2     4.5   75.99   \n",
       "2        Amazfit Active 2     4.5   75.99   \n",
       "3         Amazfit T-Rex 3     4.4  189.99   \n",
       "4         Amazfit T-Rex 3     4.4  189.99   \n",
       "..                    ...     ...     ...   \n",
       "372   Xiaomi Smart Band 9     4.5   57.99   \n",
       "373  Xiaomi Redmi Watch 5     4.4  139.99   \n",
       "374        Xiaomi Watch 2     4.1  259.99   \n",
       "375        Xiaomi Redmi 5     4.6   52.24   \n",
       "376  Xiaomi Redmi Watch 4     4.4   74.99   \n",
       "\n",
       "                                              features   battery  \\\n",
       "0    Multisport Tracker, Text Messaging, AI Assista...     340.0   \n",
       "1    Multisport Tracker, Text Messaging, AI Assista...     270.0   \n",
       "2    Multisport Tracker, Text Messaging, AI Assista...     270.0   \n",
       "3    Maps, Altitude Assistant, Compass, dual-band G...   14400.0   \n",
       "4    Maps, Altitude Assistant, Compass, dual-band G...   14400.0   \n",
       "..                                                 ...       ...   \n",
       "372                                 Heart Rate Monitor     233.0   \n",
       "373  Voice Call, Lightweight, Activity Tracker, Pho...     470.0   \n",
       "374                                          Bluetooth    7200.0   \n",
       "375  Multisport Tracker, Activity Tracker, Alarm Cl...  470000.0   \n",
       "376                                 Heart Rate Monitor   12000.0   \n",
       "\n",
       "         connectivity  gps  screen_size  \\\n",
       "0           Bluetooth  1.0         1.97   \n",
       "1           Bluetooth  1.0         1.32   \n",
       "2           Bluetooth  1.0         1.32   \n",
       "3    Bluetooth, Wi-Fi  1.0         1.50   \n",
       "4    Bluetooth, Wi-Fi  1.0         1.50   \n",
       "..                ...  ...          ...   \n",
       "372         Bluetooth  0.0         1.62   \n",
       "373         Bluetooth  0.0         2.07   \n",
       "374         Bluetooth  1.0         1.43   \n",
       "375         Bluetooth  0.0         2.00   \n",
       "376         Bluetooth  1.0         1.97   \n",
       "\n",
       "                                               img_url    brand  \n",
       "0    https://m.media-amazon.com/images/I/61UvVTN0IE...  Amazfit  \n",
       "1    https://m.media-amazon.com/images/I/71mpuO4Lqe...  Amazfit  \n",
       "2    https://m.media-amazon.com/images/I/71mpuO4Lqe...  Amazfit  \n",
       "3    https://m.media-amazon.com/images/I/71GtgMbKvK...  Amazfit  \n",
       "4    https://m.media-amazon.com/images/I/71GtgMbKvK...  Amazfit  \n",
       "..                                                 ...      ...  \n",
       "372  https://m.media-amazon.com/images/I/61WgY4Yssc...   Xiaomi  \n",
       "373  https://m.media-amazon.com/images/I/51X9nE628c...   Xiaomi  \n",
       "374  https://m.media-amazon.com/images/I/81LQkI4eoq...   Xiaomi  \n",
       "375  https://m.media-amazon.com/images/I/61Mr-G86wZ...   Xiaomi  \n",
       "376  https://m.media-amazon.com/images/I/71tozl-916...   Xiaomi  \n",
       "\n",
       "[377 rows x 10 columns]"
      ]
     },
     "execution_count": 55,
     "metadata": {},
     "output_type": "execute_result"
    }
   ],
   "source": [
    "# Data product\n",
    "df_product = df.drop('reviews', axis=1)\n",
    "df_product"
   ]
  },
  {
   "cell_type": "code",
   "execution_count": 56,
   "id": "92b90f29",
   "metadata": {},
   "outputs": [
    {
     "data": {
      "text/plain": [
       "97"
      ]
     },
     "execution_count": 56,
     "metadata": {},
     "output_type": "execute_result"
    }
   ],
   "source": [
    "# Check duplicate\n",
    "df_product.duplicated().sum()"
   ]
  },
  {
   "cell_type": "code",
   "execution_count": 57,
   "id": "22e0a08f",
   "metadata": {},
   "outputs": [],
   "source": [
    "# Delete duplicate\n",
    "df_product = df_product.drop_duplicates()"
   ]
  },
  {
   "cell_type": "code",
   "execution_count": 58,
   "id": "052b0cc8",
   "metadata": {},
   "outputs": [
    {
     "name": "stdout",
     "output_type": "stream",
     "text": [
      "<class 'pandas.core.frame.DataFrame'>\n",
      "Index: 280 entries, 0 to 376\n",
      "Data columns (total 10 columns):\n",
      " #   Column        Non-Null Count  Dtype  \n",
      "---  ------        --------------  -----  \n",
      " 0   products      280 non-null    object \n",
      " 1   rating        280 non-null    float64\n",
      " 2   price         280 non-null    float64\n",
      " 3   features      280 non-null    object \n",
      " 4   battery       280 non-null    float64\n",
      " 5   connectivity  280 non-null    object \n",
      " 6   gps           280 non-null    float64\n",
      " 7   screen_size   280 non-null    float64\n",
      " 8   img_url       280 non-null    object \n",
      " 9   brand         280 non-null    object \n",
      "dtypes: float64(5), object(5)\n",
      "memory usage: 24.1+ KB\n"
     ]
    }
   ],
   "source": [
    "df_product.info()"
   ]
  },
  {
   "cell_type": "code",
   "execution_count": 59,
   "id": "8502c029",
   "metadata": {},
   "outputs": [],
   "source": [
    "# Save data_product\n",
    "df_product.to_csv('data_product.csv', index=False)"
   ]
  },
  {
   "cell_type": "markdown",
   "id": "8a94518f",
   "metadata": {},
   "source": [
    "file csv data product berhasil disave."
   ]
  },
  {
   "cell_type": "markdown",
   "id": "f83aea0e",
   "metadata": {},
   "source": [
    "### 2. Data Review"
   ]
  },
  {
   "cell_type": "code",
   "execution_count": 60,
   "id": "6868adaf",
   "metadata": {},
   "outputs": [
    {
     "data": {
      "text/html": [
       "<div>\n",
       "<style scoped>\n",
       "    .dataframe tbody tr th:only-of-type {\n",
       "        vertical-align: middle;\n",
       "    }\n",
       "\n",
       "    .dataframe tbody tr th {\n",
       "        vertical-align: top;\n",
       "    }\n",
       "\n",
       "    .dataframe thead th {\n",
       "        text-align: right;\n",
       "    }\n",
       "</style>\n",
       "<table border=\"1\" class=\"dataframe\">\n",
       "  <thead>\n",
       "    <tr style=\"text-align: right;\">\n",
       "      <th></th>\n",
       "      <th>products</th>\n",
       "      <th>reviews</th>\n",
       "    </tr>\n",
       "  </thead>\n",
       "  <tbody>\n",
       "    <tr>\n",
       "      <th>0</th>\n",
       "      <td>Amazfit Bip 6</td>\n",
       "      <td>[{'review': 'I purchased this watch to replace...</td>\n",
       "    </tr>\n",
       "    <tr>\n",
       "      <th>1</th>\n",
       "      <td>Amazfit Active 2</td>\n",
       "      <td>[{'review': 'This thing blows away the Fitbit ...</td>\n",
       "    </tr>\n",
       "    <tr>\n",
       "      <th>2</th>\n",
       "      <td>Amazfit Active 2</td>\n",
       "      <td>[{'review': 'This thing blows away the Fitbit ...</td>\n",
       "    </tr>\n",
       "    <tr>\n",
       "      <th>3</th>\n",
       "      <td>Amazfit T-Rex 3</td>\n",
       "      <td>[{'review': 'So far, after using the watch for...</td>\n",
       "    </tr>\n",
       "    <tr>\n",
       "      <th>4</th>\n",
       "      <td>Amazfit T-Rex 3</td>\n",
       "      <td>[{'review': 'So far, after using the watch for...</td>\n",
       "    </tr>\n",
       "    <tr>\n",
       "      <th>...</th>\n",
       "      <td>...</td>\n",
       "      <td>...</td>\n",
       "    </tr>\n",
       "    <tr>\n",
       "      <th>372</th>\n",
       "      <td>Xiaomi Smart Band 9</td>\n",
       "      <td>[{'review': 'This is the 4th generation of Mi ...</td>\n",
       "    </tr>\n",
       "    <tr>\n",
       "      <th>373</th>\n",
       "      <td>Xiaomi Redmi Watch 5</td>\n",
       "      <td>[{'review': 'Calidad - precio. El producto es ...</td>\n",
       "    </tr>\n",
       "    <tr>\n",
       "      <th>374</th>\n",
       "      <td>Xiaomi Watch 2</td>\n",
       "      <td>[{'review': 'Me encanta este reloj, cumple con...</td>\n",
       "    </tr>\n",
       "    <tr>\n",
       "      <th>375</th>\n",
       "      <td>Xiaomi Redmi 5</td>\n",
       "      <td>[{'review': 'Although positioned as an entry-l...</td>\n",
       "    </tr>\n",
       "    <tr>\n",
       "      <th>376</th>\n",
       "      <td>Xiaomi Redmi Watch 4</td>\n",
       "      <td>[{'review': 'Perfect, everything works great e...</td>\n",
       "    </tr>\n",
       "  </tbody>\n",
       "</table>\n",
       "<p>377 rows × 2 columns</p>\n",
       "</div>"
      ],
      "text/plain": [
       "                 products                                            reviews\n",
       "0           Amazfit Bip 6  [{'review': 'I purchased this watch to replace...\n",
       "1        Amazfit Active 2  [{'review': 'This thing blows away the Fitbit ...\n",
       "2        Amazfit Active 2  [{'review': 'This thing blows away the Fitbit ...\n",
       "3         Amazfit T-Rex 3  [{'review': 'So far, after using the watch for...\n",
       "4         Amazfit T-Rex 3  [{'review': 'So far, after using the watch for...\n",
       "..                    ...                                                ...\n",
       "372   Xiaomi Smart Band 9  [{'review': 'This is the 4th generation of Mi ...\n",
       "373  Xiaomi Redmi Watch 5  [{'review': 'Calidad - precio. El producto es ...\n",
       "374        Xiaomi Watch 2  [{'review': 'Me encanta este reloj, cumple con...\n",
       "375        Xiaomi Redmi 5  [{'review': 'Although positioned as an entry-l...\n",
       "376  Xiaomi Redmi Watch 4  [{'review': 'Perfect, everything works great e...\n",
       "\n",
       "[377 rows x 2 columns]"
      ]
     },
     "execution_count": 60,
     "metadata": {},
     "output_type": "execute_result"
    }
   ],
   "source": [
    "# Data review\n",
    "df_review = df[['products', 'reviews']]\n",
    "df_review"
   ]
  },
  {
   "cell_type": "code",
   "execution_count": 61,
   "id": "1f15a57d",
   "metadata": {},
   "outputs": [
    {
     "data": {
      "text/html": [
       "<div>\n",
       "<style scoped>\n",
       "    .dataframe tbody tr th:only-of-type {\n",
       "        vertical-align: middle;\n",
       "    }\n",
       "\n",
       "    .dataframe tbody tr th {\n",
       "        vertical-align: top;\n",
       "    }\n",
       "\n",
       "    .dataframe thead th {\n",
       "        text-align: right;\n",
       "    }\n",
       "</style>\n",
       "<table border=\"1\" class=\"dataframe\">\n",
       "  <thead>\n",
       "    <tr style=\"text-align: right;\">\n",
       "      <th></th>\n",
       "      <th>products</th>\n",
       "      <th>individual_review</th>\n",
       "      <th>individual_rating</th>\n",
       "    </tr>\n",
       "  </thead>\n",
       "  <tbody>\n",
       "    <tr>\n",
       "      <th>0</th>\n",
       "      <td>Amazfit Bip 6</td>\n",
       "      <td>I purchased this watch to replace a dead Samsu...</td>\n",
       "      <td>5.0 out of 5 stars</td>\n",
       "    </tr>\n",
       "    <tr>\n",
       "      <th>1</th>\n",
       "      <td>Amazfit Bip 6</td>\n",
       "      <td>Pleasantly surprised. Finally, a less expensiv...</td>\n",
       "      <td>5.0 out of 5 stars</td>\n",
       "    </tr>\n",
       "    <tr>\n",
       "      <th>2</th>\n",
       "      <td>Amazfit Bip 6</td>\n",
       "      <td>If you’re looking to purchase a smart watch th...</td>\n",
       "      <td>5.0 out of 5 stars</td>\n",
       "    </tr>\n",
       "    <tr>\n",
       "      <th>3</th>\n",
       "      <td>Amazfit Bip 6</td>\n",
       "      <td>This watch does well, considered the price. Th...</td>\n",
       "      <td>4.0 out of 5 stars</td>\n",
       "    </tr>\n",
       "    <tr>\n",
       "      <th>4</th>\n",
       "      <td>Amazfit Bip 6</td>\n",
       "      <td>This watch is amazing quality for the price! I...</td>\n",
       "      <td>5.0 out of 5 stars</td>\n",
       "    </tr>\n",
       "    <tr>\n",
       "      <th>...</th>\n",
       "      <td>...</td>\n",
       "      <td>...</td>\n",
       "      <td>...</td>\n",
       "    </tr>\n",
       "    <tr>\n",
       "      <th>2589</th>\n",
       "      <td>Xiaomi Redmi Watch 4</td>\n",
       "      <td>Awsome product... Good price and reabilty</td>\n",
       "      <td>5.0 out of 5 stars</td>\n",
       "    </tr>\n",
       "    <tr>\n",
       "      <th>2590</th>\n",
       "      <td>Xiaomi Redmi Watch 4</td>\n",
       "      <td>My husband used it after he got it, very relia...</td>\n",
       "      <td>5.0 out of 5 stars</td>\n",
       "    </tr>\n",
       "    <tr>\n",
       "      <th>2591</th>\n",
       "      <td>Xiaomi Redmi Watch 4</td>\n",
       "      <td>Me encanta</td>\n",
       "      <td>5.0 out of 5 stars</td>\n",
       "    </tr>\n",
       "    <tr>\n",
       "      <th>2592</th>\n",
       "      <td>Xiaomi Redmi Watch 4</td>\n",
       "      <td></td>\n",
       "      <td>5.0 out of 5 stars</td>\n",
       "    </tr>\n",
       "    <tr>\n",
       "      <th>2593</th>\n",
       "      <td>Xiaomi Redmi Watch 4</td>\n",
       "      <td>This watch is actually pretty darn good. The f...</td>\n",
       "      <td>1.0 out of 5 stars</td>\n",
       "    </tr>\n",
       "  </tbody>\n",
       "</table>\n",
       "<p>2594 rows × 3 columns</p>\n",
       "</div>"
      ],
      "text/plain": [
       "                  products                                  individual_review  \\\n",
       "0            Amazfit Bip 6  I purchased this watch to replace a dead Samsu...   \n",
       "1            Amazfit Bip 6  Pleasantly surprised. Finally, a less expensiv...   \n",
       "2            Amazfit Bip 6  If you’re looking to purchase a smart watch th...   \n",
       "3            Amazfit Bip 6  This watch does well, considered the price. Th...   \n",
       "4            Amazfit Bip 6  This watch is amazing quality for the price! I...   \n",
       "...                    ...                                                ...   \n",
       "2589  Xiaomi Redmi Watch 4          Awsome product... Good price and reabilty   \n",
       "2590  Xiaomi Redmi Watch 4  My husband used it after he got it, very relia...   \n",
       "2591  Xiaomi Redmi Watch 4                                         Me encanta   \n",
       "2592  Xiaomi Redmi Watch 4                                                      \n",
       "2593  Xiaomi Redmi Watch 4  This watch is actually pretty darn good. The f...   \n",
       "\n",
       "       individual_rating  \n",
       "0     5.0 out of 5 stars  \n",
       "1     5.0 out of 5 stars  \n",
       "2     5.0 out of 5 stars  \n",
       "3     4.0 out of 5 stars  \n",
       "4     5.0 out of 5 stars  \n",
       "...                  ...  \n",
       "2589  5.0 out of 5 stars  \n",
       "2590  5.0 out of 5 stars  \n",
       "2591  5.0 out of 5 stars  \n",
       "2592  5.0 out of 5 stars  \n",
       "2593  1.0 out of 5 stars  \n",
       "\n",
       "[2594 rows x 3 columns]"
      ]
     },
     "execution_count": 61,
     "metadata": {},
     "output_type": "execute_result"
    }
   ],
   "source": [
    "# Split data inside reviews column\n",
    "\n",
    "# Make sure data is list of dict\n",
    "def parse_review_column(val):\n",
    "    try:\n",
    "        return ast.literal_eval(val) if isinstance(val, str) else val\n",
    "    except:\n",
    "        return np.nan\n",
    "\n",
    "df_review['reviews'] = df_review['reviews'].apply(parse_review_column)\n",
    "\n",
    "# Explode\n",
    "df_exploded = df_review.explode('reviews').reset_index(drop=True)\n",
    "\n",
    "# Take 'review' dan 'rating' from dict\n",
    "df_exploded['individual_review'] = df_exploded['reviews'].apply(lambda x: x.get('review') if isinstance(x, dict) else np.nan)\n",
    "df_exploded['individual_rating'] = df_exploded['reviews'].apply(lambda x: x.get('rating') if isinstance(x, dict) else np.nan)\n",
    "\n",
    "# delete previous reviews column\n",
    "df_exploded = df_exploded.drop(columns=['reviews'])\n",
    "\n",
    "# Show result\n",
    "df_exploded\n"
   ]
  },
  {
   "cell_type": "code",
   "execution_count": 62,
   "id": "4020eb6b",
   "metadata": {},
   "outputs": [],
   "source": [
    "# Clean and Convert individual_rating\n",
    "def cut_after_space_and_convert(text):\n",
    "    if not isinstance(text, str):\n",
    "        return np.nan\n",
    "\n",
    "    first_part = text.split(' ')[0]  # get substring before first space\n",
    "    try:\n",
    "        return float(first_part)\n",
    "    except ValueError:\n",
    "        return np.nan\n",
    "\n",
    "df_exploded['individual_rating'] = df_exploded['individual_rating'].apply(cut_after_space_and_convert)"
   ]
  },
  {
   "cell_type": "code",
   "execution_count": 63,
   "id": "a3bcecea",
   "metadata": {},
   "outputs": [
    {
     "data": {
      "text/html": [
       "<div>\n",
       "<style scoped>\n",
       "    .dataframe tbody tr th:only-of-type {\n",
       "        vertical-align: middle;\n",
       "    }\n",
       "\n",
       "    .dataframe tbody tr th {\n",
       "        vertical-align: top;\n",
       "    }\n",
       "\n",
       "    .dataframe thead th {\n",
       "        text-align: right;\n",
       "    }\n",
       "</style>\n",
       "<table border=\"1\" class=\"dataframe\">\n",
       "  <thead>\n",
       "    <tr style=\"text-align: right;\">\n",
       "      <th></th>\n",
       "      <th>products</th>\n",
       "      <th>individual_review</th>\n",
       "      <th>individual_rating</th>\n",
       "    </tr>\n",
       "  </thead>\n",
       "  <tbody>\n",
       "    <tr>\n",
       "      <th>0</th>\n",
       "      <td>Amazfit Bip 6</td>\n",
       "      <td>I purchased this watch to replace a dead Samsu...</td>\n",
       "      <td>5.0</td>\n",
       "    </tr>\n",
       "    <tr>\n",
       "      <th>1</th>\n",
       "      <td>Amazfit Bip 6</td>\n",
       "      <td>Pleasantly surprised. Finally, a less expensiv...</td>\n",
       "      <td>5.0</td>\n",
       "    </tr>\n",
       "    <tr>\n",
       "      <th>2</th>\n",
       "      <td>Amazfit Bip 6</td>\n",
       "      <td>If you’re looking to purchase a smart watch th...</td>\n",
       "      <td>5.0</td>\n",
       "    </tr>\n",
       "    <tr>\n",
       "      <th>3</th>\n",
       "      <td>Amazfit Bip 6</td>\n",
       "      <td>This watch does well, considered the price. Th...</td>\n",
       "      <td>4.0</td>\n",
       "    </tr>\n",
       "    <tr>\n",
       "      <th>4</th>\n",
       "      <td>Amazfit Bip 6</td>\n",
       "      <td>This watch is amazing quality for the price! I...</td>\n",
       "      <td>5.0</td>\n",
       "    </tr>\n",
       "    <tr>\n",
       "      <th>...</th>\n",
       "      <td>...</td>\n",
       "      <td>...</td>\n",
       "      <td>...</td>\n",
       "    </tr>\n",
       "    <tr>\n",
       "      <th>2589</th>\n",
       "      <td>Xiaomi Redmi Watch 4</td>\n",
       "      <td>Awsome product... Good price and reabilty</td>\n",
       "      <td>5.0</td>\n",
       "    </tr>\n",
       "    <tr>\n",
       "      <th>2590</th>\n",
       "      <td>Xiaomi Redmi Watch 4</td>\n",
       "      <td>My husband used it after he got it, very relia...</td>\n",
       "      <td>5.0</td>\n",
       "    </tr>\n",
       "    <tr>\n",
       "      <th>2591</th>\n",
       "      <td>Xiaomi Redmi Watch 4</td>\n",
       "      <td>Me encanta</td>\n",
       "      <td>5.0</td>\n",
       "    </tr>\n",
       "    <tr>\n",
       "      <th>2592</th>\n",
       "      <td>Xiaomi Redmi Watch 4</td>\n",
       "      <td></td>\n",
       "      <td>5.0</td>\n",
       "    </tr>\n",
       "    <tr>\n",
       "      <th>2593</th>\n",
       "      <td>Xiaomi Redmi Watch 4</td>\n",
       "      <td>This watch is actually pretty darn good. The f...</td>\n",
       "      <td>1.0</td>\n",
       "    </tr>\n",
       "  </tbody>\n",
       "</table>\n",
       "<p>2594 rows × 3 columns</p>\n",
       "</div>"
      ],
      "text/plain": [
       "                  products                                  individual_review  \\\n",
       "0            Amazfit Bip 6  I purchased this watch to replace a dead Samsu...   \n",
       "1            Amazfit Bip 6  Pleasantly surprised. Finally, a less expensiv...   \n",
       "2            Amazfit Bip 6  If you’re looking to purchase a smart watch th...   \n",
       "3            Amazfit Bip 6  This watch does well, considered the price. Th...   \n",
       "4            Amazfit Bip 6  This watch is amazing quality for the price! I...   \n",
       "...                    ...                                                ...   \n",
       "2589  Xiaomi Redmi Watch 4          Awsome product... Good price and reabilty   \n",
       "2590  Xiaomi Redmi Watch 4  My husband used it after he got it, very relia...   \n",
       "2591  Xiaomi Redmi Watch 4                                         Me encanta   \n",
       "2592  Xiaomi Redmi Watch 4                                                      \n",
       "2593  Xiaomi Redmi Watch 4  This watch is actually pretty darn good. The f...   \n",
       "\n",
       "      individual_rating  \n",
       "0                   5.0  \n",
       "1                   5.0  \n",
       "2                   5.0  \n",
       "3                   4.0  \n",
       "4                   5.0  \n",
       "...                 ...  \n",
       "2589                5.0  \n",
       "2590                5.0  \n",
       "2591                5.0  \n",
       "2592                5.0  \n",
       "2593                1.0  \n",
       "\n",
       "[2594 rows x 3 columns]"
      ]
     },
     "execution_count": 63,
     "metadata": {},
     "output_type": "execute_result"
    }
   ],
   "source": [
    "df_exploded"
   ]
  },
  {
   "cell_type": "code",
   "execution_count": 64,
   "id": "0fbd8966",
   "metadata": {},
   "outputs": [],
   "source": [
    "# Keep individual_review in English only\n",
    "DetectorFactory.seed = 8\n",
    "\n",
    "def is_english(text):\n",
    "    if not isinstance(text, str) or text.strip() == '':\n",
    "        return False\n",
    "    try:\n",
    "        return detect(text) == 'en'\n",
    "    except:\n",
    "        return False\n",
    "\n",
    "# apply filter\n",
    "df_exploded['is_english'] = df_exploded['individual_review'].apply(is_english)\n",
    "\n",
    "# Drop that is not English\n",
    "df_reviews_en = df_exploded[df_exploded['is_english']].drop(columns=['is_english']).reset_index(drop=True)"
   ]
  },
  {
   "cell_type": "code",
   "execution_count": 65,
   "id": "f020a7d6",
   "metadata": {},
   "outputs": [
    {
     "data": {
      "text/html": [
       "<div>\n",
       "<style scoped>\n",
       "    .dataframe tbody tr th:only-of-type {\n",
       "        vertical-align: middle;\n",
       "    }\n",
       "\n",
       "    .dataframe tbody tr th {\n",
       "        vertical-align: top;\n",
       "    }\n",
       "\n",
       "    .dataframe thead th {\n",
       "        text-align: right;\n",
       "    }\n",
       "</style>\n",
       "<table border=\"1\" class=\"dataframe\">\n",
       "  <thead>\n",
       "    <tr style=\"text-align: right;\">\n",
       "      <th></th>\n",
       "      <th>products</th>\n",
       "      <th>individual_review</th>\n",
       "      <th>individual_rating</th>\n",
       "    </tr>\n",
       "  </thead>\n",
       "  <tbody>\n",
       "    <tr>\n",
       "      <th>0</th>\n",
       "      <td>Amazfit Bip 6</td>\n",
       "      <td>I purchased this watch to replace a dead Samsu...</td>\n",
       "      <td>5.0</td>\n",
       "    </tr>\n",
       "    <tr>\n",
       "      <th>1</th>\n",
       "      <td>Amazfit Bip 6</td>\n",
       "      <td>Pleasantly surprised. Finally, a less expensiv...</td>\n",
       "      <td>5.0</td>\n",
       "    </tr>\n",
       "    <tr>\n",
       "      <th>2</th>\n",
       "      <td>Amazfit Bip 6</td>\n",
       "      <td>If you’re looking to purchase a smart watch th...</td>\n",
       "      <td>5.0</td>\n",
       "    </tr>\n",
       "    <tr>\n",
       "      <th>3</th>\n",
       "      <td>Amazfit Bip 6</td>\n",
       "      <td>This watch does well, considered the price. Th...</td>\n",
       "      <td>4.0</td>\n",
       "    </tr>\n",
       "    <tr>\n",
       "      <th>4</th>\n",
       "      <td>Amazfit Bip 6</td>\n",
       "      <td>This watch is amazing quality for the price! I...</td>\n",
       "      <td>5.0</td>\n",
       "    </tr>\n",
       "    <tr>\n",
       "      <th>...</th>\n",
       "      <td>...</td>\n",
       "      <td>...</td>\n",
       "      <td>...</td>\n",
       "    </tr>\n",
       "    <tr>\n",
       "      <th>2337</th>\n",
       "      <td>Xiaomi Redmi Watch 4</td>\n",
       "      <td>Great watch for working out and keeping track ...</td>\n",
       "      <td>5.0</td>\n",
       "    </tr>\n",
       "    <tr>\n",
       "      <th>2338</th>\n",
       "      <td>Xiaomi Redmi Watch 4</td>\n",
       "      <td>I have had a number of smartwatches including ...</td>\n",
       "      <td>4.0</td>\n",
       "    </tr>\n",
       "    <tr>\n",
       "      <th>2339</th>\n",
       "      <td>Xiaomi Redmi Watch 4</td>\n",
       "      <td>Awsome product... Good price and reabilty</td>\n",
       "      <td>5.0</td>\n",
       "    </tr>\n",
       "    <tr>\n",
       "      <th>2340</th>\n",
       "      <td>Xiaomi Redmi Watch 4</td>\n",
       "      <td>My husband used it after he got it, very relia...</td>\n",
       "      <td>5.0</td>\n",
       "    </tr>\n",
       "    <tr>\n",
       "      <th>2341</th>\n",
       "      <td>Xiaomi Redmi Watch 4</td>\n",
       "      <td>This watch is actually pretty darn good. The f...</td>\n",
       "      <td>1.0</td>\n",
       "    </tr>\n",
       "  </tbody>\n",
       "</table>\n",
       "<p>2342 rows × 3 columns</p>\n",
       "</div>"
      ],
      "text/plain": [
       "                  products                                  individual_review  \\\n",
       "0            Amazfit Bip 6  I purchased this watch to replace a dead Samsu...   \n",
       "1            Amazfit Bip 6  Pleasantly surprised. Finally, a less expensiv...   \n",
       "2            Amazfit Bip 6  If you’re looking to purchase a smart watch th...   \n",
       "3            Amazfit Bip 6  This watch does well, considered the price. Th...   \n",
       "4            Amazfit Bip 6  This watch is amazing quality for the price! I...   \n",
       "...                    ...                                                ...   \n",
       "2337  Xiaomi Redmi Watch 4  Great watch for working out and keeping track ...   \n",
       "2338  Xiaomi Redmi Watch 4  I have had a number of smartwatches including ...   \n",
       "2339  Xiaomi Redmi Watch 4          Awsome product... Good price and reabilty   \n",
       "2340  Xiaomi Redmi Watch 4  My husband used it after he got it, very relia...   \n",
       "2341  Xiaomi Redmi Watch 4  This watch is actually pretty darn good. The f...   \n",
       "\n",
       "      individual_rating  \n",
       "0                   5.0  \n",
       "1                   5.0  \n",
       "2                   5.0  \n",
       "3                   4.0  \n",
       "4                   5.0  \n",
       "...                 ...  \n",
       "2337                5.0  \n",
       "2338                4.0  \n",
       "2339                5.0  \n",
       "2340                5.0  \n",
       "2341                1.0  \n",
       "\n",
       "[2342 rows x 3 columns]"
      ]
     },
     "execution_count": 65,
     "metadata": {},
     "output_type": "execute_result"
    }
   ],
   "source": [
    "df_reviews_en"
   ]
  },
  {
   "cell_type": "code",
   "execution_count": 66,
   "id": "859a4ef2",
   "metadata": {},
   "outputs": [
    {
     "data": {
      "text/plain": [
       "1239"
      ]
     },
     "execution_count": 66,
     "metadata": {},
     "output_type": "execute_result"
    }
   ],
   "source": [
    "# Check duplicate\n",
    "df_reviews_en.duplicated().sum()"
   ]
  },
  {
   "cell_type": "code",
   "execution_count": 67,
   "id": "7914fb2b",
   "metadata": {},
   "outputs": [],
   "source": [
    "# Delete duplicate\n",
    "df_reviews_en = df_reviews_en.drop_duplicates()"
   ]
  },
  {
   "cell_type": "code",
   "execution_count": 68,
   "id": "a1a104ef",
   "metadata": {},
   "outputs": [
    {
     "name": "stdout",
     "output_type": "stream",
     "text": [
      "False\n"
     ]
    }
   ],
   "source": [
    "# Check if there is 'N/A'\n",
    "print(df_reviews_en['individual_review'].str.contains('N/A', na=False).any())"
   ]
  },
  {
   "cell_type": "markdown",
   "id": "b9d27f7c",
   "metadata": {},
   "source": [
    "Tidak ada missing value hasil scraping pada kolom review."
   ]
  },
  {
   "cell_type": "code",
   "execution_count": 69,
   "id": "0899cafa",
   "metadata": {},
   "outputs": [
    {
     "name": "stdout",
     "output_type": "stream",
     "text": [
      "<class 'pandas.core.frame.DataFrame'>\n",
      "Index: 1103 entries, 0 to 2341\n",
      "Data columns (total 3 columns):\n",
      " #   Column             Non-Null Count  Dtype  \n",
      "---  ------             --------------  -----  \n",
      " 0   products           1103 non-null   object \n",
      " 1   individual_review  1103 non-null   object \n",
      " 2   individual_rating  1103 non-null   float64\n",
      "dtypes: float64(1), object(2)\n",
      "memory usage: 34.5+ KB\n"
     ]
    }
   ],
   "source": [
    "df_reviews_en.info()"
   ]
  },
  {
   "cell_type": "code",
   "execution_count": 70,
   "id": "db14cd3b",
   "metadata": {},
   "outputs": [],
   "source": [
    "# Save data_product\n",
    "df_reviews_en.to_csv('data_review.csv', index=False)"
   ]
  },
  {
   "cell_type": "markdown",
   "id": "220fb3e2",
   "metadata": {},
   "source": [
    "file csv data review berhasil disave."
   ]
  }
 ],
 "metadata": {
  "kernelspec": {
   "display_name": "h8_env",
   "language": "python",
   "name": "python3"
  },
  "language_info": {
   "codemirror_mode": {
    "name": "ipython",
    "version": 3
   },
   "file_extension": ".py",
   "mimetype": "text/x-python",
   "name": "python",
   "nbconvert_exporter": "python",
   "pygments_lexer": "ipython3",
   "version": "3.9.23"
  }
 },
 "nbformat": 4,
 "nbformat_minor": 5
}
